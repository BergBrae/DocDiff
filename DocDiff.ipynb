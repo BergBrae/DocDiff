{
  "cells": [
    {
      "cell_type": "markdown",
      "metadata": {
        "id": "6Pr4EHnQYdhJ"
      },
      "source": [
        "*Adapted from: https://github.com/AI-Zhpp/FTN/tree/main*"
      ]
    },
    {
      "cell_type": "code",
      "execution_count": 123,
      "metadata": {
        "id": "3NYMKCdjfkTh"
      },
      "outputs": [],
      "source": [
        "# # COnnect to google drive\n",
        "\n",
        "# # set working directory\n",
        "# import os\n",
        "# os.chdir('drive/MyDrive/DocDiff/')"
      ]
    },
    {
      "cell_type": "code",
      "execution_count": 124,
      "metadata": {
        "colab": {
          "base_uri": "https://localhost:8080/",
          "height": 35
        },
        "id": "BoHrTLM8fyFm",
        "outputId": "0612ff91-12ff-406b-bb2d-72fdbd0caf8d"
      },
      "outputs": [
        {
          "data": {
            "text/plain": [
              "'c:\\\\Users\\\\bberg\\\\development\\\\DocDiffDataGen'"
            ]
          },
          "execution_count": 124,
          "metadata": {},
          "output_type": "execute_result"
        }
      ],
      "source": [
        "import os\n",
        "os.getcwd()"
      ]
    },
    {
      "cell_type": "markdown",
      "metadata": {
        "id": "Tfq1rGe4ZP7Y"
      },
      "source": [
        "# Data Loader"
      ]
    },
    {
      "cell_type": "code",
      "execution_count": 125,
      "metadata": {
        "id": "5p3g6jWSZTpD"
      },
      "outputs": [],
      "source": [
        "from torch.utils.data import Dataset\n",
        "from torchvision import transforms\n",
        "from PIL import Image\n",
        "import os\n",
        "import numpy as np\n",
        "import torch\n",
        "\n",
        "\n",
        "class MyData(Dataset):\n",
        "    def __init__(self):\n",
        "        super(MyData, self).__init__()\n",
        "        self.train_im_path1 = 'generated_data/rvl2k_thick_labels/train/A'\n",
        "        self.train_im_path2 = 'generated_data/rvl2k_thick_labels/train/B'\n",
        "        self.train_lb_path = 'generated_data/rvl2k_thick_labels/train/label'\n",
        "        self.names = os.listdir(self.train_im_path1)\n",
        "        self.train_im_num = len(self.names)\n",
        "\n",
        "    def __len__(self):\n",
        "        return self.train_im_num\n",
        "\n",
        "    def __getitem__(self, index):\n",
        "        img_file1 = os.path.join(self.train_im_path1, self.names[index])\n",
        "        img1 = Image.open(img_file1)\n",
        "        img_file2 = os.path.join(self.train_im_path2, self.names[index])\n",
        "        img2 = Image.open(img_file2)\n",
        "        label = os.path.join(self.train_lb_path, self.names[index])\n",
        "        label = Image.open(label)\n",
        "\n",
        "        im1, im2, lb0, lb1, lb2, lb3 = self.transform(img1, img2, label)\n",
        "        # lb0 = 1. - lb0[0]\n",
        "        # lb1 = 1. - lb1[0]\n",
        "        # lb2 = 1. - lb2[0]\n",
        "        # lb3 = 1. - lb3[0]\n",
        "\n",
        "        return im1, im2, lb0, lb1, lb2, lb3  # ,lb4,lb5,lb6,lb7#,edge0,edge1,edge2,edge3\n",
        "\n",
        "    def transform(self, img1, img2, label):\n",
        "        transform_img = transforms.Compose([transforms.Resize((224, 224), Image.NEAREST),\n",
        "                                            transforms.Grayscale(num_output_channels=3),\n",
        "                                            transforms.ToTensor(),\n",
        "                                            ])\n",
        "        transform_img_4 = transforms.Compose([transforms.Resize((56, 56), Image.NEAREST),\n",
        "                                              transforms.ToTensor(),\n",
        "                                              ])\n",
        "        transform_img_8 = transforms.Compose([transforms.Resize((28, 28), Image.NEAREST),\n",
        "                                              transforms.ToTensor(),\n",
        "                                              ])\n",
        "        transform_img_16 = transforms.Compose([transforms.Resize((14, 14), Image.NEAREST),\n",
        "                                               transforms.ToTensor(),\n",
        "                                               ])\n",
        "        transform_label = transforms.Compose([transforms.Resize((224, 224), Image.NEAREST),\n",
        "                                            transforms.ToTensor(),\n",
        "                                            ])\n",
        "\n",
        "        # transform_img_2 = transforms.Compose([\n",
        "        #     transforms.Resize((224, 224)),\n",
        "        #     transforms.ToTensor(),\n",
        "        #     transforms.Normalize((0.485, 0.456, 0.406), (0.229, 0.224, 0.225)),\n",
        "        # ])\n",
        "        im1 = transform_img(img1)\n",
        "        im2 = transform_img(img2) # Changed from transform_img_2 because that normalization seems dataset specific\n",
        "        label0 = transform_label(label)\n",
        "        label_4 = transform_img_4(label)\n",
        "        label_8 = transform_img_8(label)\n",
        "        label_16 = transform_img_16(label)\n",
        "        return im1, im2, label0, label_4, label_8, label_16\n",
        "\n",
        "\n",
        "class MyTestData(Dataset):\n",
        "    def __init__(self):\n",
        "        super(MyTestData, self).__init__()\n",
        "        self.train_im_path1 = 'generated_data/rvl2k_thick_labels/test/A'\n",
        "        self.train_im_path2 = 'generated_data/rvl2k_thick_labels/test/B'\n",
        "        self.train_lb_path = 'generated_data/rvl2k_thick_labels/test/label'\n",
        "        self.names = os.listdir(self.train_im_path1)\n",
        "        self.train_im_num = len(self.names)\n",
        "\n",
        "    def __len__(self):\n",
        "        return self.train_im_num\n",
        "\n",
        "    def __getitem__(self, index):\n",
        "        img_file1 = os.path.join(self.train_im_path1, self.names[index])\n",
        "        img1 = Image.open(img_file1)\n",
        "        img_file2 = os.path.join(self.train_im_path2, self.names[index])\n",
        "        img2 = Image.open(img_file2)\n",
        "        label = os.path.join(self.train_lb_path, self.names[index])\n",
        "        label = Image.open(label)\n",
        "\n",
        "        im1, im2, label = self.transform(img1, img2, label)\n",
        "        return im1, im2, label\n",
        "\n",
        "    def transform(self, img1, img2, label):\n",
        "        transform_img = transforms.Compose([transforms.Resize((224, 224), Image.NEAREST),\n",
        "                                            transforms.Grayscale(num_output_channels=3),\n",
        "                                            transforms.ToTensor(),\n",
        "                                            ])\n",
        "        transform_label = transforms.Compose([transforms.Resize((224, 224), Image.NEAREST),\n",
        "                                            transforms.ToTensor(),\n",
        "                                            ])\n",
        "        im1 = transform_img(img1)\n",
        "        im2 = transform_img(img2)\n",
        "        label = transform_label(label)\n",
        "        return im1, im2, label"
      ]
    },
    {
      "cell_type": "code",
      "execution_count": 126,
      "metadata": {
        "id": "QHgXEhX0pPjc"
      },
      "outputs": [],
      "source": [
        "test_data_loader = MyTestData()\n",
        "left, right, label = test_data_loader[46]"
      ]
    },
    {
      "cell_type": "code",
      "execution_count": 127,
      "metadata": {
        "colab": {
          "base_uri": "https://localhost:8080/"
        },
        "id": "F61CkVjrtoB3",
        "outputId": "aff57323-302a-4175-f069-67c4c775cce4"
      },
      "outputs": [
        {
          "name": "stdout",
          "output_type": "stream",
          "text": [
            "torch.Size([3, 224, 224])\n",
            "torch.Size([3, 224, 224])\n",
            "torch.Size([3, 224, 224])\n"
          ]
        }
      ],
      "source": [
        "print(left.shape)\n",
        "print(right.shape)\n",
        "print(label.shape)"
      ]
    },
    {
      "cell_type": "code",
      "execution_count": 128,
      "metadata": {
        "colab": {
          "base_uri": "https://localhost:8080/",
          "height": 241
        },
        "id": "vRYviF8OqujA",
        "outputId": "f26c71f4-148c-4b2b-8116-a3f40d41a55f"
      },
      "outputs": [
        {
          "data": {
            "image/png": "[encoded data removed]",
            "text/plain": [
              "<PIL.Image.Image image mode=RGB size=224x224>"
            ]
          },
          "execution_count": 128,
          "metadata": {},
          "output_type": "execute_result"
        }
      ],
      "source": [
        "Image.fromarray((label.numpy().transpose((1, 2, 0))*255).astype(np.uint8))"
      ]
    },
    {
      "cell_type": "code",
      "execution_count": 129,
      "metadata": {
        "colab": {
          "base_uri": "https://localhost:8080/",
          "height": 241
        },
        "id": "GrZaPAldqLcb",
        "outputId": "3d4933e5-e023-4706-8a39-f1812d0af4c5"
      },
      "outputs": [
        {
          "data": {
            "image/png": "[encoded data removed]",
            "text/plain": [
              "<PIL.Image.Image image mode=RGB size=224x224>"
            ]
          },
          "execution_count": 129,
          "metadata": {},
          "output_type": "execute_result"
        }
      ],
      "source": [
        "Image.fromarray((left.numpy().transpose((1, 2, 0))*255).astype(np.uint8))"
      ]
    },
    {
      "cell_type": "code",
      "execution_count": 130,
      "metadata": {
        "colab": {
          "base_uri": "https://localhost:8080/",
          "height": 241
        },
        "id": "noOAqn-Vqn6o",
        "outputId": "7d9e0699-ad2c-40cc-a920-ea86f76fad26"
      },
      "outputs": [
        {
          "data": {
            "image/png": "[encoded data removed]",
            "text/plain": [
              "<PIL.Image.Image image mode=RGB size=224x224>"
            ]
          },
          "execution_count": 130,
          "metadata": {},
          "output_type": "execute_result"
        }
      ],
      "source": [
        "Image.fromarray((right.numpy().transpose((1, 2, 0))*255).astype(np.uint8))"
      ]
    },
    {
      "cell_type": "markdown",
      "metadata": {
        "id": "k1yJZeGCrCoM"
      },
      "source": [
        "## Training generator"
      ]
    },
    {
      "cell_type": "code",
      "execution_count": 131,
      "metadata": {
        "id": "7BKPbTFLkzv_"
      },
      "outputs": [],
      "source": [
        "data_loader = MyData()\n",
        "left, right, lb0, lb1, lb2, lb3 = data_loader[56]\n",
        "\n",
        "left = (left.numpy().squeeze()*255).astype(np.uint8)\n",
        "right = (right.numpy().squeeze()*255).astype(np.uint8)\n",
        "label = (lb0.numpy().squeeze()*255).astype(np.uint8)\n",
        "label = label.transpose((1, 2, 0))\n",
        "left = left.transpose((1, 2, 0))\n",
        "right = right.transpose((1, 2, 0))"
      ]
    },
    {
      "cell_type": "code",
      "execution_count": 132,
      "metadata": {
        "colab": {
          "base_uri": "https://localhost:8080/",
          "height": 241
        },
        "id": "e8KUSLNUl0ye",
        "outputId": "63e8d47e-f68c-45b9-a3fc-0bde237a6ab5"
      },
      "outputs": [
        {
          "data": {
            "image/png": "[encoded data removed]",
            "text/plain": [
              "<PIL.Image.Image image mode=RGB size=224x224>"
            ]
          },
          "execution_count": 132,
          "metadata": {},
          "output_type": "execute_result"
        }
      ],
      "source": [
        "Image.fromarray(left)"
      ]
    },
    {
      "cell_type": "code",
      "execution_count": 133,
      "metadata": {
        "colab": {
          "base_uri": "https://localhost:8080/",
          "height": 241
        },
        "id": "-DQgA0P6m8Ne",
        "outputId": "72dcd70e-6546-477a-cb9d-733b14cd083f"
      },
      "outputs": [
        {
          "data": {
            "image/png": "[encoded data removed]",
            "text/plain": [
              "<PIL.Image.Image image mode=RGB size=224x224>"
            ]
          },
          "execution_count": 133,
          "metadata": {},
          "output_type": "execute_result"
        }
      ],
      "source": [
        "Image.fromarray(right)"
      ]
    },
    {
      "cell_type": "code",
      "execution_count": 134,
      "metadata": {
        "colab": {
          "base_uri": "https://localhost:8080/",
          "height": 241
        },
        "id": "3oKL3iywhiEi",
        "outputId": "667a5e2b-273a-41f3-8c68-dd1ecd0d4d51"
      },
      "outputs": [
        {
          "data": {
            "image/png": "[encoded data removed]",
            "text/plain": [
              "<PIL.Image.Image image mode=L size=224x224>"
            ]
          },
          "execution_count": 134,
          "metadata": {},
          "output_type": "execute_result"
        }
      ],
      "source": [
        "Image.fromarray(label[:,:,1])"
      ]
    },
    {
      "cell_type": "code",
      "execution_count": 135,
      "metadata": {
        "colab": {
          "base_uri": "https://localhost:8080/",
          "height": 241
        },
        "id": "uHbv6g3Bk5-D",
        "outputId": "51f8bee1-1cbf-4157-c598-fdba90e10659"
      },
      "outputs": [
        {
          "data": {
            "image/png": "[encoded data removed]",
            "text/plain": [
              "<PIL.Image.Image image mode=RGB size=224x224>"
            ]
          },
          "execution_count": 135,
          "metadata": {},
          "output_type": "execute_result"
        }
      ],
      "source": [
        "from PIL import Image\n",
        "import numpy as np\n",
        "\n",
        "Image.fromarray(label)"
      ]
    },
    {
      "cell_type": "markdown",
      "metadata": {
        "id": "LvuMSqiRYhGk"
      },
      "source": [
        "# Build Model"
      ]
    },
    {
      "cell_type": "code",
      "execution_count": 136,
      "metadata": {
        "id": "DabP1GQ4Y4fv"
      },
      "outputs": [],
      "source": [
        "import numpy as np\n",
        "import torch\n",
        "from torch import nn\n",
        "from torch.nn import init\n",
        "import math\n",
        "\n",
        "import math\n",
        "\n",
        "\n",
        "def autopad(k, p=None):  # kernel, padding\n",
        "    # Pad to 'same'\n",
        "    if p is None:\n",
        "        p = k // 2 if isinstance(k, int) else [x // 2 for x in k]  # auto-pad\n",
        "    return p\n",
        "\n",
        "\n",
        "class Conv(nn.Module):\n",
        "    # Standard convolution\n",
        "    def __init__(self, c1, c2, k=3, s=1, p=None, g=1, act=True):  # ch_in, ch_out, kernel, stride, padding, groups\n",
        "        super().__init__()\n",
        "        self.conv = nn.Conv2d(c1, c2, k, s, autopad(k, p), groups=g, bias=False)\n",
        "        self.bn = nn.BatchNorm2d(c2)\n",
        "        self.act = nn.SiLU() if act is True else (act if isinstance(act, nn.Module) else nn.Identity())\n",
        "\n",
        "    def forward(self, x):\n",
        "        return self.act(self.bn(self.conv(x)))\n",
        "\n",
        "    def fuseforward(self, x):\n",
        "        return self.act(self.conv(x))\n",
        "\n",
        "\n",
        "class CrossConv(nn.Module):\n",
        "    # Cross Convolution Downsample\n",
        "    def __init__(self, c1, c2, k=3, s=1, g=1, e=1.0, shortcut=False):\n",
        "        # ch_in, ch_out, kernel, stride, groups, expansion, shortcut\n",
        "        super().__init__()\n",
        "        c_ = int(c2 * e)  # hidden channels\n",
        "        self.cv1 = Conv(c1, c_)  # , (1, k), (1, s))\n",
        "        self.cv2 = Conv(c_, c2)  # , (k, 1), (s, 1), g=g)\n",
        "        self.add = shortcut and c1 == c2\n",
        "\n",
        "    def forward(self, x):\n",
        "        return x + self.cv2(self.cv1(x)) if self.add else self.cv2(self.cv1(x))\n",
        "\n",
        "\n",
        "class ppattention(nn.Module):\n",
        "    def __init__(self, in_planes, ratio=16):\n",
        "        super().__init__()\n",
        "        self.conv = CrossConv(2 * in_planes, in_planes)\n",
        "        self.avg_pool = nn.AdaptiveAvgPool2d(1)  # 输出最后两维1*1\n",
        "        self.max_pool = nn.AdaptiveMaxPool2d(1)\n",
        "        # b,h,w,c   ---  n*c   #n,,c,h,w   ---- n*c\n",
        "        self.fc = nn.Sequential(nn.Conv2d(in_planes, in_planes // ratio, 1, bias=False),\n",
        "                                nn.SiLU(),\n",
        "                                nn.Conv2d(in_planes // ratio, in_planes, 1, bias=False))\n",
        "        self.sigmoid = nn.Sigmoid()\n",
        "        self.bnnorm = nn.BatchNorm2d(in_planes)\n",
        "\n",
        "    def forward(self, x):\n",
        "        x = self.conv(x)  # 2-->1,CROSS CONV\n",
        "        res = x\n",
        "        avg_out = self.fc(self.avg_pool(x))\n",
        "        max_out = self.fc(self.max_pool(x))\n",
        "        out = avg_out + max_out\n",
        "        attn = self.sigmoid(out)\n",
        "        result = x * attn + res\n",
        "        return result\n",
        "\n",
        "\n",
        "class ppattention_wan(nn.Module):\n",
        "    def __init__(self, in_planes, ratio=16):\n",
        "        super().__init__()\n",
        "        self.conv = CrossConv(2 * in_planes, in_planes)\n",
        "        self.avg_pool = nn.AdaptiveAvgPool2d(1)  # 输出最后两维1*1\n",
        "        self.max_pool = nn.AdaptiveMaxPool2d(1)\n",
        "        # b,h,w,c   ---  n*c   #n,,c,h,w   ---- n*c\n",
        "        self.fc = nn.Sequential(nn.Conv2d(in_planes, in_planes // ratio, 1, bias=False),\n",
        "                                nn.SiLU(),\n",
        "                                nn.Conv2d(in_planes // ratio, in_planes, 1, bias=False))\n",
        "        self.fc2 = nn.Conv2d(1, 1, 1, bias=False)\n",
        "        self.sigmoid = nn.Sigmoid()\n",
        "        self.bnnorm = nn.BatchNorm2d(in_planes)\n",
        "\n",
        "    def forward(self, x):\n",
        "        x = self.conv(x)  # 2-->1,CROSS CONV\n",
        "        res = x\n",
        "        avg_out = self.fc(self.avg_pool(x))\n",
        "        # max_out = self.fc(self.max_pool(x))\n",
        "        # out = avg_out + max_out\n",
        "        attn = self.sigmoid(avg_out)\n",
        "        x_channel_summation = torch.sum(x, dim=1, keepdim=True)\n",
        "        attn_channel_summation = self.sigmoid(self.fc2(x_channel_summation))\n",
        "        result = x * attn + res + attn_channel_summation * res\n",
        "        return result\n",
        "\n",
        "\n",
        "class DFE(nn.Module):\n",
        "    def __init__(self, in_planes):\n",
        "        super().__init__()\n",
        "        self.fc = nn.Sequential(nn.Conv2d(in_planes, in_planes // 2, 1, bias=False),\n",
        "                                nn.BatchNorm2d(in_planes // 2),\n",
        "                                nn.SiLU())\n",
        "\n",
        "    def forward(self, x):\n",
        "        result = self.fc(x)\n",
        "        return result\n",
        "\n",
        "\n",
        "class YTYAttention(nn.Module):\n",
        "\n",
        "    def __init__(self, channel=512, reduction=16, im_channel=49):\n",
        "        super().__init__()\n",
        "        self.avg_pool = nn.AdaptiveAvgPool2d(1)\n",
        "        self.fc = nn.Sequential(\n",
        "            nn.Linear(channel, channel // reduction, bias=False),\n",
        "            nn.SiLU(),\n",
        "            nn.Linear(channel // reduction, channel, bias=False),\n",
        "        )\n",
        "        self.sigmoid = nn.Sigmoid()\n",
        "        self.fc1 = nn.Linear(im_channel, 1, bias=False)\n",
        "        self.fc2 = nn.Linear(im_channel, 1, bias=False)\n",
        "\n",
        "    def init_weights(self):\n",
        "        for m in self.modules():\n",
        "            if isinstance(m, nn.Conv2d):\n",
        "                init.kaiming_normal_(m.weight, mode='fan_out')\n",
        "                if m.bias is not None:\n",
        "                    init.constant_(m.bias, 0)\n",
        "            elif isinstance(m, nn.BatchNorm2d):\n",
        "                init.constant_(m.weight, 1)\n",
        "                init.constant_(m.bias, 0)\n",
        "            elif isinstance(m, nn.Linear):\n",
        "                init.normal_(m.weight, std=0.001)\n",
        "                if m.bias is not None:\n",
        "                    init.constant_(m.bias, 0)\n",
        "\n",
        "    def forward(self, im1, im2):\n",
        "        # b, c, _, _ = x.size()\n",
        "        img = torch.cat([im1, im2], dim=2)\n",
        "        origin = img\n",
        "        im1 = im1.transpose(1, 2)\n",
        "        im2 = im2.transpose(1, 2)\n",
        "        im1 = self.fc1(im1)  # 1,512,1\n",
        "        im2 = self.fc2(im2)  # 1,512,1\n",
        "\n",
        "        im = torch.cat([im1, im2], dim=2)  # 1,512,2\n",
        "        im = torch.transpose(im, 1, 2)  # 1,2,512\n",
        "        im = self.fc(im)  # 1,2,512\n",
        "        im1 = im[:, 0, :].unsqueeze(1)\n",
        "        im2 = im[:, 1, :].unsqueeze(1)\n",
        "        im = torch.cat([im1, im2], dim=2)\n",
        "        im = im.transpose(1, 2)\n",
        "        im = self.sigmoid(im)\n",
        "        img = img.transpose(1, 2)\n",
        "        res = img * im.expand_as(img)\n",
        "        res = res.transpose(1, 2)\n",
        "        return res\n",
        "\n",
        "\n",
        "class TYAttention(nn.Module):\n",
        "    def __init__(self, in_channel=1024, im_channel=49, gamma=2, b=1):\n",
        "        super().__init__()\n",
        "        self.fc1 = nn.Linear(im_channel, 1, bias=False)\n",
        "        self.fc2 = nn.Linear(im_channel, 1, bias=False)\n",
        "        self.SiLU = nn.SiLU()\n",
        "        self.bn = nn.BatchNorm1d(2)\n",
        "        self.gamma = gamma\n",
        "        self.b = b\n",
        "        self.sigmoid = nn.Sigmoid()\n",
        "        self.in_channel = in_channel\n",
        "        t = int(abs((math.log(self.in_channel, 2) + self.b) / self.gamma))\n",
        "        k = t if t % 2 else t + 1\n",
        "        self.conv = nn.Conv1d(2, 2, kernel_size=k, padding=int(k / 2), bias=False)\n",
        "        self.conv2 = nn.Conv1d(2, 2, kernel_size=k, padding=int(k / 2), bias=False)\n",
        "\n",
        "    def init_weights(self):\n",
        "        for m in self.modules():\n",
        "            if isinstance(m, nn.Conv1d):\n",
        "                init.kaiming_normal_(m.weight, mode='fan_out')\n",
        "                if m.bias is not None:\n",
        "                    init.constant_(m.bias, 0)\n",
        "            elif isinstance(m, nn.BatchNorm2d):\n",
        "                init.constant_(m.weight, 1)\n",
        "                init.constant_(m.bias, 0)\n",
        "            elif isinstance(m, nn.Linear):\n",
        "                init.normal_(m.weight, std=0.001)\n",
        "                if m.bias is not None:\n",
        "                    init.constant_(m.bias, 0)\n",
        "\n",
        "    def forward(self, im1, im2):\n",
        "        img = torch.cat([im1, im1], dim=2)  # B,49,2048\n",
        "        img = img.transpose(1, 2)\n",
        "        origin = img\n",
        "        im1 = im1.transpose(-1, -2)  # B,1024,49\n",
        "        im2 = im2.transpose(-1, -2)\n",
        "\n",
        "        im1 = self.fc1(im1)  # B,1024,1\n",
        "        im2 = self.fc2(im2)\n",
        "        im = torch.cat([im1, im2], dim=2)  # B,1024,2\n",
        "        im = self.conv(im.transpose(-1, -2))  # B,2,1024\n",
        "        im = self.SiLU(im)\n",
        "        # im = self.bn(im)\n",
        "        im = self.conv2(im)\n",
        "        im1 = im[:, 0, :].unsqueeze(1)\n",
        "        im2 = im[:, 1, :].unsqueeze(1)\n",
        "        im = torch.cat([im1, im2], dim=2)  # B,1,2048\n",
        "        im = im.transpose(1, 2)\n",
        "        im = self.sigmoid(im)\n",
        "        res = img * im.expand_as(img) + origin\n",
        "        return res.transpose(1, 2)\n",
        "\n",
        "\n",
        "class ChannelAttention(nn.Module):\n",
        "    def __init__(self, in_planes, ratio=16):\n",
        "        super(ChannelAttention, self).__init__()\n",
        "        self.conv = nn.Conv2d(3 * in_planes, in_planes, 1, 1, 0)\n",
        "        self.bn = nn.BatchNorm2d(in_planes)\n",
        "        self.SiLU = nn.SiLU()\n",
        "        self.avg_pool = nn.AdaptiveAvgPool2d(1)  # 输出最后两维1*1\n",
        "        self.max_pool = nn.AdaptiveMaxPool2d(1)\n",
        "\n",
        "        self.fc = nn.Sequential(nn.Conv2d(in_planes, in_planes // ratio, 1, bias=False),\n",
        "                                nn.SiLU(),\n",
        "                                nn.Conv2d(in_planes // ratio, in_planes, 1, bias=False))\n",
        "        self.sigmoid = nn.Sigmoid()\n",
        "        self.bnnorm = nn.BatchNorm2d(in_planes)\n",
        "\n",
        "    def forward(self, x):\n",
        "        x = self.conv(x)  # 2-1\n",
        "        x = self.bn(x)\n",
        "        x = self.SiLU(x)\n",
        "        res = x\n",
        "        avg_out = self.fc(self.avg_pool(x))\n",
        "        max_out = self.fc(self.max_pool(x))\n",
        "        out = avg_out + max_out\n",
        "        attn = self.sigmoid(out)\n",
        "        out = x * attn + res\n",
        "        return out\n",
        "\n",
        "\n",
        "class ChannelAttention_1(nn.Module):\n",
        "    def __init__(self, in_planes, ratio=16):\n",
        "        super(ChannelAttention_1, self).__init__()\n",
        "        self.conv = nn.Conv2d(2 * in_planes, in_planes, 3, 1, 1)\n",
        "        self.bn = nn.BatchNorm2d(in_planes)\n",
        "        self.SiLU = nn.SiLU()\n",
        "        self.avg_pool = nn.AdaptiveAvgPool2d(1)  # 输出最后两维1*1\n",
        "        self.max_pool = nn.AdaptiveMaxPool2d(1)\n",
        "\n",
        "        self.fc = nn.Sequential(nn.Conv2d(in_planes, in_planes // 16, 1, bias=False),\n",
        "                                nn.SiLU(),\n",
        "                                nn.Conv2d(in_planes // 16, in_planes, 1, bias=False))\n",
        "        self.sigmoid = nn.Sigmoid()\n",
        "\n",
        "    def forward(self, x):\n",
        "        x = self.conv(x)\n",
        "        x = self.bn(x)\n",
        "        x = self.SiLU(x)\n",
        "        res = x\n",
        "        avg_out = self.fc(self.avg_pool(x))\n",
        "        max_out = self.fc(self.max_pool(x))\n",
        "        out = avg_out + max_out\n",
        "        result = x * self.sigmoid(out) + res\n",
        "        return result\n",
        "\n",
        "\n",
        "class SpatialAttention(nn.Module):\n",
        "    def __init__(self, kernel_size=7):\n",
        "        super(SpatialAttention, self).__init__()\n",
        "\n",
        "        self.conv1 = nn.Conv2d(2, 1, kernel_size, padding=kernel_size // 2, bias=False)\n",
        "        self.sigmoid = nn.Sigmoid()\n",
        "\n",
        "    def forward(self, x):\n",
        "        avg_out = torch.mean(x, dim=1, keepdim=True)\n",
        "        max_out, _ = torch.max(x, dim=1, keepdim=True)\n",
        "        x = torch.cat([avg_out, max_out], dim=1)\n",
        "        x = self.conv1(x)\n",
        "        return self.sigmoid(x)\n",
        "\n",
        "\n",
        "class CBAM(nn.Module):\n",
        "    def __init__(self, in_planes):\n",
        "        super(CBAM, self).__init__()\n",
        "        self.channelattention = ChannelAttention_1(in_planes)\n",
        "        self.spatialattention = SpatialAttention()\n",
        "\n",
        "    def transpose(self, x):\n",
        "        B, HW, C = x.size()\n",
        "        H = int(math.sqrt(HW))\n",
        "        x = x.transpose(1, 2)\n",
        "        x = x.view(B, C, H, H)\n",
        "        return x\n",
        "\n",
        "    def transpose_verse(self, x):\n",
        "        B, C, H, W = x.size()\n",
        "        HW = H * W\n",
        "        x = x.view(B, C, HW)\n",
        "        x = x.transpose(1, 2)\n",
        "        return x\n",
        "\n",
        "    def forward(self, x1, x2):\n",
        "        x1 = self.transpose(x1)\n",
        "        x2 = self.transpose(x2)\n",
        "        x = torch.cat([x1, x2], dim=1)\n",
        "\n",
        "        channel_attn = self.channelattention(x)\n",
        "        x1 = x1 * channel_attn\n",
        "        x2 = x2 * channel_attn\n",
        "        x1 = self.transpose_verse(x1)\n",
        "        x2 = self.transpose_verse(x2)\n",
        "        return x1, x2\n",
        "\n",
        "\n",
        "class MixConv2d(nn.Module):\n",
        "    # Mixed Depthwise Conv https://arxiv.org/abs/1907.09595\n",
        "    def __init__(self, c1, c2, k=(1, 3, 5, 7), s=1, equal_ch=True):\n",
        "        super().__init__()\n",
        "        groups = len(k)\n",
        "        if equal_ch:  # equal c_ per group\n",
        "            i = torch.linspace(0, groups - 1E-6, c2).floor()  # c2 indices\n",
        "            c_ = [(i == g).sum() for g in range(groups)]  # intermediate channels\n",
        "        else:  # equal weight.numel() per group\n",
        "            b = [c2] + [0] * groups\n",
        "            a = np.eye(groups + 1, groups, k=-1)\n",
        "            a -= np.roll(a, 1, axis=1)\n",
        "            a *= np.array(k) ** 2\n",
        "            a[0] = 1\n",
        "            c_ = np.linalg.lstsq(a, b, rcond=None)[0].round()  # solve for equal weight indices, ax = b\n",
        "\n",
        "        self.m = nn.ModuleList([nn.Conv2d(c1, int(c_[g]), k[g], s, k[g] // 2, bias=False) for g in range(groups)])\n",
        "        self.bn = nn.BatchNorm2d(c2)\n",
        "        self.act = nn.SiLU()\n",
        "\n",
        "    def forward(self, x):\n",
        "        return self.act(self.bn(torch.cat([m(x) for m in self.m], 1)))"
      ]
    },
    {
      "cell_type": "code",
      "execution_count": 137,
      "metadata": {
        "id": "t1XURE8gYg5n"
      },
      "outputs": [],
      "source": [
        "import torch.nn as nn\n",
        "import torch.utils.checkpoint as checkpoint\n",
        "from einops import rearrange\n",
        "from timm.models.layers import DropPath, to_2tuple, trunc_normal_\n",
        "import copy\n",
        "# from YTYAttention import *\n",
        "\n",
        "\n",
        "class Mlp(nn.Module):\n",
        "    def __init__(self, in_features, hidden_features=None, out_features=None, act_layer=nn.GELU, drop=0.):\n",
        "        super().__init__()\n",
        "        out_features = out_features or in_features\n",
        "        hidden_features = hidden_features or in_features\n",
        "        self.fc1 = nn.Linear(in_features, hidden_features)\n",
        "        self.act = act_layer()\n",
        "        self.fc2 = nn.Linear(hidden_features, out_features)\n",
        "        self.drop = nn.Dropout(drop)\n",
        "\n",
        "    def forward(self, x):\n",
        "        x = self.fc1(x)\n",
        "        x = self.act(x)\n",
        "        x = self.drop(x)\n",
        "        x = self.fc2(x)\n",
        "        x = self.drop(x)\n",
        "        return x\n",
        "\n",
        "\n",
        "def window_partition(x, window_size):\n",
        "    \"\"\"\n",
        "    Args:\n",
        "        x: (B, H, W, C)\n",
        "        window_size (int): window size\n",
        "\n",
        "    Returns:\n",
        "        windows: (num_windows*B, window_size, window_size, C)\n",
        "    \"\"\"\n",
        "    B, H, W, C = x.shape\n",
        "    x = x.view(B, H // window_size, window_size, W // window_size, window_size, C)  # 如果换成384输入，这里无法被整除\n",
        "    windows = x.permute(0, 1, 3, 2, 4, 5).contiguous().view(-1, window_size, window_size, C)\n",
        "    return windows\n",
        "\n",
        "\n",
        "def window_reverse(windows, window_size, H, W):\n",
        "    \"\"\"\n",
        "    Args:\n",
        "        windows: (num_windows*B, window_size, window_size, C)\n",
        "        window_size (int): Window size\n",
        "        H (int): Height of image\n",
        "        W (int): Width of image\n",
        "\n",
        "    Returns:\n",
        "        x: (B, H, W, C)\n",
        "    \"\"\"\n",
        "    B = int(windows.shape[0] / (H * W / window_size / window_size))\n",
        "    x = windows.view(B, H // window_size, W // window_size, window_size, window_size, -1)\n",
        "    x = x.permute(0, 1, 3, 2, 4, 5).contiguous().view(B, H, W, -1)\n",
        "    return x\n",
        "\n",
        "\n",
        "class WindowAttention(nn.Module):\n",
        "    r\"\"\" Window based multi-head self attention (W-MSA) module with relative position bias.\n",
        "    It supports both of shifted and non-shifted window.\n",
        "\n",
        "    Args:\n",
        "        dim (int): Number of input channels.\n",
        "        window_size (tuple[int]): The height and width of the window.\n",
        "        num_heads (int): Number of attention heads.\n",
        "        qkv_bias (bool, optional):  If True, add a learnable bias to query, key, value. Default: True\n",
        "        qk_scale (float | None, optional): Override default qk scale of head_dim ** -0.5 if set\n",
        "        attn_drop (float, optional): Dropout ratio of attention weight. Default: 0.0\n",
        "        proj_drop (float, optional): Dropout ratio of output. Default: 0.0\n",
        "    \"\"\"\n",
        "\n",
        "    def __init__(self, dim, window_size, num_heads, qkv_bias=True, qk_scale=None, attn_drop=0., proj_drop=0.):\n",
        "\n",
        "        super().__init__()\n",
        "        self.dim = dim\n",
        "        self.window_size = window_size  # Wh, Ww\n",
        "        self.num_heads = num_heads\n",
        "        head_dim = dim // num_heads\n",
        "        self.scale = qk_scale or head_dim ** -0.5\n",
        "\n",
        "        # define a parameter table of relative position bias\n",
        "        self.relative_position_bias_table = nn.Parameter(\n",
        "            torch.zeros((2 * window_size[0] - 1) * (2 * window_size[1] - 1), num_heads))  # 2*Wh-1 * 2*Ww-1, nH\n",
        "\n",
        "        # get pair-wise relative position index for each token inside the window\n",
        "        coords_h = torch.arange(self.window_size[0])\n",
        "        coords_w = torch.arange(self.window_size[1])\n",
        "        coords = torch.stack(torch.meshgrid([coords_h, coords_w]))  # 2, Wh, Ww\n",
        "        coords_flatten = torch.flatten(coords, 1)  # 2, Wh*Ww\n",
        "        relative_coords = coords_flatten[:, :, None] - coords_flatten[:, None, :]  # 2, Wh*Ww, Wh*Ww\n",
        "        relative_coords = relative_coords.permute(1, 2, 0).contiguous()  # Wh*Ww, Wh*Ww, 2\n",
        "        relative_coords[:, :, 0] += self.window_size[0] - 1  # shift to start from 0\n",
        "        relative_coords[:, :, 1] += self.window_size[1] - 1\n",
        "        relative_coords[:, :, 0] *= 2 * self.window_size[1] - 1\n",
        "        relative_position_index = relative_coords.sum(-1)  # Wh*Ww, Wh*Ww\n",
        "        self.register_buffer(\"relative_position_index\", relative_position_index)\n",
        "\n",
        "        self.qkv = nn.Linear(dim, dim * 3, bias=qkv_bias)\n",
        "        self.attn_drop = nn.Dropout(attn_drop)\n",
        "        self.proj = nn.Linear(dim, dim)\n",
        "        self.proj_drop = nn.Dropout(proj_drop)\n",
        "\n",
        "        trunc_normal_(self.relative_position_bias_table, std=.02)\n",
        "        self.softmax = nn.Softmax(dim=-1)\n",
        "\n",
        "    def forward(self, x, mask=None):\n",
        "        \"\"\"\n",
        "        Args:\n",
        "            x: input features with shape of (num_windows*B, N, C)\n",
        "            mask: (0/-inf) mask with shape of (num_windows, Wh*Ww, Wh*Ww) or None\n",
        "        \"\"\"\n",
        "        B_, N, C = x.shape\n",
        "        qkv = self.qkv(x).reshape(B_, N, 3, self.num_heads, C // self.num_heads).permute(2, 0, 3, 1, 4)\n",
        "        q, k, v = qkv[0], qkv[1], qkv[2]  # make torchscript happy (cannot use tensor as tuple)\n",
        "\n",
        "        q = q * self.scale\n",
        "        attn = (q @ k.transpose(-2, -1))\n",
        "\n",
        "        relative_position_bias = self.relative_position_bias_table[self.relative_position_index.view(-1)].view(\n",
        "            self.window_size[0] * self.window_size[1], self.window_size[0] * self.window_size[1], -1)  # Wh*Ww,Wh*Ww,nH\n",
        "        relative_position_bias = relative_position_bias.permute(2, 0, 1).contiguous()  # nH, Wh*Ww, Wh*Ww\n",
        "        attn = attn + relative_position_bias.unsqueeze(0)\n",
        "\n",
        "        if mask is not None:\n",
        "            nW = mask.shape[0]\n",
        "            attn = attn.view(B_ // nW, nW, self.num_heads, N, N) + mask.unsqueeze(1).unsqueeze(0)\n",
        "            attn = attn.view(-1, self.num_heads, N, N)\n",
        "            attn = self.softmax(attn)\n",
        "        else:\n",
        "            attn = self.softmax(attn)\n",
        "\n",
        "        attn = self.attn_drop(attn)\n",
        "\n",
        "        x = (attn @ v).transpose(1, 2).reshape(B_, N, C)\n",
        "        x = self.proj(x)\n",
        "        x = self.proj_drop(x)\n",
        "        return x\n",
        "\n",
        "    def extra_repr(self) -> str:\n",
        "        return f'dim={self.dim}, window_size={self.window_size}, num_heads={self.num_heads}'\n",
        "\n",
        "    def flops(self, N):\n",
        "        # calculate flops for 1 window with token length of N\n",
        "        flops = 0\n",
        "        # qkv = self.qkv(x)\n",
        "        flops += N * self.dim * 3 * self.dim\n",
        "        # attn = (q @ k.transpose(-2, -1))\n",
        "        flops += self.num_heads * N * (self.dim // self.num_heads) * N\n",
        "        #  x = (attn @ v)\n",
        "        flops += self.num_heads * N * N * (self.dim // self.num_heads)\n",
        "        # x = self.proj(x)\n",
        "        flops += N * self.dim * self.dim\n",
        "        return flops\n",
        "\n",
        "\n",
        "class SwinTransformerBlock(nn.Module):\n",
        "    r\"\"\" Swin Transformer Block.\n",
        "\n",
        "    Args:\n",
        "        dim (int): Number of input channels.\n",
        "        input_resolution (tuple[int]): Input resulotion.\n",
        "        num_heads (int): Number of attention heads.\n",
        "        window_size (int): Window size.\n",
        "        shift_size (int): Shift size for SW-MSA.\n",
        "        mlp_ratio (float): Ratio of mlp hidden dim to embedding dim.\n",
        "        qkv_bias (bool, optional): If True, add a learnable bias to query, key, value. Default: True\n",
        "        qk_scale (float | None, optional): Override default qk scale of head_dim ** -0.5 if set.\n",
        "        drop (float, optional): Dropout rate. Default: 0.0\n",
        "        attn_drop (float, optional): Attention dropout rate. Default: 0.0\n",
        "        drop_path (float, optional): Stochastic depth rate. Default: 0.0\n",
        "        act_layer (nn.Module, optional): Activation layer. Default: nn.GELU\n",
        "        norm_layer (nn.Module, optional): Normalization layer.  Default: nn.LayerNorm\n",
        "    \"\"\"\n",
        "\n",
        "    def __init__(self, dim, input_resolution, num_heads, window_size=7, shift_size=0,\n",
        "                 mlp_ratio=4., qkv_bias=True, qk_scale=None, drop=0., attn_drop=0., drop_path=0.,\n",
        "                 act_layer=nn.GELU, norm_layer=nn.LayerNorm):\n",
        "        super().__init__()\n",
        "        self.dim = dim\n",
        "        self.input_resolution = input_resolution\n",
        "        self.num_heads = num_heads\n",
        "        self.window_size = window_size\n",
        "        self.shift_size = shift_size\n",
        "        self.mlp_ratio = mlp_ratio\n",
        "        if min(self.input_resolution) <= self.window_size:\n",
        "            # if window size is larger than input resolution, we don't partition windows\n",
        "            self.shift_size = 0\n",
        "            self.window_size = min(self.input_resolution)\n",
        "        assert 0 <= self.shift_size < self.window_size, \"shift_size must in 0-window_size\"\n",
        "\n",
        "        self.norm1 = norm_layer(dim)\n",
        "        self.attn = WindowAttention(\n",
        "            dim, window_size=to_2tuple(self.window_size), num_heads=num_heads,\n",
        "            qkv_bias=qkv_bias, qk_scale=qk_scale, attn_drop=attn_drop, proj_drop=drop)\n",
        "\n",
        "        self.drop_path = DropPath(drop_path) if drop_path > 0. else nn.Identity()\n",
        "        self.norm2 = norm_layer(dim)\n",
        "        mlp_hidden_dim = int(dim * mlp_ratio)\n",
        "        self.mlp = Mlp(in_features=dim, hidden_features=mlp_hidden_dim, act_layer=act_layer, drop=drop)\n",
        "\n",
        "        if self.shift_size > 0:\n",
        "            # calculate attention mask for SW-MSA\n",
        "            H, W = self.input_resolution\n",
        "            img_mask = torch.zeros((1, H, W, 1))  # 1 H W 1\n",
        "            h_slices = (slice(0, -self.window_size),\n",
        "                        slice(-self.window_size, -self.shift_size),\n",
        "                        slice(-self.shift_size, None))\n",
        "            w_slices = (slice(0, -self.window_size),\n",
        "                        slice(-self.window_size, -self.shift_size),\n",
        "                        slice(-self.shift_size, None))\n",
        "            cnt = 0\n",
        "            for h in h_slices:\n",
        "                for w in w_slices:\n",
        "                    img_mask[:, h, w, :] = cnt\n",
        "                    cnt += 1\n",
        "\n",
        "            mask_windows = window_partition(img_mask, self.window_size)  # nW, window_size, window_size, 1\n",
        "            mask_windows = mask_windows.view(-1, self.window_size * self.window_size)\n",
        "            attn_mask = mask_windows.unsqueeze(1) - mask_windows.unsqueeze(2)\n",
        "            attn_mask = attn_mask.masked_fill(attn_mask != 0, float(-100.0)).masked_fill(attn_mask == 0, float(0.0))\n",
        "        else:\n",
        "            attn_mask = None\n",
        "\n",
        "        self.register_buffer(\"attn_mask\", attn_mask)\n",
        "\n",
        "    def forward(self, x):\n",
        "        H, W = self.input_resolution\n",
        "        B, L, C = x.shape\n",
        "        assert L == H * W, \"input feature has wrong size\"\n",
        "\n",
        "        shortcut = x\n",
        "        x = self.norm1(x)\n",
        "        x = x.view(B, H, W, C)\n",
        "\n",
        "        # cyclic shift\n",
        "        if self.shift_size > 0:\n",
        "            shifted_x = torch.roll(x, shifts=(-self.shift_size, -self.shift_size), dims=(1, 2))\n",
        "        else:\n",
        "            shifted_x = x\n",
        "\n",
        "        # partition windows\n",
        "        x_windows = window_partition(shifted_x, self.window_size)  # nW*B, window_size, window_size, C\n",
        "        x_windows = x_windows.view(-1, self.window_size * self.window_size, C)  # nW*B, window_size*window_size, C\n",
        "\n",
        "        # W-MSA/SW-MSA\n",
        "        attn_windows = self.attn(x_windows, mask=self.attn_mask)  # nW*B, window_size*window_size, C\n",
        "\n",
        "        # merge windows\n",
        "        attn_windows = attn_windows.view(-1, self.window_size, self.window_size, C)\n",
        "        shifted_x = window_reverse(attn_windows, self.window_size, H, W)  # B H' W' C\n",
        "\n",
        "        # reverse cyclic shift\n",
        "        if self.shift_size > 0:\n",
        "            x = torch.roll(shifted_x, shifts=(self.shift_size, self.shift_size), dims=(1, 2))\n",
        "        else:\n",
        "            x = shifted_x\n",
        "        x = x.view(B, H * W, C)\n",
        "\n",
        "        # FFN\n",
        "        x = shortcut + self.drop_path(x)\n",
        "        x = x + self.drop_path(self.mlp(self.norm2(x)))\n",
        "\n",
        "        return x\n",
        "\n",
        "    def extra_repr(self) -> str:\n",
        "        return f\"dim={self.dim}, input_resolution={self.input_resolution}, num_heads={self.num_heads}, \" \\\n",
        "               f\"window_size={self.window_size}, shift_size={self.shift_size}, mlp_ratio={self.mlp_ratio}\"\n",
        "\n",
        "    def flops(self):\n",
        "        flops = 0\n",
        "        H, W = self.input_resolution\n",
        "        # norm1\n",
        "        flops += self.dim * H * W\n",
        "        # W-MSA/SW-MSA\n",
        "        nW = H * W / self.window_size / self.window_size\n",
        "        flops += nW * self.attn.flops(self.window_size * self.window_size)\n",
        "        # mlp\n",
        "        flops += 2 * H * W * self.dim * self.dim * self.mlp_ratio\n",
        "        # norm2\n",
        "        flops += self.dim * H * W\n",
        "        return flops\n",
        "\n",
        "\n",
        "class PatchEmbed(nn.Module):\n",
        "    r\"\"\" Image to Patch Embedding\n",
        "\n",
        "    Args:\n",
        "        img_size (int): Image size.  Default: 224.\n",
        "        patch_size (int): Patch token size. Default: 4.\n",
        "        in_chans (int): Number of input image channels. Default: 3.\n",
        "        embed_dim (int): Number of linear projection output channels. Default: 96.\n",
        "        norm_layer (nn.Module, optional): Normalization layer. Default: None\n",
        "    \"\"\"\n",
        "\n",
        "    def __init__(self, img_size=256, patch_size=4, in_chans=3, embed_dim=96, norm_layer=None):\n",
        "        super().__init__()\n",
        "        img_size = to_2tuple(img_size)  # 变成(224, 224)\n",
        "        patch_size = to_2tuple(patch_size)\n",
        "        patches_resolution = [img_size[0] // patch_size[0], img_size[1] // patch_size[1]]  # 整数除法\n",
        "        self.img_size = img_size\n",
        "        self.patch_size = patch_size\n",
        "        self.patches_resolution = patches_resolution\n",
        "        self.num_patches = patches_resolution[0] * patches_resolution[1]\n",
        "\n",
        "        self.in_chans = in_chans\n",
        "        self.embed_dim = embed_dim  # dim=96 Swin-T Swin-S的配置\n",
        "\n",
        "        self.proj = nn.Conv2d(in_chans, embed_dim, kernel_size=patch_size, stride=patch_size)\n",
        "        if norm_layer is not None:\n",
        "            self.norm = norm_layer(embed_dim)\n",
        "        else:\n",
        "            self.norm = None\n",
        "\n",
        "    def forward(self, x):\n",
        "        B, C, H, W = x.shape\n",
        "        # FIXME look at relaxing size constraints\n",
        "        assert H == self.img_size[0] and W == self.img_size[1], \\\n",
        "            f\"Input image size ({H}*{W}) doesn't match model ({self.img_size[0]}*{self.img_size[1]}).\"\n",
        "        x = self.proj(x).flatten(2).transpose(1, 2)  # B Ph*Pw C\n",
        "        if self.norm is not None:\n",
        "            x = self.norm(x)\n",
        "        return x\n",
        "\n",
        "    def flops(self):\n",
        "        Ho, Wo = self.patches_resolution\n",
        "        flops = Ho * Wo * self.embed_dim * self.in_chans * (self.patch_size[0] * self.patch_size[1])\n",
        "        if self.norm is not None:\n",
        "            flops += Ho * Wo * self.embed_dim\n",
        "        return flops\n",
        "\n",
        "\n",
        "class PatchMerging(nn.Module):\n",
        "    r\"\"\" Patch Merging Layer.\n",
        "\n",
        "    Args:\n",
        "        input_resolution (tuple[int]): Resolution of input feature.\n",
        "        dim (int): Number of input channels.\n",
        "        norm_layer (nn.Module, optional): Normalization layer.  Default: nn.LayerNorm\n",
        "    \"\"\"\n",
        "\n",
        "    def __init__(self, input_resolution, dim, norm_layer=nn.LayerNorm):\n",
        "        super().__init__()\n",
        "        self.input_resolution = input_resolution\n",
        "        self.dim = dim\n",
        "        self.reduction = nn.Linear(4 * dim, 2 * dim, bias=False)\n",
        "        self.norm = norm_layer(4 * dim)\n",
        "\n",
        "    def forward(self, x):\n",
        "        \"\"\"\n",
        "        x: B, H*W, C\n",
        "        \"\"\"\n",
        "        H, W = self.input_resolution\n",
        "        B, L, C = x.shape\n",
        "        assert L == H * W, \"input feature has wrong size\"\n",
        "        assert H % 2 == 0 and W % 2 == 0, f\"x size ({H}*{W}) are not even.\"\n",
        "\n",
        "        x = x.view(B, H, W, C)\n",
        "\n",
        "        x0 = x[:, 0::2, 0::2, :]  # B H/2 W/2 C\n",
        "        x1 = x[:, 1::2, 0::2, :]  # B H/2 W/2 C\n",
        "        x2 = x[:, 0::2, 1::2, :]  # B H/2 W/2 C\n",
        "        x3 = x[:, 1::2, 1::2, :]  # B H/2 W/2 C\n",
        "        x = torch.cat([x0, x1, x2, x3], -1)  # B H/2 W/2 4*C\n",
        "        x = x.view(B, -1, 4 * C)  # B H/2*W/2 4*C\n",
        "\n",
        "        x = self.norm(x)\n",
        "        x = self.reduction(x)\n",
        "\n",
        "        return x\n",
        "\n",
        "    def extra_repr(self) -> str:\n",
        "        return f\"input_resolution={self.input_resolution}, dim={self.dim}\"\n",
        "\n",
        "    def flops(self):\n",
        "        H, W = self.input_resolution\n",
        "        flops = H * W * self.dim\n",
        "        flops += (H // 2) * (W // 2) * 4 * self.dim * 2 * self.dim\n",
        "        return flops\n",
        "\n",
        "\n",
        "class PatchExpand(nn.Module):\n",
        "    def __init__(self, input_resolution, dim, dim_scale=2, norm_layer=nn.LayerNorm):\n",
        "        super().__init__()\n",
        "        self.input_resolution = input_resolution\n",
        "        self.dim = dim\n",
        "        self.expand = nn.Linear(dim, 2 * dim, bias=False) if dim_scale == 2 else nn.Identity()\n",
        "        self.norm = norm_layer(dim // dim_scale)\n",
        "\n",
        "    def forward(self, x):\n",
        "        \"\"\"\n",
        "        x: B, H*W, C\n",
        "        \"\"\"\n",
        "        H, W = self.input_resolution\n",
        "        x = self.expand(x)\n",
        "        B, L, C = x.shape\n",
        "        assert L == H * W, \"input feature has wrong size\"\n",
        "\n",
        "        x = x.view(B, H, W, C)\n",
        "        x = rearrange(x, 'b h w (p1 p2 c)-> b (h p1) (w p2) c', p1=2, p2=2, c=C // 4)\n",
        "        x = x.view(B, -1, C // 4)\n",
        "        x = self.norm(x)\n",
        "\n",
        "        return x\n",
        "\n",
        "\n",
        "class FinalPatchExpand_X4(nn.Module):\n",
        "    def __init__(self, input_resolution, dim, dim_scale=4, norm_layer=nn.LayerNorm, patchsize=4):\n",
        "        super().__init__()\n",
        "        self.input_resolution = input_resolution\n",
        "        self.dim = dim\n",
        "        self.dim_scale = dim_scale\n",
        "        self.expand = nn.Linear(dim, patchsize * patchsize * dim, bias=False)\n",
        "        self.output_dim = dim\n",
        "        self.norm = norm_layer(self.output_dim)\n",
        "\n",
        "    def forward(self, x):\n",
        "        \"\"\"\n",
        "        x: B, H*W, C\n",
        "        \"\"\"\n",
        "        H, W = self.input_resolution\n",
        "        x = self.expand(x)\n",
        "        B, L, C = x.shape\n",
        "        assert L == H * W, \"input feature has wrong size\"\n",
        "\n",
        "        x = x.view(B, H, W, C)\n",
        "        x = rearrange(x, 'b h w (p1 p2 c)-> b (h p1) (w p2) c', p1=self.dim_scale, p2=self.dim_scale,\n",
        "                      c=C // (self.dim_scale ** 2))\n",
        "        x = x.view(B, -1, self.output_dim)\n",
        "        x = self.norm(x)\n",
        "\n",
        "        return x\n",
        "\n",
        "\n",
        "class FinalPatchExpand_X4_1(nn.Module):\n",
        "    def __init__(self, input_resolution, dim, dim_scale=1, norm_layer=nn.LayerNorm, patchsize=1):\n",
        "        super().__init__()\n",
        "        self.input_resolution = input_resolution\n",
        "        self.dim = dim\n",
        "        self.dim_scale = dim_scale\n",
        "        # self.expand = nn.Linear(dim, patchsize*patchsize*dim, bias=False)\n",
        "        self.output_dim = dim\n",
        "        self.norm = norm_layer(self.output_dim)\n",
        "\n",
        "    def forward(self, x):\n",
        "        \"\"\"\n",
        "        x: B, H*W, C\n",
        "        \"\"\"\n",
        "        H, W = self.input_resolution\n",
        "        # x = self.expand(x)\n",
        "        B, L, C = x.shape\n",
        "        assert L == H * W, \"input feature has wrong size\"\n",
        "\n",
        "        x = x.view(B, H, W, C)\n",
        "        x = rearrange(x, 'b h w (p1 p2 c)-> b (h p1) (w p2) c', p1=self.dim_scale, p2=self.dim_scale,\n",
        "                      c=C // (self.dim_scale ** 2))\n",
        "        x = x.view(B, -1, self.output_dim)\n",
        "        x = self.norm(x)\n",
        "\n",
        "        return x\n",
        "\n",
        "\n",
        "class BasicLayer(nn.Module):\n",
        "    \"\"\" A basic Swin Transformer layer for one stage.\n",
        "\n",
        "    Args:\n",
        "        dim (int): Number of input channels.\n",
        "        input_resolution (tuple[int]): Input resolution.\n",
        "        depth (int): Number of blocks.\n",
        "        num_heads (int): Number of attention heads.\n",
        "        window_size (int): Local window size.\n",
        "        mlp_ratio (float): Ratio of mlp hidden dim to embedding dim.\n",
        "        qkv_bias (bool, optional): If True, add a learnable bias to query, key, value. Default: True\n",
        "        qk_scale (float | None, optional): Override default qk scale of head_dim ** -0.5 if set.\n",
        "        drop (float, optional): Dropout rate. Default: 0.0\n",
        "        attn_drop (float, optional): Attention dropout rate. Default: 0.0\n",
        "        drop_path (float | tuple[float], optional): Stochastic depth rate. Default: 0.0\n",
        "        norm_layer (nn.Module, optional): Normalization layer. Default: nn.LayerNorm\n",
        "        downsample (nn.Module | None, optional): Downsample layer at the end of the layer. Default: None\n",
        "        use_checkpoint (bool): Whether to use checkpointing to save memory. Default: False.\n",
        "    \"\"\"\n",
        "\n",
        "    def __init__(self, dim, input_resolution, depth, num_heads, window_size,\n",
        "                 mlp_ratio=4., qkv_bias=True, qk_scale=None, drop=0., attn_drop=0.,\n",
        "                 drop_path=0., norm_layer=nn.LayerNorm, downsample=None, use_checkpoint=False):\n",
        "\n",
        "        super().__init__()\n",
        "        self.dim = dim\n",
        "        self.input_resolution = input_resolution\n",
        "        self.depth = depth\n",
        "        self.use_checkpoint = use_checkpoint\n",
        "\n",
        "        # build blocks\n",
        "        self.blocks = nn.ModuleList([\n",
        "            SwinTransformerBlock(dim=dim, input_resolution=input_resolution,\n",
        "                                 num_heads=num_heads, window_size=window_size,\n",
        "                                 shift_size=0 if (i % 2 == 0) else window_size // 2,  # 相邻两个trans blocks, 一个shift，一个不用\n",
        "                                 mlp_ratio=mlp_ratio,\n",
        "                                 qkv_bias=qkv_bias, qk_scale=qk_scale,\n",
        "                                 drop=drop, attn_drop=attn_drop,\n",
        "                                 drop_path=drop_path[i] if isinstance(drop_path, list) else drop_path,\n",
        "                                 norm_layer=norm_layer)\n",
        "            for i in range(depth)])\n",
        "\n",
        "        # patch merging layer\n",
        "        if downsample is not None:\n",
        "            self.downsample = downsample(input_resolution, dim=dim, norm_layer=norm_layer)\n",
        "        else:\n",
        "            self.downsample = None\n",
        "\n",
        "    def forward(self, x):\n",
        "        for blk in self.blocks:\n",
        "            if self.use_checkpoint:\n",
        "                x = checkpoint.checkpoint(blk, x)\n",
        "            else:\n",
        "                x = blk(x)\n",
        "        if self.downsample is not None:\n",
        "            x = self.downsample(x)\n",
        "        return x\n",
        "\n",
        "    def extra_repr(self) -> str:\n",
        "        return f\"dim={self.dim}, input_resolution={self.input_resolution}, depth={self.depth}\"\n",
        "\n",
        "    def flops(self):\n",
        "        flops = 0\n",
        "        for blk in self.blocks:\n",
        "            flops += blk.flops()\n",
        "        if self.downsample is not None:\n",
        "            flops += self.downsample.flops()\n",
        "        return flops\n",
        "\n",
        "\n",
        "class BasicLayer_up(nn.Module):\n",
        "    \"\"\" A basic Swin Transformer layer for one stage.\n",
        "\n",
        "    Args:\n",
        "        dim (int): Number of input channels.\n",
        "        input_resolution (tuple[int]): Input resolution.\n",
        "        depth (int): Number of blocks.\n",
        "        num_heads (int): Number of attention heads.\n",
        "        window_size (int): Local window size.\n",
        "        mlp_ratio (float): Ratio of mlp hidden dim to embedding dim.\n",
        "        qkv_bias (bool, optional): If True, add a learnable bias to query, key, value. Default: True\n",
        "        qk_scale (float | None, optional): Override default qk scale of head_dim ** -0.5 if set.\n",
        "        drop (float, optional): Dropout rate. Default: 0.0\n",
        "        attn_drop (float, optional): Attention dropout rate. Default: 0.0\n",
        "        drop_path (float | tuple[float], optional): Stochastic depth rate. Default: 0.0\n",
        "        norm_layer (nn.Module, optional): Normalization layer. Default: nn.LayerNorm\n",
        "        downsample (nn.Module | None, optional): Downsample layer at the end of the layer. Default: None\n",
        "        use_checkpoint (bool): Whether to use checkpointing to save memory. Default: False.\n",
        "    \"\"\"\n",
        "\n",
        "    def __init__(self, dim, input_resolution, depth, num_heads, window_size,\n",
        "                 mlp_ratio=4., qkv_bias=True, qk_scale=None, drop=0., attn_drop=0.,\n",
        "                 drop_path=0., norm_layer=nn.LayerNorm, upsample=None, use_checkpoint=False):\n",
        "\n",
        "        super().__init__()\n",
        "        self.dim = dim\n",
        "        self.input_resolution = input_resolution\n",
        "        self.depth = depth\n",
        "        self.use_checkpoint = use_checkpoint\n",
        "\n",
        "        # build blocks\n",
        "        self.blocks = nn.ModuleList([\n",
        "            SwinTransformerBlock(dim=dim, input_resolution=input_resolution,\n",
        "                                 num_heads=num_heads, window_size=window_size,\n",
        "                                 shift_size=0 if (i % 2 == 0) else window_size // 2,\n",
        "                                 mlp_ratio=mlp_ratio,\n",
        "                                 qkv_bias=qkv_bias, qk_scale=qk_scale,\n",
        "                                 drop=drop, attn_drop=attn_drop,\n",
        "                                 drop_path=drop_path[i] if isinstance(drop_path, list) else drop_path,\n",
        "                                 norm_layer=norm_layer)\n",
        "            for i in range(depth)])\n",
        "\n",
        "        # patch merging layer\n",
        "        if upsample is not None:\n",
        "            self.upsample = PatchExpand(input_resolution, dim=dim, dim_scale=2, norm_layer=norm_layer)\n",
        "        else:\n",
        "            self.upsample = None\n",
        "\n",
        "    def forward(self, x):\n",
        "        for blk in self.blocks:\n",
        "            if self.use_checkpoint:\n",
        "                x = checkpoint.checkpoint(blk, x)\n",
        "            else:\n",
        "                x = blk(x)\n",
        "        if self.upsample is not None:\n",
        "            x = self.upsample(x)\n",
        "        return x\n",
        "\n",
        "\n",
        "class SwinTransEncoder(nn.Module):\n",
        "    r\"\"\" Swin Transformer\n",
        "        A PyTorch impl of : `Swin Transformer: Hierarchical Vision Transformer using Shifted Windows`  -\n",
        "          https://arxiv.org/pdf/2103.14030\n",
        "\n",
        "    Args:\n",
        "        img_size (int | tuple(int)): Input image size. Default 224\n",
        "        patch_size (int | tuple(int)): Patch size. Default: 4\n",
        "        in_chans (int): Number of input image channels. Default: 3\n",
        "        num_classes (int): Number of classes for classification head. Default: 1000\n",
        "        embed_dim (int): Patch embedding dimension. Default: 96\n",
        "        depths (tuple(int)): Depth of each Swin Transformer layer.\n",
        "        num_heads (tuple(int)): Number of attention heads in different layers.\n",
        "        window_size (int): Window size. Default: 7\n",
        "        mlp_ratio (float): Ratio of mlp hidden dim to embedding dim. Default: 4\n",
        "        qkv_bias (bool): If True, add a learnable bias to query, key, value. Default: True\n",
        "        qk_scale (float): Override default qk scale of head_dim ** -0.5 if set. Default: None\n",
        "        drop_rate (float): Dropout rate. Default: 0\n",
        "        attn_drop_rate (float): Attention dropout rate. Default: 0\n",
        "        drop_path_rate (float): Stochastic depth rate. Default: 0.1\n",
        "        norm_layer (nn.Module): Normalization layer. Default: nn.LayerNorm.\n",
        "        ape (bool): If True, add absolute position embedding to the patch embedding. Default: False\n",
        "        patch_norm (bool): If True, add normalization after patch embedding. Default: True\n",
        "        use_checkpoint (bool): Whether to use checkpointing to save memory. Default: False\n",
        "    \"\"\"\n",
        "\n",
        "    def __init__(self, img_size=224, patch_size=4, in_chans=3, num_classes=2,\n",
        "                 embed_dim=192, depths=[2, 2, 18, 2], depths_decoder=[4, 4, 4, 4], num_heads=[6, 12, 24, 48],\n",
        "                 window_size=7, mlp_ratio=4., qkv_bias=True, qk_scale=None,\n",
        "                 drop_rate=0., attn_drop_rate=0., drop_path_rate=0.1,\n",
        "                 norm_layer=nn.LayerNorm, ape=False, patch_norm=True,\n",
        "                 use_checkpoint=False, final_upsample=\"expand_first\", **kwargs):\n",
        "        super().__init__()\n",
        "\n",
        "        print(\n",
        "            \"SwinTransformerSys expand initial----depths:{};depths_decoder:{};drop_path_rate:{};num_classes:{}\".format(\n",
        "                depths,\n",
        "                depths_decoder, drop_path_rate, num_classes))\n",
        "\n",
        "        self.num_classes = num_classes\n",
        "        self.num_layers = len(depths)\n",
        "        self.embed_dim = embed_dim\n",
        "        self.ape = ape\n",
        "        self.patch_norm = patch_norm\n",
        "        self.num_features = int(embed_dim * 2 ** (self.num_layers - 1))\n",
        "        self.num_features_up = int(embed_dim * 2)\n",
        "        self.mlp_ratio = mlp_ratio\n",
        "        self.final_upsample = final_upsample\n",
        "\n",
        "        # split image into non-overlapping patches\n",
        "        self.patch_embed = PatchEmbed(\n",
        "            img_size=img_size, patch_size=patch_size, in_chans=in_chans, embed_dim=embed_dim,\n",
        "            norm_layer=norm_layer if self.patch_norm else None)\n",
        "        num_patches = self.patch_embed.num_patches\n",
        "        patches_resolution = self.patch_embed.patches_resolution\n",
        "        self.patches_resolution = patches_resolution\n",
        "\n",
        "        # absolute position embedding\n",
        "        if self.ape:\n",
        "            self.absolute_pos_embed = nn.Parameter(torch.zeros(1, num_patches, embed_dim))\n",
        "            trunc_normal_(self.absolute_pos_embed, std=.02)\n",
        "\n",
        "        self.pos_drop = nn.Dropout(p=drop_rate)\n",
        "\n",
        "        self.deal = nn.ModuleList()\n",
        "        self.deal.append(nn.LayerNorm(128))\n",
        "        self.deal.append(nn.LayerNorm(256))\n",
        "        self.deal.append(nn.LayerNorm(512))\n",
        "        self.deal.append(nn.LayerNorm(1024))\n",
        "\n",
        "        # stochastic depth\n",
        "        dpr = [x.item() for x in torch.linspace(0, drop_path_rate, sum(depths))]  # stochastic depth decay rule\n",
        "\n",
        "        # build encoder and bottleneck layers\n",
        "        self.layers = nn.ModuleList()\n",
        "        for i_layer in range(self.num_layers):\n",
        "            layer = BasicLayer(dim=int(embed_dim * 2 ** i_layer),\n",
        "                               input_resolution=(patches_resolution[0] // (2 ** i_layer),\n",
        "                                                 patches_resolution[1] // (2 ** i_layer)),\n",
        "                               depth=depths[i_layer],\n",
        "                               num_heads=num_heads[i_layer],\n",
        "                               window_size=window_size,\n",
        "                               mlp_ratio=self.mlp_ratio,\n",
        "                               qkv_bias=qkv_bias, qk_scale=qk_scale,\n",
        "                               drop=drop_rate, attn_drop=attn_drop_rate,\n",
        "                               drop_path=dpr[sum(depths[:i_layer]):sum(depths[:i_layer + 1])],\n",
        "                               norm_layer=norm_layer,\n",
        "                               downsample=PatchMerging if (i_layer < self.num_layers - 1) else None,\n",
        "                               use_checkpoint=use_checkpoint)\n",
        "            self.layers.append(layer)\n",
        "\n",
        "        self.norm = norm_layer(self.num_features)\n",
        "        self.fusion = ChannelAttention_1(1024)\n",
        "\n",
        "    # Encoder and Bottleneck\n",
        "    def transpose(self, x):\n",
        "        B, HW, C = x.size()\n",
        "        H = int(math.sqrt(HW))\n",
        "        x = x.transpose(1, 2)\n",
        "        x = x.view(B, C, H, H)\n",
        "        return x\n",
        "\n",
        "    def transpose_verse(self, x):\n",
        "        B, C, H, W = x.size()\n",
        "        x = x.view(B, C, -1)\n",
        "        x = x.transpose(1, 2)\n",
        "        return x\n",
        "\n",
        "    def forward(self, x1, x2):\n",
        "        # input [1,3,224,224]\n",
        "        x1 = self.patch_embed(x1)  # [1,56x56,96(embedding dim)]\n",
        "        x2 = self.patch_embed(x2)  # [1,56x56,96(embedding dim)]\n",
        "        if self.ape:\n",
        "            x1 = x1 + self.absolute_pos_embed\n",
        "            x2 = x2 + self.absolute_pos_embed\n",
        "        x1 = self.pos_drop(x1)\n",
        "        x2 = self.pos_drop(x2)\n",
        "        x1_downsample = []\n",
        "        x2_downsample = []\n",
        "\n",
        "        for inx, layer in enumerate(self.layers):\n",
        "            if inx != 3:\n",
        "                x1_downsample.append(self.deal[inx](x1))  # self.deal[inx](x))  #self.deal[inx]\n",
        "                x2_downsample.append(self.deal[inx](x2))\n",
        "                x1 = layer(x1)  # ??norm(  mlp(layer_norm(self-attention(x)))\n",
        "                x2 = layer(x2)\n",
        "            else:\n",
        "                x1_downsample.append(self.deal[inx](x1))  # self.deal[inx](x))  #self.deal[inx]\n",
        "                x2_downsample.append(self.deal[inx](x2))\n",
        "                x_mid = self.transpose_verse(self.fusion(self.transpose(torch.cat([x1, x2], dim=2))))\n",
        "                x_mid = layer(x_mid)\n",
        "        # x_mid = torch.cat([x1,x2],dim=2)\n",
        "        # x1 = self.norm(x1)\n",
        "        # x2 = self.norm(x2)\n",
        "        # x_mid = self.transpose_verse(self.fusion(self.transpose(torch.cat([x1,x2],dim=2))))\n",
        "        x_mid = self.norm(x_mid)  # B L C --1 49 768]\n",
        "\n",
        "        return x_mid, x1_downsample, x2_downsample\n",
        "\n",
        "\n",
        "# TODO finish this part to transfer trans 2 cnn\n",
        "class PatchUnembed(nn.Module):\n",
        "    def __init__(self, input_resolution, dim, dim_scale=4, final_dim=64, norm_layer=nn.LayerNorm):\n",
        "        super().__init__()\n",
        "        self.input_resolution = input_resolution\n",
        "        self.dim = dim\n",
        "        self.dim_scale = dim_scale\n",
        "\n",
        "        self.final_dim = final_dim\n",
        "\n",
        "        self.expand = nn.Linear(dim, 16 * final_dim, bias=False)\n",
        "        self.output_dim = dim // self.dim_scale ** 2\n",
        "\n",
        "        self.norm = norm_layer(self.final_dim)\n",
        "\n",
        "        # self.output = nn.Conv2d(in_channels=self.output_dim,out_channels=self.final_dim,kernel_size=1,bias=False)\n",
        "\n",
        "    def forward(self, x):\n",
        "        \"\"\"\n",
        "        x: B, H*W, C\n",
        "        -> B, C/16, H*4, W*4\n",
        "        \"\"\"\n",
        "        H, W = self.input_resolution\n",
        "        B, L, C = x.shape\n",
        "        assert L == H * W, \"input feature has wrong size\"\n",
        "\n",
        "        x = self.expand(x)\n",
        "        C = 16 * self.final_dim\n",
        "        x = x.view(B, H, W, C)\n",
        "        x = rearrange(x, 'b h w (p1 p2 c)-> b (h p1) (w p2) c', p1=self.dim_scale, p2=self.dim_scale,\n",
        "                      c=C // (self.dim_scale ** 2))\n",
        "        x = x.view(B, -1, self.final_dim)\n",
        "        x = self.norm(x)\n",
        "\n",
        "        x = x.view(B, 4 * H, 4 * W, -1)\n",
        "        x = x.permute(0, 3, 1, 2)  # B,C,H,W\n",
        "        # x = self.output(x)\n",
        "\n",
        "        return x\n",
        "\n",
        "\n",
        "class SwinTransDecoder(nn.Module):\n",
        "    def __init__(self, img_size=224, patch_size=4, in_chans=3, num_classes=2,\n",
        "                 embed_dim=128, depths=[4, 4, 4, 4], depths_decoder=[2, 2, 2, 2], num_heads=[4, 8, 16, 32],\n",
        "                 window_size=7, mlp_ratio=4., qkv_bias=True, qk_scale=None,\n",
        "                 drop_rate=0., attn_drop_rate=0., drop_path_rate=0.1,\n",
        "                 norm_layer=nn.LayerNorm, ape=False, patch_norm=True,\n",
        "                 use_checkpoint=False, final_upsample=\"expand_first\", **kwargs):\n",
        "        super().__init__()\n",
        "\n",
        "        self.num_classes = num_classes\n",
        "        self.num_layers = len(depths)\n",
        "        self.embed_dim = embed_dim\n",
        "        self.ape = ape\n",
        "        self.patch_norm = patch_norm\n",
        "        self.num_features = int(embed_dim * 2 ** (self.num_layers - 1))\n",
        "        self.num_features_up = int(embed_dim * 2)\n",
        "        self.mlp_ratio = mlp_ratio\n",
        "        self.final_upsample = final_upsample\n",
        "        self.patches_resolution = [img_size // patch_size, img_size // patch_size]\n",
        "        self.patch_size = patch_size\n",
        "\n",
        "        dpr = [x.item() for x in torch.linspace(0, drop_path_rate, sum(depths))]\n",
        "\n",
        "        self.concat_linear0 = nn.Linear(1024, 1024)\n",
        "\n",
        "        self.norm = nn.ModuleList()\n",
        "        self.norm.append(nn.LayerNorm(512))\n",
        "        self.norm.append(nn.LayerNorm(256))\n",
        "        self.norm.append(nn.LayerNorm(128))\n",
        "        self.norm.append(nn.LayerNorm(128))\n",
        "\n",
        "        self.layers_up = nn.ModuleList()\n",
        "        self.concat_back_dim = nn.ModuleList()\n",
        "        for i_layer in range(self.num_layers):\n",
        "            concat_linear = nn.Linear(int(embed_dim * 2 ** (self.num_layers - 1 - i_layer)),\n",
        "                                      int(embed_dim * 2 ** (\n",
        "                                                  self.num_layers - 1 - i_layer))) if i_layer > 0 else nn.Identity()\n",
        "            if i_layer == 0:\n",
        "                layer_up = PatchExpand(\n",
        "                    input_resolution=(self.patches_resolution[0] // (2 ** (self.num_layers - 1 - i_layer)),\n",
        "                                      self.patches_resolution[1] // (2 ** (self.num_layers - 1 - i_layer))),\n",
        "                    dim=int(embed_dim * 2 ** (self.num_layers - 1 - i_layer)), dim_scale=2, norm_layer=norm_layer)\n",
        "            else:\n",
        "                layer_up = BasicLayer_up(dim=int(embed_dim * 2 ** (self.num_layers - 1 - i_layer)),\n",
        "                                         input_resolution=(\n",
        "                                         self.patches_resolution[0] // (2 ** (self.num_layers - 1 - i_layer)),\n",
        "                                         self.patches_resolution[1] // (2 ** (self.num_layers - 1 - i_layer))),\n",
        "                                         depth=depths[(self.num_layers - 1 - i_layer)],\n",
        "                                         num_heads=num_heads[(self.num_layers - 1 - i_layer)],\n",
        "                                         window_size=window_size,\n",
        "                                         mlp_ratio=self.mlp_ratio,\n",
        "                                         qkv_bias=qkv_bias, qk_scale=qk_scale,\n",
        "                                         drop=drop_rate, attn_drop=attn_drop_rate,\n",
        "                                         drop_path=dpr[sum(depths[:(self.num_layers - 1 - i_layer)]):sum(\n",
        "                                             depths[:(self.num_layers - 1 - i_layer) + 1])],\n",
        "                                         norm_layer=norm_layer,\n",
        "                                         upsample=PatchExpand if (i_layer < self.num_layers - 1) else None,\n",
        "                                         use_checkpoint=use_checkpoint)\n",
        "            self.layers_up.append(layer_up)\n",
        "            self.concat_back_dim.append(concat_linear)\n",
        "\n",
        "        self.norm_up = norm_layer(self.embed_dim)\n",
        "        if self.final_upsample == \"expand_first\":\n",
        "            # print(\"---final upsample expand_first---\")\n",
        "            self.up = FinalPatchExpand_X4(input_resolution=(img_size // patch_size, img_size // patch_size),\n",
        "                                          dim_scale=4, dim=embed_dim, patchsize=patch_size)\n",
        "            self.up_0 = FinalPatchExpand_X4_1(input_resolution=(56, 56), dim_scale=1, dim=128, patchsize=1)\n",
        "            self.up_1 = FinalPatchExpand_X4_1(input_resolution=(28, 28), dim_scale=1, dim=256, patchsize=1)\n",
        "            self.up_2 = FinalPatchExpand_X4_1(input_resolution=(14, 14), dim_scale=1, dim=512, patchsize=1)\n",
        "            self.output = nn.Conv2d(in_channels=embed_dim, out_channels=self.num_classes, kernel_size=1, bias=False)\n",
        "            self.output_0 = nn.Conv2d(in_channels=128, out_channels=self.num_classes, kernel_size=1, bias=False)\n",
        "            self.output_1 = nn.Conv2d(in_channels=256, out_channels=self.num_classes, kernel_size=1, bias=False)\n",
        "            self.output_2 = nn.Conv2d(in_channels=512, out_channels=self.num_classes, kernel_size=1, bias=False)\n",
        "\n",
        "        self.ppattention = nn.ModuleList()\n",
        "        self.ppattention.append(ppattention_wan(1024))\n",
        "        self.ppattention.append(ppattention_wan(512))\n",
        "        self.ppattention.append(ppattention_wan(256))\n",
        "        self.ppattention.append(ppattention_wan(128))\n",
        "\n",
        "        self.DFE = nn.ModuleList()\n",
        "        self.DFE.append(DFE(1024))\n",
        "        self.DFE.append(DFE(512))\n",
        "        self.DFE.append(DFE(256))\n",
        "        self.DFE.append(DFE(128))\n",
        "\n",
        "        self.norm_bn = nn.ModuleList()\n",
        "        self.norm_bn.append(nn.BatchNorm2d(2048))\n",
        "        self.norm_bn.append(nn.BatchNorm2d(1024))\n",
        "        self.norm_bn.append(nn.BatchNorm2d(512))\n",
        "        self.norm_bn.append(nn.BatchNorm2d(256))\n",
        "\n",
        "        self.channelattention = ChannelAttention(1024)\n",
        "        self.avgpool = nn.AvgPool2d(kernel_size=3, stride=1, padding=1)\n",
        "\n",
        "    def transpose(self, x):\n",
        "        B, HW, C = x.size()\n",
        "        H = int(math.sqrt(HW))\n",
        "        x = x.transpose(1, 2)\n",
        "        x = x.view(B, C, H, H)\n",
        "        return x\n",
        "\n",
        "    def transpose_verse(self, x):\n",
        "        B, C, H, W = x.size()\n",
        "        x = x.view(B, C, -1)\n",
        "        x = x.transpose(1, 2)\n",
        "        return x\n",
        "\n",
        "    def forward_up_features(self, x_mid, x_downsample1, x_downsample2):  # 1/4,1/8,1/16,1/32,     1/32\n",
        "        x_upsample = []\n",
        "        for inx, layer_up in enumerate(self.layers_up):\n",
        "            if inx == 0:\n",
        "                t1 = self.transpose(x_downsample1[3])  # B,C,H,W    mlp\n",
        "                t2 = self.transpose(x_downsample2[3])\n",
        "                diff_feature = t1 - t2  # 1024\n",
        "                add_feature = t1 + t2\n",
        "\n",
        "                x_mid = self.transpose(x_mid)\n",
        "                x_mid = torch.cat([x_mid, x_mid], dim=1)\n",
        "                # hidden = torch.cat([x_mid,t1,t2],dim=1)\n",
        "                hidden = torch.cat([diff_feature, add_feature], dim=1)\n",
        "                hidden = x_mid + hidden\n",
        "                # hidden = self.norm_bn[inx](hidden)\n",
        "                x = self.transpose_verse(self.ppattention[inx](hidden))  # B,HW,C\n",
        "\n",
        "                x = self.concat_linear0(x)  # C,C  1024\n",
        "                y1 = layer_up(x)  # C/2  UP SAMPLE  512\n",
        "                y2 = y1  # B,HW,C/2     512\n",
        "                x = torch.cat([y1, y2], dim=2)  # C    B,HW,C     1024\n",
        "                x_upsample.append(self.norm[0](y1))  # B,HW,C/2\n",
        "            else:\n",
        "                t1 = self.transpose(x_downsample1[3 - inx])  # 512\n",
        "                t2 = self.transpose(x_downsample2[3 - inx])\n",
        "                diff_feature = t1 - t2\n",
        "                add_feature = t1 + t2\n",
        "\n",
        "                x = self.transpose(x)  # 1024\n",
        "                # hidden = torch.cat([x,t1,t2],dim=1)\n",
        "                hidden = torch.cat([diff_feature, add_feature], dim=1)\n",
        "                hidden = x + hidden\n",
        "                # hidden = self.norm_bn[inx](hidden)\n",
        "                x = self.ppattention[inx](hidden)\n",
        "                x = self.transpose_verse(x)  # B,HW,C\n",
        "                x = self.concat_back_dim[inx](x)  ######\n",
        "\n",
        "                y1 = layer_up(x)  # layer up 初始层有norm,up  norm,norm,up\n",
        "                y2 = y1\n",
        "                x = torch.cat([y1, y2], dim=2)  # C1024\n",
        "                norm = self.norm[inx]\n",
        "                x_upsample.append((norm(y1)))\n",
        "\n",
        "        x = self.norm_up(y1)  # B L C   最终预测结果\n",
        "\n",
        "        return x, x_upsample\n",
        "\n",
        "    def up_x4(self, x, pz):\n",
        "        H, W = self.patches_resolution\n",
        "        B, L, C = x.shape\n",
        "        assert L == H * W, \"input features has wrong size\"\n",
        "\n",
        "        if self.final_upsample == \"expand_first\":\n",
        "            x = self.up(x)\n",
        "            x = x.view(B, pz * H, pz * W, -1)\n",
        "            x = x.permute(0, 3, 1, 2)  # B,C,H,W\n",
        "            x = self.output(x)\n",
        "\n",
        "        return x\n",
        "\n",
        "    def up_x4_1(self, x, pz):\n",
        "        H, W = self.patches_resolution\n",
        "        B, L, C = x.shape\n",
        "        assert L == H * W, \"input features has wrong size\"\n",
        "\n",
        "        if self.final_upsample == \"expand_first\":\n",
        "            x = self.up_0(x)\n",
        "            x = x.view(B, pz * H, pz * W, -1)\n",
        "            x = x.permute(0, 3, 1, 2)  # B,C,H,W\n",
        "            x = self.output_0(x)\n",
        "\n",
        "        return x\n",
        "\n",
        "    def up_x8(self, x, pz):\n",
        "        H, W = (28, 28)\n",
        "        B, L, C = x.shape\n",
        "        assert L == H * W, \"input features has wrong size\"\n",
        "\n",
        "        if self.final_upsample == \"expand_first\":\n",
        "            # x = self.up(x,patchsize=pz)\n",
        "            x = self.up_1(x)\n",
        "            x = x.view(B, pz * H, pz * W, -1)\n",
        "            x = x.permute(0, 3, 1, 2)  # B,C,H,W\n",
        "            x = self.output_1(x)\n",
        "\n",
        "        return x\n",
        "\n",
        "    def up_x16(self, x, pz):\n",
        "        H, W = (14, 14)\n",
        "        B, L, C = x.shape\n",
        "        assert L == H * W, \"input features has wrong size\"\n",
        "\n",
        "        if self.final_upsample == \"expand_first\":\n",
        "            # x = self.up(x,patchsize=pz)\n",
        "            x = self.up_2(x)\n",
        "            x = x.view(B, pz * H, pz * W, -1)\n",
        "            x = x.permute(0, 3, 1, 2)  # B,C,H,W\n",
        "            x = self.output_2(x)\n",
        "\n",
        "        return x\n",
        "\n",
        "    def forward(self, x, x_down1, x_down2):\n",
        "        x, x_upsample = self.forward_up_features(x, x_down1, x_down2)\n",
        "\n",
        "        x_p = self.up_x4(x, self.patch_size)\n",
        "        x_pre2 = self.up_x4_1(x_upsample[2], 1)\n",
        "        x_pre3 = self.up_x8(x_upsample[1], 1)\n",
        "        x_pre4 = self.up_x16(x_upsample[0], 1)\n",
        "\n",
        "        return x_p, x_pre2, x_pre3, x_pre4\n",
        "\n",
        "\n",
        "class encoder1(nn.Module):\n",
        "    def __init__(self, img_size = 224, in_chans=3):\n",
        "        super(encoder1, self).__init__()\n",
        "        self.encoder1 = SwinTransEncoder(img_size=img_size, patch_size=4, in_chans=in_chans, num_classes=2, embed_dim=128,\n",
        "                                         depths=[2, 2, 18, 2], depths_decoder=[4, 4, 4, 4], num_heads=[4, 8, 16, 32],\n",
        "                                         window_size=7)\n",
        "        self.pretrained_path = 'swin_pretrain_224.pth'\n",
        "        self.load_from()\n",
        "\n",
        "    def load_from(self):\n",
        "        pretrained_path = self.pretrained_path\n",
        "        if pretrained_path is not None:\n",
        "            print(\"pretrained_path:{}\".format(pretrained_path))\n",
        "            device = torch.device('cuda' if torch.cuda.is_available() else 'cpu')\n",
        "            pretrained_dict = torch.load(pretrained_path, map_location=device)\n",
        "            if \"model\" not in pretrained_dict:\n",
        "                print(\"---start load pretrained modle by splitting---\")\n",
        "                pretrained_dict = {k[17:]: v for k, v in pretrained_dict.items()}\n",
        "                for k in list(pretrained_dict.keys()):\n",
        "                    if \"output\" in k:\n",
        "                        print(\"delete key:{}\".format(k))\n",
        "                        del pretrained_dict[k]\n",
        "                msg = self.encoder1.load_state_dict(pretrained_dict, strict=False)\n",
        "                return\n",
        "            pretrained_dict = pretrained_dict['model']\n",
        "            print(\"---start load pretrained modle of swin encoder---\")\n",
        "\n",
        "            model_dict = self.encoder1.state_dict()\n",
        "            full_dict = copy.deepcopy(pretrained_dict)\n",
        "            for k, v in pretrained_dict.items():\n",
        "                if \"layers.\" in k:\n",
        "                    current_layer_num = 3 - int(k[7:8])\n",
        "                    current_k = \"layers_up.\" + str(current_layer_num) + k[8:]\n",
        "                    full_dict.update({current_k: v})\n",
        "            for k in list(full_dict.keys()):\n",
        "                if k in model_dict:\n",
        "                    # print(1)\n",
        "                    if full_dict[k].shape != model_dict[k].shape:\n",
        "                        print(\"delete:{};shape pretrain:{};shape model:{}\".format(k, v.shape, model_dict[k].shape))\n",
        "                        del full_dict[k]\n",
        "\n",
        "            msg = self.encoder1.load_state_dict(full_dict, strict=False)\n",
        "        else:\n",
        "            print(\"none pretrain\")\n",
        "\n",
        "    def forward(self, img1, img2):\n",
        "        x, y1, y2 = self.encoder1(img1, img2)\n",
        "        return x, y1, y2\n",
        "\n",
        "\n",
        "class Encoder(nn.Module):\n",
        "    def __init__(self):\n",
        "        super(Encoder, self).__init__()\n",
        "\n",
        "        self.encoder1 = encoder1(img_size=224, in_chans=3)\n",
        "        self.decoder = SwinTransDecoder(num_classes=3)\n",
        "\n",
        "    def forward(self, img1, img2):\n",
        "        x, x_downsample1, x_downsample2 = self.encoder1(img1, img2)\n",
        "        x_p, x_2, x_3, x_4 = self.decoder(x, x_downsample1, x_downsample2)\n",
        "\n",
        "        return x_p, x_2, x_3, x_4"
      ]
    },
    {
      "cell_type": "markdown",
      "metadata": {
        "id": "Xx_3w0aHYVs4"
      },
      "source": [
        "# Train"
      ]
    },
    {
      "cell_type": "code",
      "execution_count": 138,
      "metadata": {
        "id": "OAuvVsQVeCqV"
      },
      "outputs": [],
      "source": [
        "import math\n",
        "\n",
        "\n",
        "class LR_Scheduler(object):\n",
        "    \"\"\"Learning Rate Scheduler\n",
        "\n",
        "    Step mode: ``lr = baselr * 0.1 ^ {floor(epoch-1 / lr_step)}``\n",
        "\n",
        "    Cosine mode: ``lr = baselr * 0.5 * (1 + cos(iter/maxiter))``\n",
        "\n",
        "    Poly mode: ``lr = baselr * (1 - iter/maxiter) ^ 0.9``\n",
        "\n",
        "    Args:\n",
        "        args:  :attr:`args.lr_scheduler` lr scheduler mode (`cos`, `poly`),\n",
        "          :attr:`args.lr` base learning rate, :attr:`args.epochs` number of epochs,\n",
        "          :attr:`args.lr_step`\n",
        "\n",
        "        iters_per_epoch: number of iterations per epoch\n",
        "    \"\"\"\n",
        "\n",
        "    def __init__(self, mode, base_lr, num_epochs, iters_per_epoch=0,\n",
        "                 lr_step=0, warmup_epochs=0):\n",
        "        self.mode = mode\n",
        "        print('Using {} LR Scheduler!'.format(self.mode))\n",
        "        self.lr = base_lr\n",
        "        if mode == 'step':\n",
        "            assert lr_step\n",
        "        self.lr_step = lr_step\n",
        "        self.iters_per_epoch = iters_per_epoch\n",
        "        self.N = num_epochs * iters_per_epoch\n",
        "        self.epoch = -1\n",
        "        self.warmup_iters = warmup_epochs * iters_per_epoch\n",
        "\n",
        "    def __call__(self, optimizer, i, epoch, best_pred=0.0):\n",
        "        T = epoch * self.iters_per_epoch + i\n",
        "        if self.mode == 'cos':\n",
        "            lr = 0.5 * self.lr * (1 + math.cos(1.0 * (T - self.warmup_iters) / (self.N - self.warmup_iters) * math.pi))\n",
        "        elif self.mode == 'poly':\n",
        "            lr = self.lr * pow((1 - 1.0 * T / self.N), 0.9)\n",
        "        elif self.mode == 'step':\n",
        "            lr = self.lr * (0.1 ** (epoch // self.lr_step))\n",
        "        elif self.mode == 'linear':\n",
        "            if T < self.warmup_iters:\n",
        "                lr = self.lr\n",
        "            else:\n",
        "                lr = self.lr * 1.0 * (2 - T / self.warmup_iters)\n",
        "        else:\n",
        "            raise NotImplemented\n",
        "\n",
        "        if self.warmup_iters > 0 and T < self.warmup_iters:\n",
        "            lr = lr * 1.0 * T / self.warmup_iters\n",
        "        if epoch > self.epoch:\n",
        "            self.epoch = epoch\n",
        "        assert lr >= 0\n",
        "        self._adjust_learning_rate(optimizer, lr)\n",
        "\n",
        "    def _adjust_learning_rate(self, optimizer, lr):\n",
        "        if len(optimizer.param_groups) == 1:\n",
        "            optimizer.param_groups[0]['lr'] = lr\n",
        "        else:\n",
        "            optimizer.param_groups[0]['lr'] = lr * 0.1\n",
        "            for i in range(1, len(optimizer.param_groups)):\n",
        "                optimizer.param_groups[i]['lr'] = lr"
      ]
    },
    {
      "cell_type": "code",
      "execution_count": 139,
      "metadata": {
        "id": "UGGZZWfLeOVu"
      },
      "outputs": [],
      "source": [
        "import torch\n",
        "import torch.nn.functional as F\n",
        "from torch.autograd import Variable\n",
        "import numpy as np\n",
        "\n",
        "# def _iou(pred, target, size_average = True):\n",
        "#     #print(pred.shape,target.shape)\n",
        "#     pred = pred[:,1,:,:]\n",
        "#     #print(pred.shape,'\\n','------------------------','\\n',target.shape)\n",
        "#     b = pred.shape[0]\n",
        "#     IoU = 0.0\n",
        "#     for i in range(0,b):\n",
        "#         #compute the IoU of the foreground\n",
        "#         Iand1 = torch.sum(target[i,:,:]*pred[i,:,:])\n",
        "#         Ior1 = torch.sum(target[i,:,:]) + torch.sum(pred[i,:,:])-Iand1\n",
        "#         IoU1 = Iand1/Ior1\n",
        "\n",
        "#         #IoU loss is (1-IoU1)\n",
        "#         IoU = IoU + (1-IoU1)\n",
        "\n",
        "#     return IoU/b\n",
        "\n",
        "# class IOU(torch.nn.Module):\n",
        "#     def __init__(self, size_average = True):\n",
        "#         super(IOU, self).__init__()\n",
        "#         self.size_average = size_average\n",
        "\n",
        "#     def forward(self, pred, target):\n",
        "\n",
        "#         return _iou(pred, target, self.size_average)\n",
        "\n",
        "def _iou(pred, target, size_average = True):\n",
        "    b = pred.shape[0]\n",
        "    c = pred.shape[1] # Number of classes\n",
        "    IoU = 0.0\n",
        "    for i in range(0,b):\n",
        "        IoU_class = 0.0\n",
        "        for j in range(0,c):\n",
        "            #compute the IoU of the each class\n",
        "            Iand1 = torch.sum(target[i,j,:,:]*pred[i,j,:,:])\n",
        "            Ior1 = torch.sum(target[i,j,:,:]) + torch.sum(pred[i,j,:,:])-Iand1\n",
        "            IoU1 = Iand1/Ior1 if Ior1 != 0 else 0  # Ensure division by zero doesn't occur\n",
        "\n",
        "            # IoU loss is (1-IoU1) for each class\n",
        "            IoU_class += (1-IoU1)\n",
        "        \n",
        "        # Average over classes\n",
        "        IoU += IoU_class/c\n",
        "\n",
        "    return IoU/b\n",
        "\n",
        "\n",
        "class IOU(torch.nn.Module):\n",
        "    def __init__(self, size_average = True):\n",
        "        super(IOU, self).__init__()\n",
        "        self.size_average = size_average\n",
        "\n",
        "    def forward(self, pred, target):\n",
        "        return _iou(pred, target, self.size_average)\n",
        "\n",
        "\n",
        "\n",
        "# https://github.com/Po-Hsun-Su/pytorch-ssim/blob/master/pytorch_ssim/__init__.py\n",
        "import torch\n",
        "import torch.nn.functional as F\n",
        "from torch.autograd import Variable\n",
        "import numpy as np\n",
        "from math import exp\n",
        "\n",
        "def gaussian(window_size, sigma):\n",
        "    gauss = torch.Tensor([exp(-(x - window_size//2)**2/float(2*sigma**2)) for x in range(window_size)])\n",
        "    return gauss/gauss.sum()\n",
        "\n",
        "def create_window(window_size, channel):\n",
        "    _1D_window = gaussian(window_size, 1.5).unsqueeze(1)\n",
        "    _2D_window = _1D_window.mm(_1D_window.t()).float().unsqueeze(0).unsqueeze(0)\n",
        "    window = Variable(_2D_window.expand(channel, 1, window_size, window_size).contiguous())\n",
        "    return window\n",
        "\n",
        "def _ssim(img1, img2, window, window_size, channel, size_average = True):\n",
        "    mu1 = F.conv2d(img1, window, padding = window_size//2, groups = channel)\n",
        "    mu2 = F.conv2d(img2, window, padding = window_size//2, groups = channel)\n",
        "\n",
        "    mu1_sq = mu1.pow(2)\n",
        "    mu2_sq = mu2.pow(2)\n",
        "    mu1_mu2 = mu1*mu2\n",
        "\n",
        "    sigma1_sq = F.conv2d(img1*img1, window, padding = window_size//2, groups = channel) - mu1_sq\n",
        "    sigma2_sq = F.conv2d(img2*img2, window, padding = window_size//2, groups = channel) - mu2_sq\n",
        "    sigma12 = F.conv2d(img1*img2, window, padding = window_size//2, groups = channel) - mu1_mu2\n",
        "\n",
        "    C1 = 0.01**2\n",
        "    C2 = 0.03**2\n",
        "\n",
        "    ssim_map = ((2*mu1_mu2 + C1)*(2*sigma12 + C2))/((mu1_sq + mu2_sq + C1)*(sigma1_sq + sigma2_sq + C2))\n",
        "\n",
        "    if size_average:\n",
        "        return ssim_map.mean()\n",
        "    else:\n",
        "        return ssim_map.mean(1).mean(1).mean(1)\n",
        "\n",
        "class SSIM(torch.nn.Module):\n",
        "    def __init__(self, window_size = 11, size_average = True):\n",
        "        super(SSIM, self).__init__()\n",
        "        self.window_size = window_size\n",
        "        self.size_average = size_average\n",
        "        self.channel = 1\n",
        "        self.window = create_window(window_size, self.channel)\n",
        "\n",
        "    def forward(self, img1, img2): # Here berg\n",
        "        # img1 = img1[:,1,:,:].unsqueeze(1)\n",
        "        # img2 = img2.unsqueeze(1)\n",
        "        (_, channel, _, _) = img1.size()\n",
        "\n",
        "        if channel == self.channel and self.window.data.type() == img1.data.type():\n",
        "            window = self.window\n",
        "        else:\n",
        "            window = create_window(self.window_size, channel)\n",
        "\n",
        "            if img1.is_cuda:\n",
        "                window = window.cuda(img1.get_device())\n",
        "            window = window.type_as(img1)\n",
        "\n",
        "            self.window = window\n",
        "            self.channel = channel\n",
        "\n",
        "\n",
        "        return _ssim(img1, img2, window, self.window_size, channel, self.size_average)\n",
        "\n",
        "def _logssim(img1, img2, window, window_size, channel, size_average = True):\n",
        "    mu1 = F.conv2d(img1, window, padding = window_size//2, groups = channel)\n",
        "    mu2 = F.conv2d(img2, window, padding = window_size//2, groups = channel)\n",
        "\n",
        "    mu1_sq = mu1.pow(2)\n",
        "    mu2_sq = mu2.pow(2)\n",
        "    mu1_mu2 = mu1*mu2\n",
        "\n",
        "    sigma1_sq = F.conv2d(img1*img1, window, padding = window_size//2, groups = channel) - mu1_sq\n",
        "    sigma2_sq = F.conv2d(img2*img2, window, padding = window_size//2, groups = channel) - mu2_sq\n",
        "    sigma12 = F.conv2d(img1*img2, window, padding = window_size//2, groups = channel) - mu1_mu2\n",
        "\n",
        "    C1 = 0.01**2\n",
        "    C2 = 0.03**2\n",
        "\n",
        "    ssim_map = ((2*mu1_mu2 + C1)*(2*sigma12 + C2))/((mu1_sq + mu2_sq + C1)*(sigma1_sq + sigma2_sq + C2))\n",
        "    ssim_map = (ssim_map - torch.min(ssim_map))/(torch.max(ssim_map)-torch.min(ssim_map))\n",
        "    ssim_map = -torch.log(ssim_map + 1e-8)\n",
        "\n",
        "    if size_average:\n",
        "        return ssim_map.mean()\n",
        "    else:\n",
        "        return ssim_map.mean(1).mean(1).mean(1)\n",
        "\n",
        "class LOGSSIM(torch.nn.Module):\n",
        "    def __init__(self, window_size = 11, size_average = True):\n",
        "        super(LOGSSIM, self).__init__()\n",
        "        self.window_size = window_size\n",
        "        self.size_average = size_average\n",
        "        self.channel = 1\n",
        "        self.window = create_window(window_size, self.channel)\n",
        "\n",
        "    def forward(self, img1, img2):\n",
        "        (_, channel, _, _) = img1.size()\n",
        "\n",
        "        if channel == self.channel and self.window.data.type() == img1.data.type():\n",
        "            window = self.window\n",
        "        else:\n",
        "            window = create_window(self.window_size, channel)\n",
        "\n",
        "            if img1.is_cuda:\n",
        "                window = window.cuda(img1.get_device())\n",
        "            window = window.type_as(img1)\n",
        "\n",
        "            self.window = window\n",
        "            self.channel = channel\n",
        "\n",
        "\n",
        "        return _logssim(img1, img2, window, self.window_size, channel, self.size_average)\n",
        "\n",
        "\n",
        "def ssim(img1, img2, window_size = 11, size_average = True):\n",
        "    (_, channel, _, _) = img1.size()\n",
        "    print(f'There are {channel} channels in img1')\n",
        "    window = create_window(window_size, channel)\n",
        "\n",
        "    if img1.is_cuda:\n",
        "        window = window.cuda(img1.get_device())\n",
        "    window = window.type_as(img1)\n",
        "\n",
        "    return _ssim(img1, img2, window, window_size, channel, size_average)"
      ]
    },
    {
      "cell_type": "code",
      "execution_count": 140,
      "metadata": {
        "colab": {
          "base_uri": "https://localhost:8080/",
          "height": 165
        },
        "id": "vqFDjrqRxSlE",
        "outputId": "f428958c-b9dd-497f-8818-cd8ae45eca38"
      },
      "outputs": [
        {
          "ename": "AssertionError",
          "evalue": "",
          "output_type": "error",
          "traceback": [
            "\u001b[1;31m---------------------------------------------------------------------------\u001b[0m",
            "\u001b[1;31mAssertionError\u001b[0m                            Traceback (most recent call last)",
            "Cell \u001b[1;32mIn[140], line 1\u001b[0m\n\u001b[1;32m----> 1\u001b[0m \u001b[39massert\u001b[39;00m \u001b[39mFalse\u001b[39;00m\n",
            "\u001b[1;31mAssertionError\u001b[0m: "
          ]
        }
      ],
      "source": [
        "assert False"
      ]
    },
    {
      "cell_type": "code",
      "execution_count": 141,
      "metadata": {
        "colab": {
          "base_uri": "https://localhost:8080/"
        },
        "id": "Bu3-x5011kuX",
        "outputId": "075f571b-fb11-4647-9482-564ee1dac2a8"
      },
      "outputs": [
        {
          "name": "stdout",
          "output_type": "stream",
          "text": [
            "SwinTransformerSys expand initial----depths:[2, 2, 18, 2];depths_decoder:[4, 4, 4, 4];drop_path_rate:0.1;num_classes:2\n",
            "pretrained_path:swin_pretrain_224.pth\n",
            "---start load pretrained modle of swin encoder---\n"
          ]
        },
        {
          "data": {
            "text/plain": [
              "<All keys matched successfully>"
            ]
          },
          "execution_count": 141,
          "metadata": {},
          "output_type": "execute_result"
        }
      ],
      "source": [
        "model = Encoder().cuda()\n",
        "model.load_state_dict(torch.load('docdiffV2.pth'))"
      ]
    },
    {
      "cell_type": "code",
      "execution_count": null,
      "metadata": {},
      "outputs": [],
      "source": [
        "import pickle\n",
        "model = pickle.load(open('DocDiff(varying_translations).pkl', 'rb'))"
      ]
    },
    {
      "cell_type": "code",
      "execution_count": 35,
      "metadata": {
        "id": "lLbduUSG4Bzw"
      },
      "outputs": [
        {
          "data": {
            "text/plain": [
              "168529324"
            ]
          },
          "execution_count": 35,
          "metadata": {},
          "output_type": "execute_result"
        }
      ],
      "source": [
        "total_params = sum(\n",
        "\tparam.numel() for param in model.parameters()\n",
        ")\n",
        "total_params"
      ]
    },
    {
      "cell_type": "code",
      "execution_count": 143,
      "metadata": {
        "colab": {
          "base_uri": "https://localhost:8080/",
          "height": 339
        },
        "id": "jr1xeMTLYSxC",
        "outputId": "9fcd3c76-8ff1-4df7-a08f-7150e9e48e9c"
      },
      "outputs": [
        {
          "name": "stdout",
          "output_type": "stream",
          "text": [
            "Using cos LR Scheduler!\n",
            "Train Loader Length:  1360\n",
            "0\n",
            "0.001\n",
            "LR is: 0.001\n"
          ]
        },
        {
          "name": "stderr",
          "output_type": "stream",
          "text": [
            "  0%|             | 1/1360 [00:00<14:28,  1.56it/s, epoch=0]"
          ]
        },
        {
          "name": "stdout",
          "output_type": "stream",
          "text": [
            "0 | losses0: 0.220 | losses1: 0.194 | losses2: 0.172 | losses3: 0.052 | losses4: 0.096 | losses5: 0.234 | losses6: 0.360 | losses7: 0.252 losses8: 0.682 | losses9: 0.679 | losses10: 0.680 | losses11: 0.673\n"
          ]
        },
        {
          "name": "stderr",
          "output_type": "stream",
          "text": [
            "  7%|▊          | 101/1360 [00:55<10:40,  1.96it/s, epoch=0]"
          ]
        },
        {
          "name": "stdout",
          "output_type": "stream",
          "text": [
            "100 | losses0: 16.123 | losses1: 16.235 | losses2: 17.974 | losses3: 23.201 | losses4: 8.163 | losses5: 15.383 | losses6: 21.913 | losses7: 29.811 losses8: 48.205 | losses9: 48.928 | losses10: 52.249 | losses11: 59.207\n"
          ]
        },
        {
          "name": "stderr",
          "output_type": "stream",
          "text": [
            " 15%|█▋         | 201/1360 [01:57<09:25,  2.05it/s, epoch=0]"
          ]
        },
        {
          "name": "stdout",
          "output_type": "stream",
          "text": [
            "200 | losses0: 14.968 | losses1: 15.105 | losses2: 16.389 | losses3: 21.044 | losses4: 7.403 | losses5: 14.470 | losses6: 20.430 | losses7: 28.279 losses8: 46.799 | losses9: 47.128 | losses10: 51.147 | losses11: 57.723\n"
          ]
        },
        {
          "name": "stderr",
          "output_type": "stream",
          "text": [
            " 22%|██▍        | 301/1360 [02:56<09:33,  1.85it/s, epoch=0]"
          ]
        },
        {
          "name": "stdout",
          "output_type": "stream",
          "text": [
            "300 | losses0: 15.283 | losses1: 15.739 | losses2: 16.258 | losses3: 18.936 | losses4: 8.025 | losses5: 16.006 | losses6: 21.930 | losses7: 29.931 losses8: 47.171 | losses9: 48.145 | losses10: 50.790 | losses11: 58.811\n"
          ]
        },
        {
          "name": "stderr",
          "output_type": "stream",
          "text": [
            " 29%|███▏       | 401/1360 [03:59<12:42,  1.26it/s, epoch=0]"
          ]
        },
        {
          "name": "stdout",
          "output_type": "stream",
          "text": [
            "400 | losses0: 16.226 | losses1: 15.983 | losses2: 16.534 | losses3: 21.593 | losses4: 8.119 | losses5: 15.425 | losses6: 21.428 | losses7: 29.125 losses8: 46.661 | losses9: 47.334 | losses10: 50.346 | losses11: 56.425\n"
          ]
        },
        {
          "name": "stderr",
          "output_type": "stream",
          "text": [
            " 37%|████       | 501/1360 [04:59<09:11,  1.56it/s, epoch=0]"
          ]
        },
        {
          "name": "stdout",
          "output_type": "stream",
          "text": [
            "500 | losses0: 13.304 | losses1: 13.070 | losses2: 15.015 | losses3: 15.421 | losses4: 6.962 | losses5: 13.584 | losses6: 20.290 | losses7: 24.013 losses8: 46.719 | losses9: 47.047 | losses10: 50.488 | losses11: 56.898\n"
          ]
        },
        {
          "name": "stderr",
          "output_type": "stream",
          "text": [
            " 44%|████▊      | 601/1360 [05:57<08:14,  1.54it/s, epoch=0]"
          ]
        },
        {
          "name": "stdout",
          "output_type": "stream",
          "text": [
            "600 | losses0: 14.550 | losses1: 14.834 | losses2: 15.542 | losses3: 18.469 | losses4: 7.132 | losses5: 14.392 | losses6: 19.887 | losses7: 26.763 losses8: 47.561 | losses9: 47.959 | losses10: 50.072 | losses11: 57.608\n"
          ]
        },
        {
          "name": "stderr",
          "output_type": "stream",
          "text": [
            " 52%|█████▋     | 701/1360 [06:54<07:21,  1.49it/s, epoch=0]"
          ]
        },
        {
          "name": "stdout",
          "output_type": "stream",
          "text": [
            "700 | losses0: 15.787 | losses1: 16.064 | losses2: 17.976 | losses3: 20.014 | losses4: 8.479 | losses5: 15.356 | losses6: 21.820 | losses7: 28.042 losses8: 46.170 | losses9: 46.820 | losses10: 50.333 | losses11: 56.635\n"
          ]
        },
        {
          "name": "stderr",
          "output_type": "stream",
          "text": [
            " 59%|██████▍    | 801/1360 [07:53<06:05,  1.53it/s, epoch=0]"
          ]
        },
        {
          "name": "stdout",
          "output_type": "stream",
          "text": [
            "800 | losses0: 15.972 | losses1: 15.956 | losses2: 17.131 | losses3: 16.546 | losses4: 8.156 | losses5: 15.396 | losses6: 21.231 | losses7: 25.933 losses8: 48.372 | losses9: 48.833 | losses10: 50.918 | losses11: 55.534\n"
          ]
        },
        {
          "name": "stderr",
          "output_type": "stream",
          "text": [
            " 66%|███████▎   | 901/1360 [08:51<05:13,  1.47it/s, epoch=0]"
          ]
        },
        {
          "name": "stdout",
          "output_type": "stream",
          "text": [
            "900 | losses0: 15.631 | losses1: 15.789 | losses2: 15.586 | losses3: 19.651 | losses4: 7.966 | losses5: 15.460 | losses6: 21.378 | losses7: 28.371 losses8: 47.065 | losses9: 47.679 | losses10: 50.669 | losses11: 57.848\n"
          ]
        },
        {
          "name": "stderr",
          "output_type": "stream",
          "text": [
            " 74%|███████▎  | 1001/1360 [09:51<04:22,  1.37it/s, epoch=0]"
          ]
        },
        {
          "name": "stdout",
          "output_type": "stream",
          "text": [
            "1000 | losses0: 15.708 | losses1: 16.066 | losses2: 16.141 | losses3: 20.742 | losses4: 7.727 | losses5: 15.256 | losses6: 21.066 | losses7: 29.261 losses8: 44.892 | losses9: 45.631 | losses10: 48.104 | losses11: 56.749\n"
          ]
        },
        {
          "name": "stderr",
          "output_type": "stream",
          "text": [
            " 81%|████████  | 1101/1360 [10:52<02:53,  1.49it/s, epoch=0]"
          ]
        },
        {
          "name": "stdout",
          "output_type": "stream",
          "text": [
            "1100 | losses0: 13.312 | losses1: 13.130 | losses2: 13.889 | losses3: 14.812 | losses4: 6.847 | losses5: 13.797 | losses6: 20.409 | losses7: 24.864 losses8: 47.597 | losses9: 48.339 | losses10: 50.553 | losses11: 58.319\n"
          ]
        },
        {
          "name": "stderr",
          "output_type": "stream",
          "text": [
            " 88%|████████▊ | 1201/1360 [11:55<02:01,  1.31it/s, epoch=0]"
          ]
        },
        {
          "name": "stdout",
          "output_type": "stream",
          "text": [
            "1200 | losses0: 16.026 | losses1: 15.586 | losses2: 16.246 | losses3: 19.881 | losses4: 8.417 | losses5: 15.630 | losses6: 21.176 | losses7: 26.961 losses8: 46.595 | losses9: 46.766 | losses10: 49.025 | losses11: 55.371\n"
          ]
        },
        {
          "name": "stderr",
          "output_type": "stream",
          "text": [
            " 96%|█████████▌| 1301/1360 [12:59<00:40,  1.44it/s, epoch=0]"
          ]
        },
        {
          "name": "stdout",
          "output_type": "stream",
          "text": [
            "1300 | losses0: 15.503 | losses1: 15.405 | losses2: 15.906 | losses3: 16.319 | losses4: 8.095 | losses5: 15.873 | losses6: 22.571 | losses7: 25.743 losses8: 48.185 | losses9: 48.679 | losses10: 50.731 | losses11: 55.879\n"
          ]
        },
        {
          "name": "stderr",
          "output_type": "stream",
          "text": [
            "100%|██████████| 1360/1360 [13:36<00:00,  1.67it/s, epoch=0]\n"
          ]
        },
        {
          "name": "stdout",
          "output_type": "stream",
          "text": [
            "\n",
            " epoch: 0 epoch loss: tensor(4597.5527, device='cuda:0', grad_fn=<AddBackward0>)\n",
            "1\n",
            "LR is: 0.001\n"
          ]
        },
        {
          "name": "stderr",
          "output_type": "stream",
          "text": [
            "  0%|             | 1/1360 [00:00<20:13,  1.12it/s, epoch=1]"
          ]
        },
        {
          "name": "stdout",
          "output_type": "stream",
          "text": [
            "0 | losses0: 7.268 | losses1: 7.480 | losses2: 8.535 | losses3: 7.650 | losses4: 4.253 | losses5: 8.161 | losses6: 11.978 | losses7: 12.508 losses8: 26.550 | losses9: 26.997 | losses10: 29.469 | losses11: 31.881\n"
          ]
        },
        {
          "name": "stderr",
          "output_type": "stream",
          "text": [
            "  7%|▊          | 101/1360 [01:02<13:28,  1.56it/s, epoch=1]"
          ]
        },
        {
          "name": "stdout",
          "output_type": "stream",
          "text": [
            "100 | losses0: 13.945 | losses1: 13.955 | losses2: 15.465 | losses3: 13.262 | losses4: 7.273 | losses5: 13.725 | losses6: 19.620 | losses7: 22.283 losses8: 40.840 | losses9: 41.133 | losses10: 44.626 | losses11: 49.356\n"
          ]
        },
        {
          "name": "stderr",
          "output_type": "stream",
          "text": [
            " 15%|█▋         | 201/1360 [02:13<33:07,  1.72s/it, epoch=1]"
          ]
        },
        {
          "name": "stdout",
          "output_type": "stream",
          "text": [
            "200 | losses0: 12.621 | losses1: 12.568 | losses2: 12.410 | losses3: 15.010 | losses4: 5.971 | losses5: 12.260 | losses6: 17.653 | losses7: 22.009 losses8: 47.065 | losses9: 47.249 | losses10: 49.092 | losses11: 55.259\n"
          ]
        },
        {
          "name": "stderr",
          "output_type": "stream",
          "text": [
            " 22%|██▍        | 301/1360 [03:38<11:10,  1.58it/s, epoch=1]"
          ]
        },
        {
          "name": "stdout",
          "output_type": "stream",
          "text": [
            "300 | losses0: 14.081 | losses1: 13.862 | losses2: 15.625 | losses3: 14.843 | losses4: 7.002 | losses5: 13.269 | losses6: 18.949 | losses7: 22.147 losses8: 45.614 | losses9: 45.854 | losses10: 48.351 | losses11: 53.427\n"
          ]
        },
        {
          "name": "stderr",
          "output_type": "stream",
          "text": [
            " 29%|███▏       | 401/1360 [04:39<09:25,  1.70it/s, epoch=1]"
          ]
        },
        {
          "name": "stdout",
          "output_type": "stream",
          "text": [
            "400 | losses0: 15.213 | losses1: 15.127 | losses2: 15.449 | losses3: 17.561 | losses4: 7.887 | losses5: 14.423 | losses6: 19.475 | losses7: 24.014 losses8: 42.575 | losses9: 42.713 | losses10: 45.445 | losses11: 49.718\n"
          ]
        },
        {
          "name": "stderr",
          "output_type": "stream",
          "text": [
            " 37%|████       | 501/1360 [05:47<07:32,  1.90it/s, epoch=1]"
          ]
        },
        {
          "name": "stdout",
          "output_type": "stream",
          "text": [
            "500 | losses0: 14.050 | losses1: 13.930 | losses2: 15.065 | losses3: 17.109 | losses4: 7.041 | losses5: 13.372 | losses6: 18.793 | losses7: 21.827 losses8: 43.475 | losses9: 43.987 | losses10: 47.386 | losses11: 50.217\n"
          ]
        },
        {
          "name": "stderr",
          "output_type": "stream",
          "text": [
            " 44%|████▊      | 601/1360 [06:51<06:57,  1.82it/s, epoch=1]"
          ]
        },
        {
          "name": "stdout",
          "output_type": "stream",
          "text": [
            "600 | losses0: 13.672 | losses1: 13.526 | losses2: 15.010 | losses3: 16.266 | losses4: 7.099 | losses5: 13.794 | losses6: 19.134 | losses7: 22.939 losses8: 43.740 | losses9: 44.242 | losses10: 47.289 | losses11: 51.975\n"
          ]
        },
        {
          "name": "stderr",
          "output_type": "stream",
          "text": [
            " 52%|█████▋     | 701/1360 [08:04<07:27,  1.47it/s, epoch=1]"
          ]
        },
        {
          "name": "stdout",
          "output_type": "stream",
          "text": [
            "700 | losses0: 13.232 | losses1: 13.284 | losses2: 13.539 | losses3: 16.342 | losses4: 6.896 | losses5: 13.404 | losses6: 17.602 | losses7: 23.515 losses8: 43.592 | losses9: 43.844 | losses10: 44.596 | losses11: 53.068\n"
          ]
        },
        {
          "name": "stderr",
          "output_type": "stream",
          "text": [
            " 59%|██████▍    | 801/1360 [09:07<05:27,  1.71it/s, epoch=1]"
          ]
        },
        {
          "name": "stdout",
          "output_type": "stream",
          "text": [
            "800 | losses0: 15.747 | losses1: 15.535 | losses2: 16.556 | losses3: 16.337 | losses4: 7.787 | losses5: 15.056 | losses6: 20.945 | losses7: 25.133 losses8: 44.584 | losses9: 45.411 | losses10: 47.615 | losses11: 51.688\n"
          ]
        },
        {
          "name": "stderr",
          "output_type": "stream",
          "text": [
            " 66%|███████▎   | 901/1360 [10:06<05:07,  1.49it/s, epoch=1]"
          ]
        },
        {
          "name": "stdout",
          "output_type": "stream",
          "text": [
            "900 | losses0: 13.063 | losses1: 13.316 | losses2: 13.809 | losses3: 13.597 | losses4: 6.778 | losses5: 13.644 | losses6: 19.255 | losses7: 22.709 losses8: 43.012 | losses9: 43.179 | losses10: 45.543 | losses11: 51.417\n"
          ]
        },
        {
          "name": "stderr",
          "output_type": "stream",
          "text": [
            " 74%|███████▎  | 1001/1360 [11:07<03:53,  1.54it/s, epoch=1]"
          ]
        },
        {
          "name": "stdout",
          "output_type": "stream",
          "text": [
            "1000 | losses0: 14.136 | losses1: 13.925 | losses2: 14.365 | losses3: 16.963 | losses4: 7.140 | losses5: 13.581 | losses6: 18.740 | losses7: 21.830 losses8: 45.854 | losses9: 46.175 | losses10: 47.823 | losses11: 51.796\n"
          ]
        },
        {
          "name": "stderr",
          "output_type": "stream",
          "text": [
            " 81%|████████  | 1101/1360 [12:13<03:02,  1.42it/s, epoch=1]"
          ]
        },
        {
          "name": "stdout",
          "output_type": "stream",
          "text": [
            "1100 | losses0: 15.102 | losses1: 14.894 | losses2: 15.144 | losses3: 17.295 | losses4: 7.508 | losses5: 13.820 | losses6: 18.409 | losses7: 24.761 losses8: 44.960 | losses9: 45.192 | losses10: 46.117 | losses11: 53.583\n"
          ]
        },
        {
          "name": "stderr",
          "output_type": "stream",
          "text": [
            " 88%|████████▊ | 1201/1360 [13:15<01:54,  1.38it/s, epoch=1]"
          ]
        },
        {
          "name": "stdout",
          "output_type": "stream",
          "text": [
            "1200 | losses0: 13.593 | losses1: 13.786 | losses2: 14.463 | losses3: 15.967 | losses4: 6.994 | losses5: 13.303 | losses6: 18.299 | losses7: 22.960 losses8: 44.407 | losses9: 45.106 | losses10: 46.408 | losses11: 52.770\n"
          ]
        },
        {
          "name": "stderr",
          "output_type": "stream",
          "text": [
            " 96%|█████████▌| 1301/1360 [14:20<00:37,  1.55it/s, epoch=1]"
          ]
        },
        {
          "name": "stdout",
          "output_type": "stream",
          "text": [
            "1300 | losses0: 14.651 | losses1: 14.927 | losses2: 14.711 | losses3: 16.746 | losses4: 6.965 | losses5: 13.921 | losses6: 19.121 | losses7: 23.162 losses8: 44.535 | losses9: 44.752 | losses10: 47.879 | losses11: 52.656\n"
          ]
        },
        {
          "name": "stderr",
          "output_type": "stream",
          "text": [
            "100%|██████████| 1360/1360 [14:56<00:00,  1.52it/s, epoch=1]\n"
          ]
        },
        {
          "name": "stdout",
          "output_type": "stream",
          "text": [
            "\n",
            " epoch: 1 epoch loss: tensor(4211.9341, device='cuda:0', grad_fn=<AddBackward0>)\n",
            "2\n",
            "LR is: 0.001\n"
          ]
        },
        {
          "name": "stderr",
          "output_type": "stream",
          "text": [
            "  0%|             | 1/1360 [00:00<16:45,  1.35it/s, epoch=2]"
          ]
        },
        {
          "name": "stdout",
          "output_type": "stream",
          "text": [
            "0 | losses0: 7.904 | losses1: 7.966 | losses2: 8.088 | losses3: 8.673 | losses4: 3.876 | losses5: 8.139 | losses6: 11.812 | losses7: 12.579 losses8: 30.044 | losses9: 30.220 | losses10: 30.886 | losses11: 32.864\n"
          ]
        },
        {
          "name": "stderr",
          "output_type": "stream",
          "text": [
            "  7%|▊          | 101/1360 [00:39<09:37,  2.18it/s, epoch=2]"
          ]
        },
        {
          "name": "stdout",
          "output_type": "stream",
          "text": [
            "100 | losses0: 13.863 | losses1: 14.095 | losses2: 14.040 | losses3: 14.011 | losses4: 6.883 | losses5: 13.164 | losses6: 16.772 | losses7: 17.174 losses8: 41.547 | losses9: 42.116 | losses10: 44.395 | losses11: 46.353\n"
          ]
        },
        {
          "name": "stderr",
          "output_type": "stream",
          "text": [
            " 15%|█▋         | 201/1360 [01:43<09:56,  1.94it/s, epoch=2]"
          ]
        },
        {
          "name": "stdout",
          "output_type": "stream",
          "text": [
            "200 | losses0: 11.891 | losses1: 11.803 | losses2: 11.772 | losses3: 14.798 | losses4: 5.972 | losses5: 11.517 | losses6: 15.467 | losses7: 19.272 losses8: 42.945 | losses9: 43.163 | losses10: 45.831 | losses11: 48.644\n"
          ]
        },
        {
          "name": "stderr",
          "output_type": "stream",
          "text": [
            " 22%|██▍        | 301/1360 [02:44<07:44,  2.28it/s, epoch=2]"
          ]
        },
        {
          "name": "stdout",
          "output_type": "stream",
          "text": [
            "300 | losses0: 12.523 | losses1: 12.379 | losses2: 12.994 | losses3: 13.140 | losses4: 6.110 | losses5: 11.834 | losses6: 16.672 | losses7: 19.062 losses8: 43.395 | losses9: 43.253 | losses10: 46.214 | losses11: 49.816\n"
          ]
        },
        {
          "name": "stderr",
          "output_type": "stream",
          "text": [
            " 29%|███▏       | 401/1360 [03:46<07:58,  2.00it/s, epoch=2]"
          ]
        },
        {
          "name": "stdout",
          "output_type": "stream",
          "text": [
            "400 | losses0: 12.888 | losses1: 12.880 | losses2: 13.776 | losses3: 14.361 | losses4: 6.273 | losses5: 12.091 | losses6: 16.896 | losses7: 19.605 losses8: 44.334 | losses9: 44.555 | losses10: 46.932 | losses11: 49.321\n"
          ]
        },
        {
          "name": "stderr",
          "output_type": "stream",
          "text": [
            " 37%|████       | 501/1360 [04:48<08:38,  1.66it/s, epoch=2]"
          ]
        },
        {
          "name": "stdout",
          "output_type": "stream",
          "text": [
            "500 | losses0: 12.557 | losses1: 12.544 | losses2: 12.634 | losses3: 13.817 | losses4: 6.217 | losses5: 12.400 | losses6: 17.012 | losses7: 19.344 losses8: 42.702 | losses9: 43.204 | losses10: 44.597 | losses11: 50.059\n"
          ]
        },
        {
          "name": "stderr",
          "output_type": "stream",
          "text": [
            " 44%|████▊      | 601/1360 [05:47<07:43,  1.64it/s, epoch=2]"
          ]
        },
        {
          "name": "stdout",
          "output_type": "stream",
          "text": [
            "600 | losses0: 13.454 | losses1: 13.174 | losses2: 14.516 | losses3: 14.978 | losses4: 6.518 | losses5: 12.517 | losses6: 18.905 | losses7: 18.953 losses8: 43.127 | losses9: 43.301 | losses10: 45.598 | losses11: 46.629\n"
          ]
        },
        {
          "name": "stderr",
          "output_type": "stream",
          "text": [
            " 52%|█████▋     | 701/1360 [06:47<07:12,  1.52it/s, epoch=2]"
          ]
        },
        {
          "name": "stdout",
          "output_type": "stream",
          "text": [
            "700 | losses0: 13.012 | losses1: 13.122 | losses2: 12.908 | losses3: 14.540 | losses4: 6.641 | losses5: 12.231 | losses6: 16.737 | losses7: 20.469 losses8: 41.651 | losses9: 41.870 | losses10: 43.972 | losses11: 47.662\n"
          ]
        },
        {
          "name": "stderr",
          "output_type": "stream",
          "text": [
            " 59%|██████▍    | 801/1360 [07:54<06:51,  1.36it/s, epoch=2]"
          ]
        },
        {
          "name": "stdout",
          "output_type": "stream",
          "text": [
            "800 | losses0: 14.799 | losses1: 14.976 | losses2: 14.325 | losses3: 15.894 | losses4: 7.058 | losses5: 13.782 | losses6: 18.333 | losses7: 21.261 losses8: 41.165 | losses9: 41.707 | losses10: 42.991 | losses11: 46.125\n"
          ]
        },
        {
          "name": "stderr",
          "output_type": "stream",
          "text": [
            " 66%|███████▎   | 901/1360 [08:56<04:40,  1.64it/s, epoch=2]"
          ]
        },
        {
          "name": "stdout",
          "output_type": "stream",
          "text": [
            "900 | losses0: 13.091 | losses1: 12.939 | losses2: 14.663 | losses3: 12.869 | losses4: 6.675 | losses5: 12.304 | losses6: 17.849 | losses7: 20.112 losses8: 41.925 | losses9: 41.787 | losses10: 45.597 | losses11: 49.882\n"
          ]
        },
        {
          "name": "stderr",
          "output_type": "stream",
          "text": [
            " 74%|███████▎  | 1001/1360 [10:03<03:58,  1.50it/s, epoch=2]"
          ]
        },
        {
          "name": "stdout",
          "output_type": "stream",
          "text": [
            "1000 | losses0: 14.572 | losses1: 14.820 | losses2: 15.133 | losses3: 15.993 | losses4: 7.096 | losses5: 13.214 | losses6: 18.017 | losses7: 21.881 losses8: 44.042 | losses9: 44.137 | losses10: 44.905 | losses11: 50.329\n"
          ]
        },
        {
          "name": "stderr",
          "output_type": "stream",
          "text": [
            " 81%|████████  | 1101/1360 [11:20<04:37,  1.07s/it, epoch=2]"
          ]
        },
        {
          "name": "stdout",
          "output_type": "stream",
          "text": [
            "1100 | losses0: 12.726 | losses1: 12.557 | losses2: 14.384 | losses3: 14.056 | losses4: 6.267 | losses5: 12.219 | losses6: 17.149 | losses7: 19.141 losses8: 40.903 | losses9: 41.070 | losses10: 43.775 | losses11: 47.318\n"
          ]
        },
        {
          "name": "stderr",
          "output_type": "stream",
          "text": [
            " 88%|████████▊ | 1201/1360 [12:34<01:51,  1.43it/s, epoch=2]"
          ]
        },
        {
          "name": "stdout",
          "output_type": "stream",
          "text": [
            "1200 | losses0: 12.005 | losses1: 12.264 | losses2: 12.878 | losses3: 12.792 | losses4: 6.146 | losses5: 11.776 | losses6: 17.135 | losses7: 18.914 losses8: 40.181 | losses9: 40.194 | losses10: 42.893 | losses11: 45.594\n"
          ]
        },
        {
          "name": "stderr",
          "output_type": "stream",
          "text": [
            " 96%|█████████▌| 1301/1360 [13:47<00:40,  1.44it/s, epoch=2]"
          ]
        },
        {
          "name": "stdout",
          "output_type": "stream",
          "text": [
            "1300 | losses0: 13.357 | losses1: 13.219 | losses2: 12.874 | losses3: 14.417 | losses4: 6.654 | losses5: 12.644 | losses6: 16.579 | losses7: 19.000 losses8: 42.137 | losses9: 42.372 | losses10: 42.457 | losses11: 47.121\n"
          ]
        },
        {
          "name": "stderr",
          "output_type": "stream",
          "text": [
            "100%|██████████| 1360/1360 [14:31<00:00,  1.56it/s, epoch=2]\n"
          ]
        },
        {
          "name": "stdout",
          "output_type": "stream",
          "text": [
            "\n",
            " epoch: 2 epoch loss: tensor(3911.8794, device='cuda:0', grad_fn=<AddBackward0>)\n",
            "3\n",
            "LR is: 0.001\n"
          ]
        },
        {
          "name": "stderr",
          "output_type": "stream",
          "text": [
            "  0%|             | 1/1360 [00:00<16:41,  1.36it/s, epoch=3]"
          ]
        },
        {
          "name": "stdout",
          "output_type": "stream",
          "text": [
            "0 | losses0: 7.673 | losses1: 7.815 | losses2: 8.501 | losses3: 9.048 | losses4: 3.702 | losses5: 7.384 | losses6: 10.848 | losses7: 12.596 losses8: 25.448 | losses9: 25.674 | losses10: 26.808 | losses11: 30.880\n"
          ]
        },
        {
          "name": "stderr",
          "output_type": "stream",
          "text": [
            "  7%|▊          | 101/1360 [00:44<09:17,  2.26it/s, epoch=3]"
          ]
        },
        {
          "name": "stdout",
          "output_type": "stream",
          "text": [
            "100 | losses0: 13.125 | losses1: 13.322 | losses2: 13.195 | losses3: 14.167 | losses4: 6.352 | losses5: 12.008 | losses6: 15.508 | losses7: 18.735 losses8: 41.153 | losses9: 42.141 | losses10: 42.748 | losses11: 45.150\n"
          ]
        },
        {
          "name": "stderr",
          "output_type": "stream",
          "text": [
            " 15%|█▋         | 201/1360 [02:03<15:21,  1.26it/s, epoch=3]"
          ]
        },
        {
          "name": "stdout",
          "output_type": "stream",
          "text": [
            "200 | losses0: 11.859 | losses1: 11.539 | losses2: 12.895 | losses3: 10.792 | losses4: 6.034 | losses5: 11.248 | losses6: 15.946 | losses7: 15.160 losses8: 39.642 | losses9: 39.857 | losses10: 42.284 | losses11: 42.549\n"
          ]
        },
        {
          "name": "stderr",
          "output_type": "stream",
          "text": [
            " 22%|██▍        | 301/1360 [03:20<16:54,  1.04it/s, epoch=3]"
          ]
        },
        {
          "name": "stdout",
          "output_type": "stream",
          "text": [
            "300 | losses0: 10.780 | losses1: 10.621 | losses2: 11.399 | losses3: 10.416 | losses4: 5.733 | losses5: 10.482 | losses6: 14.466 | losses7: 14.356 losses8: 38.709 | losses9: 38.563 | losses10: 41.612 | losses11: 43.093\n"
          ]
        },
        {
          "name": "stderr",
          "output_type": "stream",
          "text": [
            " 29%|███▏       | 401/1360 [04:32<08:49,  1.81it/s, epoch=3]"
          ]
        },
        {
          "name": "stdout",
          "output_type": "stream",
          "text": [
            "400 | losses0: 13.405 | losses1: 13.923 | losses2: 13.694 | losses3: 13.154 | losses4: 6.279 | losses5: 12.347 | losses6: 16.915 | losses7: 17.161 losses8: 39.651 | losses9: 39.701 | losses10: 41.906 | losses11: 44.127\n"
          ]
        },
        {
          "name": "stderr",
          "output_type": "stream",
          "text": [
            " 37%|████       | 501/1360 [05:31<09:08,  1.57it/s, epoch=3]"
          ]
        },
        {
          "name": "stdout",
          "output_type": "stream",
          "text": [
            "500 | losses0: 11.931 | losses1: 11.867 | losses2: 12.800 | losses3: 12.990 | losses4: 5.875 | losses5: 10.832 | losses6: 15.499 | losses7: 15.125 losses8: 39.395 | losses9: 39.344 | losses10: 41.849 | losses11: 41.023\n"
          ]
        },
        {
          "name": "stderr",
          "output_type": "stream",
          "text": [
            " 44%|████▊      | 601/1360 [06:34<07:47,  1.62it/s, epoch=3]"
          ]
        },
        {
          "name": "stdout",
          "output_type": "stream",
          "text": [
            "600 | losses0: 12.173 | losses1: 12.008 | losses2: 13.746 | losses3: 13.107 | losses4: 6.118 | losses5: 10.944 | losses6: 15.616 | losses7: 15.907 losses8: 36.725 | losses9: 36.962 | losses10: 39.313 | losses11: 40.671\n"
          ]
        },
        {
          "name": "stderr",
          "output_type": "stream",
          "text": [
            " 52%|█████▋     | 701/1360 [07:41<08:58,  1.22it/s, epoch=3]"
          ]
        },
        {
          "name": "stdout",
          "output_type": "stream",
          "text": [
            "700 | losses0: 13.252 | losses1: 12.959 | losses2: 13.274 | losses3: 11.186 | losses4: 6.130 | losses5: 11.709 | losses6: 16.195 | losses7: 15.999 losses8: 41.698 | losses9: 41.719 | losses10: 43.198 | losses11: 46.878\n"
          ]
        },
        {
          "name": "stderr",
          "output_type": "stream",
          "text": [
            " 59%|██████▍    | 801/1360 [08:49<04:52,  1.91it/s, epoch=3]"
          ]
        },
        {
          "name": "stdout",
          "output_type": "stream",
          "text": [
            "800 | losses0: 10.693 | losses1: 11.225 | losses2: 11.567 | losses3: 11.216 | losses4: 5.307 | losses5: 10.657 | losses6: 14.862 | losses7: 15.656 losses8: 39.661 | losses9: 39.841 | losses10: 40.951 | losses11: 44.082\n"
          ]
        },
        {
          "name": "stderr",
          "output_type": "stream",
          "text": [
            " 66%|███████▎   | 901/1360 [09:55<04:20,  1.76it/s, epoch=3]"
          ]
        },
        {
          "name": "stdout",
          "output_type": "stream",
          "text": [
            "900 | losses0: 13.852 | losses1: 13.769 | losses2: 14.376 | losses3: 14.085 | losses4: 6.272 | losses5: 12.193 | losses6: 16.153 | losses7: 18.335 losses8: 40.497 | losses9: 40.477 | losses10: 41.522 | losses11: 45.817\n"
          ]
        },
        {
          "name": "stderr",
          "output_type": "stream",
          "text": [
            " 74%|███████▎  | 1001/1360 [11:03<04:29,  1.33it/s, epoch=3]"
          ]
        },
        {
          "name": "stdout",
          "output_type": "stream",
          "text": [
            "1000 | losses0: 13.131 | losses1: 13.165 | losses2: 13.768 | losses3: 14.350 | losses4: 6.339 | losses5: 12.102 | losses6: 17.698 | losses7: 18.311 losses8: 43.074 | losses9: 43.547 | losses10: 45.276 | losses11: 46.126\n"
          ]
        },
        {
          "name": "stderr",
          "output_type": "stream",
          "text": [
            " 81%|████████  | 1101/1360 [12:12<03:16,  1.32it/s, epoch=3]"
          ]
        },
        {
          "name": "stdout",
          "output_type": "stream",
          "text": [
            "1100 | losses0: 12.423 | losses1: 12.585 | losses2: 13.061 | losses3: 12.385 | losses4: 5.826 | losses5: 11.686 | losses6: 16.314 | losses7: 16.857 losses8: 44.371 | losses9: 43.995 | losses10: 45.476 | losses11: 49.144\n"
          ]
        },
        {
          "name": "stderr",
          "output_type": "stream",
          "text": [
            " 88%|████████▊ | 1201/1360 [13:19<01:50,  1.45it/s, epoch=3]"
          ]
        },
        {
          "name": "stdout",
          "output_type": "stream",
          "text": [
            "1200 | losses0: 11.844 | losses1: 11.983 | losses2: 11.763 | losses3: 12.988 | losses4: 5.497 | losses5: 11.133 | losses6: 16.216 | losses7: 17.837 losses8: 41.089 | losses9: 41.071 | losses10: 41.899 | losses11: 46.211\n"
          ]
        },
        {
          "name": "stderr",
          "output_type": "stream",
          "text": [
            " 96%|█████████▌| 1301/1360 [14:25<00:38,  1.53it/s, epoch=3]"
          ]
        },
        {
          "name": "stdout",
          "output_type": "stream",
          "text": [
            "1300 | losses0: 12.064 | losses1: 12.457 | losses2: 11.629 | losses3: 13.451 | losses4: 5.946 | losses5: 11.415 | losses6: 15.320 | losses7: 17.930 losses8: 39.369 | losses9: 39.562 | losses10: 40.137 | losses11: 44.498\n"
          ]
        },
        {
          "name": "stderr",
          "output_type": "stream",
          "text": [
            "100%|██████████| 1360/1360 [15:08<00:00,  1.50it/s, epoch=3]\n"
          ]
        },
        {
          "name": "stdout",
          "output_type": "stream",
          "text": [
            "\n",
            " epoch: 3 epoch loss: tensor(3647.6189, device='cuda:0', grad_fn=<AddBackward0>)\n",
            "4\n",
            "LR is: 0.001\n"
          ]
        },
        {
          "name": "stderr",
          "output_type": "stream",
          "text": [
            "  0%|             | 1/1360 [00:00<17:56,  1.26it/s, epoch=4]"
          ]
        },
        {
          "name": "stdout",
          "output_type": "stream",
          "text": [
            "0 | losses0: 7.715 | losses1: 7.501 | losses2: 7.947 | losses3: 7.481 | losses4: 3.781 | losses5: 6.832 | losses6: 9.025 | losses7: 9.983 losses8: 24.354 | losses9: 24.492 | losses10: 26.520 | losses11: 27.345\n"
          ]
        },
        {
          "name": "stderr",
          "output_type": "stream",
          "text": [
            "  7%|▊          | 101/1360 [00:42<09:38,  2.18it/s, epoch=4]"
          ]
        },
        {
          "name": "stdout",
          "output_type": "stream",
          "text": [
            "100 | losses0: 10.210 | losses1: 10.340 | losses2: 9.495 | losses3: 11.384 | losses4: 5.188 | losses5: 9.594 | losses6: 12.025 | losses7: 13.682 losses8: 36.694 | losses9: 36.966 | losses10: 37.559 | losses11: 38.879\n"
          ]
        },
        {
          "name": "stderr",
          "output_type": "stream",
          "text": [
            " 15%|█▋         | 201/1360 [01:54<13:02,  1.48it/s, epoch=4]"
          ]
        },
        {
          "name": "stdout",
          "output_type": "stream",
          "text": [
            "200 | losses0: 11.307 | losses1: 11.280 | losses2: 11.210 | losses3: 11.135 | losses4: 5.268 | losses5: 10.457 | losses6: 13.319 | losses7: 15.040 losses8: 38.874 | losses9: 39.004 | losses10: 39.248 | losses11: 41.929\n"
          ]
        },
        {
          "name": "stderr",
          "output_type": "stream",
          "text": [
            " 22%|██▍        | 301/1360 [02:56<07:33,  2.34it/s, epoch=4]"
          ]
        },
        {
          "name": "stdout",
          "output_type": "stream",
          "text": [
            "300 | losses0: 12.631 | losses1: 12.611 | losses2: 13.914 | losses3: 10.980 | losses4: 6.178 | losses5: 11.544 | losses6: 16.384 | losses7: 12.117 losses8: 38.743 | losses9: 38.751 | losses10: 40.865 | losses11: 39.301\n"
          ]
        },
        {
          "name": "stderr",
          "output_type": "stream",
          "text": [
            " 29%|███▏       | 401/1360 [04:02<09:52,  1.62it/s, epoch=4]"
          ]
        },
        {
          "name": "stdout",
          "output_type": "stream",
          "text": [
            "400 | losses0: 11.687 | losses1: 12.071 | losses2: 11.695 | losses3: 9.212 | losses4: 5.621 | losses5: 10.633 | losses6: 14.153 | losses7: 13.257 losses8: 40.065 | losses9: 40.123 | losses10: 40.691 | losses11: 42.231\n"
          ]
        },
        {
          "name": "stderr",
          "output_type": "stream",
          "text": [
            " 37%|████       | 501/1360 [05:11<09:32,  1.50it/s, epoch=4]"
          ]
        },
        {
          "name": "stdout",
          "output_type": "stream",
          "text": [
            "500 | losses0: 12.256 | losses1: 12.073 | losses2: 13.530 | losses3: 10.988 | losses4: 5.765 | losses5: 10.391 | losses6: 15.078 | losses7: 13.259 losses8: 41.094 | losses9: 40.843 | losses10: 43.820 | losses11: 43.360\n"
          ]
        },
        {
          "name": "stderr",
          "output_type": "stream",
          "text": [
            " 44%|████▊      | 601/1360 [06:21<08:07,  1.56it/s, epoch=4]"
          ]
        },
        {
          "name": "stdout",
          "output_type": "stream",
          "text": [
            "600 | losses0: 11.297 | losses1: 11.214 | losses2: 11.863 | losses3: 11.124 | losses4: 5.446 | losses5: 10.752 | losses6: 15.369 | losses7: 15.202 losses8: 37.556 | losses9: 37.617 | losses10: 39.129 | losses11: 40.136\n"
          ]
        },
        {
          "name": "stderr",
          "output_type": "stream",
          "text": [
            " 52%|█████▋     | 701/1360 [07:21<07:40,  1.43it/s, epoch=4]"
          ]
        },
        {
          "name": "stdout",
          "output_type": "stream",
          "text": [
            "700 | losses0: 12.297 | losses1: 12.059 | losses2: 12.614 | losses3: 11.664 | losses4: 6.084 | losses5: 10.903 | losses6: 15.079 | losses7: 13.957 losses8: 40.075 | losses9: 39.744 | losses10: 41.490 | losses11: 41.130\n"
          ]
        },
        {
          "name": "stderr",
          "output_type": "stream",
          "text": [
            " 59%|██████▍    | 801/1360 [08:22<05:51,  1.59it/s, epoch=4]"
          ]
        },
        {
          "name": "stdout",
          "output_type": "stream",
          "text": [
            "800 | losses0: 10.488 | losses1: 10.562 | losses2: 11.497 | losses3: 9.098 | losses4: 5.460 | losses5: 10.208 | losses6: 15.033 | losses7: 11.936 losses8: 38.224 | losses9: 38.231 | losses10: 39.604 | losses11: 41.476\n"
          ]
        },
        {
          "name": "stderr",
          "output_type": "stream",
          "text": [
            " 66%|███████▎   | 901/1360 [09:22<05:33,  1.38it/s, epoch=4]"
          ]
        },
        {
          "name": "stdout",
          "output_type": "stream",
          "text": [
            "900 | losses0: 12.302 | losses1: 12.182 | losses2: 13.232 | losses3: 10.640 | losses4: 5.703 | losses5: 10.665 | losses6: 15.006 | losses7: 14.068 losses8: 38.232 | losses9: 38.103 | losses10: 40.212 | losses11: 41.026\n"
          ]
        },
        {
          "name": "stderr",
          "output_type": "stream",
          "text": [
            " 74%|███████▎  | 1001/1360 [10:22<03:55,  1.53it/s, epoch=4]"
          ]
        },
        {
          "name": "stdout",
          "output_type": "stream",
          "text": [
            "1000 | losses0: 11.616 | losses1: 11.962 | losses2: 11.513 | losses3: 11.896 | losses4: 5.412 | losses5: 11.141 | losses6: 15.487 | losses7: 15.216 losses8: 40.358 | losses9: 40.630 | losses10: 42.390 | losses11: 42.057\n"
          ]
        },
        {
          "name": "stderr",
          "output_type": "stream",
          "text": [
            " 81%|████████  | 1101/1360 [11:26<03:22,  1.28it/s, epoch=4]"
          ]
        },
        {
          "name": "stdout",
          "output_type": "stream",
          "text": [
            "1100 | losses0: 11.969 | losses1: 12.022 | losses2: 11.619 | losses3: 11.320 | losses4: 5.871 | losses5: 11.209 | losses6: 14.915 | losses7: 15.834 losses8: 36.246 | losses9: 36.296 | losses10: 36.990 | losses11: 38.572\n"
          ]
        },
        {
          "name": "stderr",
          "output_type": "stream",
          "text": [
            " 88%|████████▊ | 1201/1360 [12:28<01:44,  1.52it/s, epoch=4]"
          ]
        },
        {
          "name": "stdout",
          "output_type": "stream",
          "text": [
            "1200 | losses0: 11.461 | losses1: 11.385 | losses2: 12.211 | losses3: 13.227 | losses4: 5.413 | losses5: 10.398 | losses6: 14.791 | losses7: 14.387 losses8: 40.201 | losses9: 40.156 | losses10: 41.631 | losses11: 41.898\n"
          ]
        },
        {
          "name": "stderr",
          "output_type": "stream",
          "text": [
            " 96%|█████████▌| 1301/1360 [13:47<00:37,  1.56it/s, epoch=4]"
          ]
        },
        {
          "name": "stdout",
          "output_type": "stream",
          "text": [
            "1300 | losses0: 12.853 | losses1: 12.725 | losses2: 12.890 | losses3: 13.826 | losses4: 6.296 | losses5: 11.423 | losses6: 14.667 | losses7: 17.683 losses8: 38.955 | losses9: 38.981 | losses10: 40.089 | losses11: 43.841\n"
          ]
        },
        {
          "name": "stderr",
          "output_type": "stream",
          "text": [
            "100%|██████████| 1360/1360 [14:27<00:00,  1.57it/s, epoch=4]\n"
          ]
        },
        {
          "name": "stdout",
          "output_type": "stream",
          "text": [
            "\n",
            " epoch: 4 epoch loss: tensor(3428.6501, device='cuda:0', grad_fn=<AddBackward0>)\n",
            "5\n",
            "LR is: 0.001\n"
          ]
        },
        {
          "name": "stderr",
          "output_type": "stream",
          "text": [
            "  0%|             | 1/1360 [00:00<17:03,  1.33it/s, epoch=5]"
          ]
        },
        {
          "name": "stdout",
          "output_type": "stream",
          "text": [
            "0 | losses0: 7.655 | losses1: 7.814 | losses2: 7.864 | losses3: 7.347 | losses4: 3.533 | losses5: 7.036 | losses6: 9.800 | losses7: 10.859 losses8: 23.578 | losses9: 23.825 | losses10: 24.156 | losses11: 25.359\n"
          ]
        },
        {
          "name": "stderr",
          "output_type": "stream",
          "text": [
            "  7%|▊          | 101/1360 [00:45<10:14,  2.05it/s, epoch=5]"
          ]
        },
        {
          "name": "stdout",
          "output_type": "stream",
          "text": [
            "100 | losses0: 12.805 | losses1: 12.579 | losses2: 12.950 | losses3: 12.958 | losses4: 6.152 | losses5: 10.913 | losses6: 14.400 | losses7: 13.357 losses8: 35.187 | losses9: 34.884 | losses10: 36.202 | losses11: 35.757\n"
          ]
        },
        {
          "name": "stderr",
          "output_type": "stream",
          "text": [
            " 15%|█▋         | 201/1360 [01:48<11:44,  1.64it/s, epoch=5]"
          ]
        },
        {
          "name": "stdout",
          "output_type": "stream",
          "text": [
            "200 | losses0: 12.230 | losses1: 11.981 | losses2: 12.499 | losses3: 11.295 | losses4: 6.463 | losses5: 11.010 | losses6: 14.088 | losses7: 12.689 losses8: 36.775 | losses9: 36.297 | losses10: 37.581 | losses11: 37.287\n"
          ]
        },
        {
          "name": "stderr",
          "output_type": "stream",
          "text": [
            " 22%|██▍        | 301/1360 [02:46<08:42,  2.03it/s, epoch=5]"
          ]
        },
        {
          "name": "stdout",
          "output_type": "stream",
          "text": [
            "300 | losses0: 11.344 | losses1: 11.056 | losses2: 11.892 | losses3: 11.003 | losses4: 5.281 | losses5: 9.889 | losses6: 13.556 | losses7: 13.545 losses8: 39.137 | losses9: 38.469 | losses10: 39.313 | losses11: 41.027\n"
          ]
        },
        {
          "name": "stderr",
          "output_type": "stream",
          "text": [
            " 29%|███▏       | 401/1360 [03:42<08:38,  1.85it/s, epoch=5]"
          ]
        },
        {
          "name": "stdout",
          "output_type": "stream",
          "text": [
            "400 | losses0: 11.390 | losses1: 11.550 | losses2: 11.463 | losses3: 9.216 | losses4: 5.488 | losses5: 10.493 | losses6: 13.690 | losses7: 11.776 losses8: 37.617 | losses9: 37.793 | losses10: 37.940 | losses11: 40.063\n"
          ]
        },
        {
          "name": "stderr",
          "output_type": "stream",
          "text": [
            " 37%|████       | 501/1360 [04:39<07:58,  1.79it/s, epoch=5]"
          ]
        },
        {
          "name": "stdout",
          "output_type": "stream",
          "text": [
            "500 | losses0: 9.550 | losses1: 9.499 | losses2: 10.271 | losses3: 7.966 | losses4: 4.939 | losses5: 8.962 | losses6: 12.569 | losses7: 12.175 losses8: 38.234 | losses9: 38.132 | losses10: 39.235 | losses11: 39.424\n"
          ]
        },
        {
          "name": "stderr",
          "output_type": "stream",
          "text": [
            " 44%|████▊      | 601/1360 [05:37<06:10,  2.05it/s, epoch=5]"
          ]
        },
        {
          "name": "stdout",
          "output_type": "stream",
          "text": [
            "600 | losses0: 9.803 | losses1: 9.962 | losses2: 10.423 | losses3: 8.927 | losses4: 4.878 | losses5: 9.576 | losses6: 13.566 | losses7: 12.779 losses8: 37.531 | losses9: 37.449 | losses10: 38.525 | losses11: 37.625\n"
          ]
        },
        {
          "name": "stderr",
          "output_type": "stream",
          "text": [
            " 52%|█████▋     | 701/1360 [06:40<06:46,  1.62it/s, epoch=5]"
          ]
        },
        {
          "name": "stdout",
          "output_type": "stream",
          "text": [
            "700 | losses0: 11.720 | losses1: 11.712 | losses2: 12.405 | losses3: 10.084 | losses4: 5.708 | losses5: 10.588 | losses6: 13.642 | losses7: 13.322 losses8: 36.390 | losses9: 36.845 | losses10: 35.482 | losses11: 38.542\n"
          ]
        },
        {
          "name": "stderr",
          "output_type": "stream",
          "text": [
            " 59%|██████▍    | 801/1360 [07:42<06:23,  1.46it/s, epoch=5]"
          ]
        },
        {
          "name": "stdout",
          "output_type": "stream",
          "text": [
            "800 | losses0: 11.280 | losses1: 11.121 | losses2: 11.166 | losses3: 10.462 | losses4: 5.193 | losses5: 10.189 | losses6: 14.641 | losses7: 13.106 losses8: 38.717 | losses9: 38.703 | losses10: 39.935 | losses11: 39.926\n"
          ]
        },
        {
          "name": "stderr",
          "output_type": "stream",
          "text": [
            " 66%|███████▎   | 901/1360 [08:42<03:55,  1.95it/s, epoch=5]"
          ]
        },
        {
          "name": "stdout",
          "output_type": "stream",
          "text": [
            "900 | losses0: 10.550 | losses1: 10.590 | losses2: 11.266 | losses3: 8.208 | losses4: 4.933 | losses5: 9.876 | losses6: 13.562 | losses7: 12.305 losses8: 39.827 | losses9: 40.388 | losses10: 41.703 | losses11: 42.743\n"
          ]
        },
        {
          "name": "stderr",
          "output_type": "stream",
          "text": [
            " 74%|███████▎  | 1001/1360 [09:44<03:55,  1.53it/s, epoch=5]"
          ]
        },
        {
          "name": "stdout",
          "output_type": "stream",
          "text": [
            "1000 | losses0: 11.920 | losses1: 12.002 | losses2: 11.469 | losses3: 10.604 | losses4: 5.652 | losses5: 10.506 | losses6: 14.021 | losses7: 12.141 losses8: 36.131 | losses9: 36.105 | losses10: 37.875 | losses11: 36.248\n"
          ]
        },
        {
          "name": "stderr",
          "output_type": "stream",
          "text": [
            " 81%|████████  | 1101/1360 [10:43<02:46,  1.56it/s, epoch=5]"
          ]
        },
        {
          "name": "stdout",
          "output_type": "stream",
          "text": [
            "1100 | losses0: 10.779 | losses1: 10.978 | losses2: 11.383 | losses3: 10.111 | losses4: 5.249 | losses5: 9.672 | losses6: 13.204 | losses7: 12.415 losses8: 35.506 | losses9: 34.947 | losses10: 37.523 | losses11: 35.541\n"
          ]
        },
        {
          "name": "stderr",
          "output_type": "stream",
          "text": [
            " 88%|████████▊ | 1201/1360 [11:44<01:27,  1.81it/s, epoch=5]"
          ]
        },
        {
          "name": "stdout",
          "output_type": "stream",
          "text": [
            "1200 | losses0: 11.757 | losses1: 12.091 | losses2: 12.085 | losses3: 11.266 | losses4: 5.389 | losses5: 10.184 | losses6: 14.011 | losses7: 12.223 losses8: 36.449 | losses9: 36.303 | losses10: 37.213 | losses11: 39.968\n"
          ]
        },
        {
          "name": "stderr",
          "output_type": "stream",
          "text": [
            " 96%|█████████▌| 1301/1360 [12:47<00:32,  1.83it/s, epoch=5]"
          ]
        },
        {
          "name": "stdout",
          "output_type": "stream",
          "text": [
            "1300 | losses0: 10.386 | losses1: 10.359 | losses2: 11.112 | losses3: 10.082 | losses4: 5.098 | losses5: 9.939 | losses6: 14.370 | losses7: 13.768 losses8: 38.582 | losses9: 38.394 | losses10: 40.323 | losses11: 38.955\n"
          ]
        },
        {
          "name": "stderr",
          "output_type": "stream",
          "text": [
            "100%|██████████| 1360/1360 [13:29<00:00,  1.68it/s, epoch=5]\n"
          ]
        },
        {
          "name": "stdout",
          "output_type": "stream",
          "text": [
            "\n",
            " epoch: 5 epoch loss: tensor(3235.8457, device='cuda:0', grad_fn=<AddBackward0>)\n",
            "6\n",
            "LR is: 0.001\n"
          ]
        },
        {
          "name": "stderr",
          "output_type": "stream",
          "text": [
            "  0%|             | 1/1360 [00:00<15:20,  1.48it/s, epoch=6]"
          ]
        },
        {
          "name": "stdout",
          "output_type": "stream",
          "text": [
            "0 | losses0: 7.453 | losses1: 7.626 | losses2: 7.248 | losses3: 5.709 | losses4: 3.297 | losses5: 6.279 | losses6: 8.511 | losses7: 7.273 losses8: 22.593 | losses9: 22.575 | losses10: 23.486 | losses11: 20.985\n"
          ]
        },
        {
          "name": "stderr",
          "output_type": "stream",
          "text": [
            "  7%|▊          | 101/1360 [00:48<10:00,  2.10it/s, epoch=6]"
          ]
        },
        {
          "name": "stdout",
          "output_type": "stream",
          "text": [
            "100 | losses0: 10.800 | losses1: 10.682 | losses2: 10.652 | losses3: 10.239 | losses4: 4.940 | losses5: 9.370 | losses6: 12.938 | losses7: 11.767 losses8: 36.056 | losses9: 35.437 | losses10: 37.154 | losses11: 36.234\n"
          ]
        },
        {
          "name": "stderr",
          "output_type": "stream",
          "text": [
            " 15%|█▋         | 201/1360 [01:57<12:59,  1.49it/s, epoch=6]"
          ]
        },
        {
          "name": "stdout",
          "output_type": "stream",
          "text": [
            "200 | losses0: 11.144 | losses1: 11.437 | losses2: 11.727 | losses3: 9.850 | losses4: 5.811 | losses5: 10.050 | losses6: 13.986 | losses7: 11.810 losses8: 34.399 | losses9: 34.184 | losses10: 36.709 | losses11: 34.009\n"
          ]
        },
        {
          "name": "stderr",
          "output_type": "stream",
          "text": [
            " 22%|██▍        | 301/1360 [02:57<11:39,  1.51it/s, epoch=6]"
          ]
        },
        {
          "name": "stdout",
          "output_type": "stream",
          "text": [
            "300 | losses0: 8.710 | losses1: 8.998 | losses2: 9.123 | losses3: 6.351 | losses4: 4.398 | losses5: 8.241 | losses6: 11.526 | losses7: 10.069 losses8: 34.041 | losses9: 33.495 | losses10: 35.293 | losses11: 34.802\n"
          ]
        },
        {
          "name": "stderr",
          "output_type": "stream",
          "text": [
            " 29%|███▏       | 401/1360 [03:55<08:44,  1.83it/s, epoch=6]"
          ]
        },
        {
          "name": "stdout",
          "output_type": "stream",
          "text": [
            "400 | losses0: 12.104 | losses1: 12.154 | losses2: 12.618 | losses3: 7.269 | losses4: 5.506 | losses5: 10.481 | losses6: 13.559 | losses7: 11.187 losses8: 39.521 | losses9: 39.243 | losses10: 39.632 | losses11: 37.654\n"
          ]
        },
        {
          "name": "stderr",
          "output_type": "stream",
          "text": [
            " 37%|████       | 501/1360 [04:54<09:45,  1.47it/s, epoch=6]"
          ]
        },
        {
          "name": "stdout",
          "output_type": "stream",
          "text": [
            "500 | losses0: 9.308 | losses1: 9.365 | losses2: 10.195 | losses3: 7.867 | losses4: 4.871 | losses5: 8.878 | losses6: 11.930 | losses7: 9.385 losses8: 34.785 | losses9: 34.747 | losses10: 36.336 | losses11: 32.872\n"
          ]
        },
        {
          "name": "stderr",
          "output_type": "stream",
          "text": [
            " 44%|████▊      | 601/1360 [05:55<07:43,  1.64it/s, epoch=6]"
          ]
        },
        {
          "name": "stdout",
          "output_type": "stream",
          "text": [
            "600 | losses0: 10.859 | losses1: 10.877 | losses2: 11.921 | losses3: 8.618 | losses4: 5.689 | losses5: 9.826 | losses6: 13.520 | losses7: 9.973 losses8: 34.477 | losses9: 33.811 | losses10: 35.348 | losses11: 35.057\n"
          ]
        },
        {
          "name": "stderr",
          "output_type": "stream",
          "text": [
            " 52%|█████▋     | 701/1360 [07:04<09:16,  1.18it/s, epoch=6]"
          ]
        },
        {
          "name": "stdout",
          "output_type": "stream",
          "text": [
            "700 | losses0: 11.353 | losses1: 11.250 | losses2: 10.947 | losses3: 9.829 | losses4: 5.113 | losses5: 9.811 | losses6: 13.015 | losses7: 11.527 losses8: 38.540 | losses9: 38.299 | losses10: 39.238 | losses11: 38.104\n"
          ]
        },
        {
          "name": "stderr",
          "output_type": "stream",
          "text": [
            " 59%|██████▍    | 801/1360 [08:36<08:27,  1.10it/s, epoch=6]"
          ]
        },
        {
          "name": "stdout",
          "output_type": "stream",
          "text": [
            "800 | losses0: 12.212 | losses1: 12.190 | losses2: 11.285 | losses3: 9.034 | losses4: 5.613 | losses5: 10.335 | losses6: 12.623 | losses7: 10.371 losses8: 37.445 | losses9: 37.473 | losses10: 37.045 | losses11: 36.435\n"
          ]
        },
        {
          "name": "stderr",
          "output_type": "stream",
          "text": [
            " 66%|███████▎   | 901/1360 [09:47<08:15,  1.08s/it, epoch=6]"
          ]
        },
        {
          "name": "stdout",
          "output_type": "stream",
          "text": [
            "900 | losses0: 10.721 | losses1: 10.511 | losses2: 11.293 | losses3: 11.059 | losses4: 5.513 | losses5: 9.973 | losses6: 14.033 | losses7: 13.574 losses8: 35.496 | losses9: 35.227 | losses10: 35.960 | losses11: 35.550\n"
          ]
        },
        {
          "name": "stderr",
          "output_type": "stream",
          "text": [
            " 74%|███████▎  | 1001/1360 [10:55<03:49,  1.56it/s, epoch=6]"
          ]
        },
        {
          "name": "stdout",
          "output_type": "stream",
          "text": [
            "1000 | losses0: 9.265 | losses1: 9.463 | losses2: 10.317 | losses3: 8.545 | losses4: 4.326 | losses5: 8.491 | losses6: 12.068 | losses7: 10.188 losses8: 38.774 | losses9: 38.796 | losses10: 40.153 | losses11: 41.521\n"
          ]
        },
        {
          "name": "stderr",
          "output_type": "stream",
          "text": [
            " 81%|████████  | 1101/1360 [12:10<03:04,  1.40it/s, epoch=6]"
          ]
        },
        {
          "name": "stdout",
          "output_type": "stream",
          "text": [
            "1100 | losses0: 10.491 | losses1: 10.656 | losses2: 11.245 | losses3: 8.594 | losses4: 4.917 | losses5: 9.468 | losses6: 13.258 | losses7: 11.036 losses8: 37.349 | losses9: 37.116 | losses10: 37.913 | losses11: 36.394\n"
          ]
        },
        {
          "name": "stderr",
          "output_type": "stream",
          "text": [
            " 88%|████████▊ | 1201/1360 [13:31<02:53,  1.09s/it, epoch=6]"
          ]
        },
        {
          "name": "stdout",
          "output_type": "stream",
          "text": [
            "1200 | losses0: 12.179 | losses1: 11.910 | losses2: 11.891 | losses3: 12.060 | losses4: 5.686 | losses5: 10.501 | losses6: 13.553 | losses7: 13.488 losses8: 35.974 | losses9: 35.605 | losses10: 35.251 | losses11: 36.433\n"
          ]
        },
        {
          "name": "stderr",
          "output_type": "stream",
          "text": [
            " 96%|█████████▌| 1301/1360 [14:50<00:48,  1.21it/s, epoch=6]"
          ]
        },
        {
          "name": "stdout",
          "output_type": "stream",
          "text": [
            "1300 | losses0: 11.509 | losses1: 11.677 | losses2: 11.181 | losses3: 9.887 | losses4: 5.644 | losses5: 10.436 | losses6: 13.261 | losses7: 12.364 losses8: 36.475 | losses9: 35.988 | losses10: 36.385 | losses11: 35.817\n"
          ]
        },
        {
          "name": "stderr",
          "output_type": "stream",
          "text": [
            "100%|██████████| 1360/1360 [15:35<00:00,  1.45it/s, epoch=6]\n"
          ]
        },
        {
          "name": "stdout",
          "output_type": "stream",
          "text": [
            "\n",
            " epoch: 6 epoch loss: tensor(3093.0955, device='cuda:0', grad_fn=<AddBackward0>)\n",
            "7\n",
            "LR is: 0.001\n"
          ]
        },
        {
          "name": "stderr",
          "output_type": "stream",
          "text": [
            "  0%|             | 1/1360 [00:01<44:11,  1.95s/it, epoch=7]"
          ]
        },
        {
          "name": "stdout",
          "output_type": "stream",
          "text": [
            "0 | losses0: 6.865 | losses1: 6.906 | losses2: 7.088 | losses3: 6.461 | losses4: 3.230 | losses5: 5.869 | losses6: 8.149 | losses7: 8.199 losses8: 21.355 | losses9: 21.284 | losses10: 21.439 | losses11: 25.320\n"
          ]
        },
        {
          "name": "stderr",
          "output_type": "stream",
          "text": [
            "  7%|▊          | 101/1360 [00:52<09:36,  2.18it/s, epoch=7]"
          ]
        },
        {
          "name": "stdout",
          "output_type": "stream",
          "text": [
            "100 | losses0: 11.253 | losses1: 10.921 | losses2: 11.244 | losses3: 9.838 | losses4: 5.240 | losses5: 9.736 | losses6: 12.878 | losses7: 12.074 losses8: 35.230 | losses9: 34.958 | losses10: 35.698 | losses11: 37.099\n"
          ]
        },
        {
          "name": "stderr",
          "output_type": "stream",
          "text": [
            " 15%|█▋         | 201/1360 [02:03<14:27,  1.34it/s, epoch=7]"
          ]
        },
        {
          "name": "stdout",
          "output_type": "stream",
          "text": [
            "200 | losses0: 10.062 | losses1: 10.544 | losses2: 9.468 | losses3: 8.239 | losses4: 4.869 | losses5: 9.259 | losses6: 12.086 | losses7: 9.850 losses8: 33.733 | losses9: 33.825 | losses10: 33.535 | losses11: 33.350\n"
          ]
        },
        {
          "name": "stderr",
          "output_type": "stream",
          "text": [
            " 22%|██▍        | 301/1360 [03:06<12:47,  1.38it/s, epoch=7]"
          ]
        },
        {
          "name": "stdout",
          "output_type": "stream",
          "text": [
            "300 | losses0: 9.143 | losses1: 9.217 | losses2: 8.889 | losses3: 7.914 | losses4: 4.777 | losses5: 8.549 | losses6: 11.192 | losses7: 10.016 losses8: 35.833 | losses9: 35.270 | losses10: 35.495 | losses11: 35.703\n"
          ]
        },
        {
          "name": "stderr",
          "output_type": "stream",
          "text": [
            " 29%|███▏       | 401/1360 [04:09<10:06,  1.58it/s, epoch=7]"
          ]
        },
        {
          "name": "stdout",
          "output_type": "stream",
          "text": [
            "400 | losses0: 11.769 | losses1: 11.549 | losses2: 11.597 | losses3: 8.664 | losses4: 5.519 | losses5: 9.657 | losses6: 13.011 | losses7: 11.078 losses8: 33.742 | losses9: 33.285 | losses10: 34.510 | losses11: 32.206\n"
          ]
        },
        {
          "name": "stderr",
          "output_type": "stream",
          "text": [
            " 37%|████       | 501/1360 [05:09<09:00,  1.59it/s, epoch=7]"
          ]
        },
        {
          "name": "stdout",
          "output_type": "stream",
          "text": [
            "500 | losses0: 10.378 | losses1: 10.551 | losses2: 9.596 | losses3: 6.647 | losses4: 5.038 | losses5: 8.981 | losses6: 11.100 | losses7: 9.138 losses8: 35.094 | losses9: 34.883 | losses10: 34.085 | losses11: 35.221\n"
          ]
        },
        {
          "name": "stderr",
          "output_type": "stream",
          "text": [
            " 44%|████▊      | 601/1360 [06:13<10:18,  1.23it/s, epoch=7]"
          ]
        },
        {
          "name": "stdout",
          "output_type": "stream",
          "text": [
            "600 | losses0: 11.229 | losses1: 10.998 | losses2: 11.618 | losses3: 9.980 | losses4: 4.869 | losses5: 9.133 | losses6: 12.318 | losses7: 11.812 losses8: 36.893 | losses9: 36.560 | losses10: 37.262 | losses11: 37.520\n"
          ]
        },
        {
          "name": "stderr",
          "output_type": "stream",
          "text": [
            " 52%|█████▋     | 701/1360 [07:19<06:09,  1.78it/s, epoch=7]"
          ]
        },
        {
          "name": "stdout",
          "output_type": "stream",
          "text": [
            "700 | losses0: 9.770 | losses1: 9.957 | losses2: 9.239 | losses3: 8.092 | losses4: 4.789 | losses5: 9.111 | losses6: 11.461 | losses7: 9.851 losses8: 36.562 | losses9: 36.146 | losses10: 35.783 | losses11: 34.619\n"
          ]
        },
        {
          "name": "stderr",
          "output_type": "stream",
          "text": [
            " 59%|██████▍    | 801/1360 [08:28<05:15,  1.77it/s, epoch=7]"
          ]
        },
        {
          "name": "stdout",
          "output_type": "stream",
          "text": [
            "800 | losses0: 8.854 | losses1: 9.101 | losses2: 9.914 | losses3: 6.120 | losses4: 4.393 | losses5: 8.527 | losses6: 12.421 | losses7: 9.058 losses8: 33.245 | losses9: 33.032 | losses10: 34.536 | losses11: 30.435\n"
          ]
        },
        {
          "name": "stderr",
          "output_type": "stream",
          "text": [
            " 66%|███████▎   | 901/1360 [09:34<07:20,  1.04it/s, epoch=7]"
          ]
        },
        {
          "name": "stdout",
          "output_type": "stream",
          "text": [
            "900 | losses0: 11.476 | losses1: 11.309 | losses2: 11.820 | losses3: 9.249 | losses4: 5.911 | losses5: 9.953 | losses6: 13.419 | losses7: 10.546 losses8: 33.859 | losses9: 33.155 | losses10: 35.558 | losses11: 32.667\n"
          ]
        },
        {
          "name": "stderr",
          "output_type": "stream",
          "text": [
            " 74%|███████▎  | 1001/1360 [10:37<03:18,  1.81it/s, epoch=7]"
          ]
        },
        {
          "name": "stdout",
          "output_type": "stream",
          "text": [
            "1000 | losses0: 10.379 | losses1: 10.798 | losses2: 11.618 | losses3: 8.766 | losses4: 4.947 | losses5: 9.455 | losses6: 12.987 | losses7: 11.286 losses8: 35.403 | losses9: 35.641 | losses10: 36.982 | losses11: 35.113\n"
          ]
        },
        {
          "name": "stderr",
          "output_type": "stream",
          "text": [
            " 81%|████████  | 1101/1360 [11:50<02:26,  1.77it/s, epoch=7]"
          ]
        },
        {
          "name": "stdout",
          "output_type": "stream",
          "text": [
            "1100 | losses0: 11.136 | losses1: 11.029 | losses2: 11.598 | losses3: 8.120 | losses4: 5.272 | losses5: 9.579 | losses6: 12.769 | losses7: 10.022 losses8: 36.959 | losses9: 36.880 | losses10: 37.427 | losses11: 35.621\n"
          ]
        },
        {
          "name": "stderr",
          "output_type": "stream",
          "text": [
            " 88%|████████▊ | 1201/1360 [13:04<01:31,  1.74it/s, epoch=7]"
          ]
        },
        {
          "name": "stdout",
          "output_type": "stream",
          "text": [
            "1200 | losses0: 9.758 | losses1: 10.153 | losses2: 10.750 | losses3: 8.292 | losses4: 4.986 | losses5: 9.043 | losses6: 11.916 | losses7: 9.763 losses8: 35.289 | losses9: 34.955 | losses10: 36.621 | losses11: 34.366\n"
          ]
        },
        {
          "name": "stderr",
          "output_type": "stream",
          "text": [
            " 96%|█████████▌| 1301/1360 [14:14<00:37,  1.58it/s, epoch=7]"
          ]
        },
        {
          "name": "stdout",
          "output_type": "stream",
          "text": [
            "1300 | losses0: 10.912 | losses1: 10.560 | losses2: 11.763 | losses3: 7.208 | losses4: 5.129 | losses5: 9.354 | losses6: 13.895 | losses7: 9.887 losses8: 35.170 | losses9: 34.185 | losses10: 36.327 | losses11: 35.909\n"
          ]
        },
        {
          "name": "stderr",
          "output_type": "stream",
          "text": [
            "100%|██████████| 1360/1360 [14:58<00:00,  1.51it/s, epoch=7]\n"
          ]
        },
        {
          "name": "stdout",
          "output_type": "stream",
          "text": [
            "\n",
            " epoch: 7 epoch loss: tensor(2963.1970, device='cuda:0', grad_fn=<AddBackward0>)\n",
            "8\n",
            "LR is: 0.001\n"
          ]
        },
        {
          "name": "stderr",
          "output_type": "stream",
          "text": [
            "  0%|             | 1/1360 [00:00<19:48,  1.14it/s, epoch=8]"
          ]
        },
        {
          "name": "stdout",
          "output_type": "stream",
          "text": [
            "0 | losses0: 5.758 | losses1: 5.743 | losses2: 6.038 | losses3: 5.469 | losses4: 2.739 | losses5: 5.224 | losses6: 7.502 | losses7: 6.470 losses8: 23.530 | losses9: 23.144 | losses10: 24.102 | losses11: 24.184\n"
          ]
        },
        {
          "name": "stderr",
          "output_type": "stream",
          "text": [
            "  7%|▊          | 101/1360 [00:40<08:49,  2.38it/s, epoch=8]"
          ]
        },
        {
          "name": "stdout",
          "output_type": "stream",
          "text": [
            "100 | losses0: 10.782 | losses1: 10.533 | losses2: 11.046 | losses3: 8.843 | losses4: 5.052 | losses5: 9.255 | losses6: 12.284 | losses7: 9.421 losses8: 34.668 | losses9: 34.138 | losses10: 35.205 | losses11: 34.756\n"
          ]
        },
        {
          "name": "stderr",
          "output_type": "stream",
          "text": [
            " 15%|█▋         | 201/1360 [01:41<13:06,  1.47it/s, epoch=8]"
          ]
        },
        {
          "name": "stdout",
          "output_type": "stream",
          "text": [
            "200 | losses0: 9.888 | losses1: 9.615 | losses2: 10.475 | losses3: 7.721 | losses4: 4.874 | losses5: 8.869 | losses6: 12.236 | losses7: 9.513 losses8: 31.959 | losses9: 31.351 | losses10: 32.887 | losses11: 32.749\n"
          ]
        },
        {
          "name": "stderr",
          "output_type": "stream",
          "text": [
            " 22%|██▍        | 301/1360 [02:39<10:32,  1.67it/s, epoch=8]"
          ]
        },
        {
          "name": "stdout",
          "output_type": "stream",
          "text": [
            "300 | losses0: 8.916 | losses1: 8.800 | losses2: 8.654 | losses3: 6.561 | losses4: 4.633 | losses5: 8.307 | losses6: 10.615 | losses7: 7.866 losses8: 32.720 | losses9: 32.169 | losses10: 30.700 | losses11: 30.281\n"
          ]
        },
        {
          "name": "stderr",
          "output_type": "stream",
          "text": [
            " 29%|███▏       | 401/1360 [03:37<09:36,  1.66it/s, epoch=8]"
          ]
        },
        {
          "name": "stdout",
          "output_type": "stream",
          "text": [
            "400 | losses0: 8.631 | losses1: 8.702 | losses2: 9.035 | losses3: 5.158 | losses4: 4.151 | losses5: 7.573 | losses6: 11.079 | losses7: 7.170 losses8: 34.893 | losses9: 33.787 | losses10: 36.384 | losses11: 33.292\n"
          ]
        },
        {
          "name": "stderr",
          "output_type": "stream",
          "text": [
            " 37%|████       | 501/1360 [04:34<07:18,  1.96it/s, epoch=8]"
          ]
        },
        {
          "name": "stdout",
          "output_type": "stream",
          "text": [
            "500 | losses0: 9.098 | losses1: 9.052 | losses2: 9.183 | losses3: 6.983 | losses4: 4.570 | losses5: 8.168 | losses6: 10.612 | losses7: 7.658 losses8: 33.029 | losses9: 32.846 | losses10: 33.805 | losses11: 30.045\n"
          ]
        },
        {
          "name": "stderr",
          "output_type": "stream",
          "text": [
            " 44%|████▊      | 601/1360 [05:37<08:11,  1.54it/s, epoch=8]"
          ]
        },
        {
          "name": "stdout",
          "output_type": "stream",
          "text": [
            "600 | losses0: 10.021 | losses1: 10.640 | losses2: 9.597 | losses3: 6.624 | losses4: 4.613 | losses5: 9.088 | losses6: 11.600 | losses7: 7.654 losses8: 35.473 | losses9: 35.411 | losses10: 34.728 | losses11: 34.098\n"
          ]
        },
        {
          "name": "stderr",
          "output_type": "stream",
          "text": [
            " 52%|█████▋     | 701/1360 [06:39<08:28,  1.30it/s, epoch=8]"
          ]
        },
        {
          "name": "stdout",
          "output_type": "stream",
          "text": [
            "700 | losses0: 9.098 | losses1: 8.868 | losses2: 8.901 | losses3: 6.940 | losses4: 4.874 | losses5: 8.488 | losses6: 11.221 | losses7: 9.352 losses8: 33.589 | losses9: 32.750 | losses10: 32.451 | losses11: 32.896\n"
          ]
        },
        {
          "name": "stderr",
          "output_type": "stream",
          "text": [
            " 59%|██████▍    | 801/1360 [07:46<06:11,  1.50it/s, epoch=8]"
          ]
        },
        {
          "name": "stdout",
          "output_type": "stream",
          "text": [
            "800 | losses0: 11.097 | losses1: 11.477 | losses2: 11.022 | losses3: 8.321 | losses4: 5.390 | losses5: 9.653 | losses6: 11.895 | losses7: 10.318 losses8: 32.942 | losses9: 32.674 | losses10: 33.004 | losses11: 30.010\n"
          ]
        },
        {
          "name": "stderr",
          "output_type": "stream",
          "text": [
            " 66%|███████▎   | 901/1360 [08:52<08:06,  1.06s/it, epoch=8]"
          ]
        },
        {
          "name": "stdout",
          "output_type": "stream",
          "text": [
            "900 | losses0: 10.284 | losses1: 10.733 | losses2: 10.112 | losses3: 6.298 | losses4: 5.164 | losses5: 8.795 | losses6: 11.469 | losses7: 8.228 losses8: 31.960 | losses9: 31.719 | losses10: 32.521 | losses11: 31.363\n"
          ]
        },
        {
          "name": "stderr",
          "output_type": "stream",
          "text": [
            " 74%|███████▎  | 1001/1360 [09:59<03:51,  1.55it/s, epoch=8]"
          ]
        },
        {
          "name": "stdout",
          "output_type": "stream",
          "text": [
            "1000 | losses0: 11.264 | losses1: 11.111 | losses2: 11.363 | losses3: 9.306 | losses4: 5.440 | losses5: 9.681 | losses6: 12.008 | losses7: 9.713 losses8: 35.958 | losses9: 35.566 | losses10: 34.985 | losses11: 33.933\n"
          ]
        },
        {
          "name": "stderr",
          "output_type": "stream",
          "text": [
            " 81%|████████  | 1101/1360 [11:12<02:35,  1.67it/s, epoch=8]"
          ]
        },
        {
          "name": "stdout",
          "output_type": "stream",
          "text": [
            "1100 | losses0: 9.185 | losses1: 9.364 | losses2: 9.752 | losses3: 6.868 | losses4: 4.638 | losses5: 8.677 | losses6: 12.110 | losses7: 10.414 losses8: 34.211 | losses9: 33.675 | losses10: 34.157 | losses11: 32.974\n"
          ]
        },
        {
          "name": "stderr",
          "output_type": "stream",
          "text": [
            " 88%|████████▊ | 1201/1360 [12:38<03:07,  1.18s/it, epoch=8]"
          ]
        },
        {
          "name": "stdout",
          "output_type": "stream",
          "text": [
            "1200 | losses0: 9.764 | losses1: 10.104 | losses2: 10.116 | losses3: 7.435 | losses4: 4.622 | losses5: 8.748 | losses6: 11.637 | losses7: 8.981 losses8: 34.576 | losses9: 34.553 | losses10: 34.520 | losses11: 34.162\n"
          ]
        },
        {
          "name": "stderr",
          "output_type": "stream",
          "text": [
            " 96%|█████████▌| 1301/1360 [14:05<00:43,  1.35it/s, epoch=8]"
          ]
        },
        {
          "name": "stdout",
          "output_type": "stream",
          "text": [
            "1300 | losses0: 11.577 | losses1: 11.482 | losses2: 11.824 | losses3: 8.572 | losses4: 5.609 | losses5: 9.994 | losses6: 13.514 | losses7: 10.217 losses8: 36.522 | losses9: 35.991 | losses10: 38.764 | losses11: 33.375\n"
          ]
        },
        {
          "name": "stderr",
          "output_type": "stream",
          "text": [
            "100%|██████████| 1360/1360 [14:45<00:00,  1.54it/s, epoch=8]\n"
          ]
        },
        {
          "name": "stdout",
          "output_type": "stream",
          "text": [
            "\n",
            " epoch: 8 epoch loss: tensor(2817.3164, device='cuda:0', grad_fn=<AddBackward0>)\n",
            "9\n",
            "LR is: 0.001\n"
          ]
        },
        {
          "name": "stderr",
          "output_type": "stream",
          "text": [
            "  0%|             | 1/1360 [00:00<19:14,  1.18it/s, epoch=9]"
          ]
        },
        {
          "name": "stdout",
          "output_type": "stream",
          "text": [
            "0 | losses0: 5.764 | losses1: 6.031 | losses2: 6.235 | losses3: 4.677 | losses4: 2.805 | losses5: 5.253 | losses6: 6.929 | losses7: 5.791 losses8: 23.476 | losses9: 23.283 | losses10: 22.896 | losses11: 21.582\n"
          ]
        },
        {
          "name": "stderr",
          "output_type": "stream",
          "text": [
            "  4%|▍           | 52/1360 [00:21<09:01,  2.42it/s, epoch=9]\n"
          ]
        },
        {
          "ename": "KeyboardInterrupt",
          "evalue": "",
          "output_type": "error",
          "traceback": [
            "\u001b[1;31m---------------------------------------------------------------------------\u001b[0m",
            "\u001b[1;31mKeyboardInterrupt\u001b[0m                         Traceback (most recent call last)",
            "Cell \u001b[1;32mIn[143], line 96\u001b[0m\n\u001b[0;32m     93\u001b[0m show_dict \u001b[39m=\u001b[39m {\u001b[39m'\u001b[39m\u001b[39mepoch\u001b[39m\u001b[39m'\u001b[39m: epoch_num}\n\u001b[0;32m     95\u001b[0m loss_all \u001b[39m=\u001b[39m \u001b[39m0\u001b[39m\n\u001b[1;32m---> 96\u001b[0m \u001b[39mfor\u001b[39;00m i_batch, (im1, im2, label0, label1, label2, label3) \u001b[39min\u001b[39;00m \u001b[39menumerate\u001b[39m(\n\u001b[0;32m     97\u001b[0m         tqdm\u001b[39m.\u001b[39mtqdm(train_loader, ncols\u001b[39m=\u001b[39m\u001b[39m60\u001b[39m, postfix\u001b[39m=\u001b[39mshow_dict)):  \u001b[39m# ,edge0,edge1,edge2,edge3\u001b[39;00m\n\u001b[0;32m     98\u001b[0m     im1 \u001b[39m=\u001b[39m im1\u001b[39m.\u001b[39mcuda()\n\u001b[0;32m     99\u001b[0m     im2 \u001b[39m=\u001b[39m im2\u001b[39m.\u001b[39mcuda()\n",
            "File \u001b[1;32mc:\\Users\\bberg\\Anaconda3\\envs\\pdf-comparison\\Lib\\site-packages\\tqdm\\std.py:1178\u001b[0m, in \u001b[0;36mtqdm.__iter__\u001b[1;34m(self)\u001b[0m\n\u001b[0;32m   1175\u001b[0m time \u001b[39m=\u001b[39m \u001b[39mself\u001b[39m\u001b[39m.\u001b[39m_time\n\u001b[0;32m   1177\u001b[0m \u001b[39mtry\u001b[39;00m:\n\u001b[1;32m-> 1178\u001b[0m     \u001b[39mfor\u001b[39;00m obj \u001b[39min\u001b[39;00m iterable:\n\u001b[0;32m   1179\u001b[0m         \u001b[39myield\u001b[39;00m obj\n\u001b[0;32m   1180\u001b[0m         \u001b[39m# Update and possibly print the progressbar.\u001b[39;00m\n\u001b[0;32m   1181\u001b[0m         \u001b[39m# Note: does not call self.update(1) for speed optimisation.\u001b[39;00m\n",
            "File \u001b[1;32mc:\\Users\\bberg\\Anaconda3\\envs\\pdf-comparison\\Lib\\site-packages\\torch\\utils\\data\\dataloader.py:633\u001b[0m, in \u001b[0;36m_BaseDataLoaderIter.__next__\u001b[1;34m(self)\u001b[0m\n\u001b[0;32m    630\u001b[0m \u001b[39mif\u001b[39;00m \u001b[39mself\u001b[39m\u001b[39m.\u001b[39m_sampler_iter \u001b[39mis\u001b[39;00m \u001b[39mNone\u001b[39;00m:\n\u001b[0;32m    631\u001b[0m     \u001b[39m# TODO(https://github.com/pytorch/pytorch/issues/76750)\u001b[39;00m\n\u001b[0;32m    632\u001b[0m     \u001b[39mself\u001b[39m\u001b[39m.\u001b[39m_reset()  \u001b[39m# type: ignore[call-arg]\u001b[39;00m\n\u001b[1;32m--> 633\u001b[0m data \u001b[39m=\u001b[39m \u001b[39mself\u001b[39;49m\u001b[39m.\u001b[39;49m_next_data()\n\u001b[0;32m    634\u001b[0m \u001b[39mself\u001b[39m\u001b[39m.\u001b[39m_num_yielded \u001b[39m+\u001b[39m\u001b[39m=\u001b[39m \u001b[39m1\u001b[39m\n\u001b[0;32m    635\u001b[0m \u001b[39mif\u001b[39;00m \u001b[39mself\u001b[39m\u001b[39m.\u001b[39m_dataset_kind \u001b[39m==\u001b[39m _DatasetKind\u001b[39m.\u001b[39mIterable \u001b[39mand\u001b[39;00m \\\n\u001b[0;32m    636\u001b[0m         \u001b[39mself\u001b[39m\u001b[39m.\u001b[39m_IterableDataset_len_called \u001b[39mis\u001b[39;00m \u001b[39mnot\u001b[39;00m \u001b[39mNone\u001b[39;00m \u001b[39mand\u001b[39;00m \\\n\u001b[0;32m    637\u001b[0m         \u001b[39mself\u001b[39m\u001b[39m.\u001b[39m_num_yielded \u001b[39m>\u001b[39m \u001b[39mself\u001b[39m\u001b[39m.\u001b[39m_IterableDataset_len_called:\n",
            "File \u001b[1;32mc:\\Users\\bberg\\Anaconda3\\envs\\pdf-comparison\\Lib\\site-packages\\torch\\utils\\data\\dataloader.py:677\u001b[0m, in \u001b[0;36m_SingleProcessDataLoaderIter._next_data\u001b[1;34m(self)\u001b[0m\n\u001b[0;32m    675\u001b[0m \u001b[39mdef\u001b[39;00m \u001b[39m_next_data\u001b[39m(\u001b[39mself\u001b[39m):\n\u001b[0;32m    676\u001b[0m     index \u001b[39m=\u001b[39m \u001b[39mself\u001b[39m\u001b[39m.\u001b[39m_next_index()  \u001b[39m# may raise StopIteration\u001b[39;00m\n\u001b[1;32m--> 677\u001b[0m     data \u001b[39m=\u001b[39m \u001b[39mself\u001b[39;49m\u001b[39m.\u001b[39;49m_dataset_fetcher\u001b[39m.\u001b[39;49mfetch(index)  \u001b[39m# may raise StopIteration\u001b[39;00m\n\u001b[0;32m    678\u001b[0m     \u001b[39mif\u001b[39;00m \u001b[39mself\u001b[39m\u001b[39m.\u001b[39m_pin_memory:\n\u001b[0;32m    679\u001b[0m         data \u001b[39m=\u001b[39m _utils\u001b[39m.\u001b[39mpin_memory\u001b[39m.\u001b[39mpin_memory(data, \u001b[39mself\u001b[39m\u001b[39m.\u001b[39m_pin_memory_device)\n",
            "File \u001b[1;32mc:\\Users\\bberg\\Anaconda3\\envs\\pdf-comparison\\Lib\\site-packages\\torch\\utils\\data\\_utils\\fetch.py:51\u001b[0m, in \u001b[0;36m_MapDatasetFetcher.fetch\u001b[1;34m(self, possibly_batched_index)\u001b[0m\n\u001b[0;32m     49\u001b[0m         data \u001b[39m=\u001b[39m \u001b[39mself\u001b[39m\u001b[39m.\u001b[39mdataset\u001b[39m.\u001b[39m__getitems__(possibly_batched_index)\n\u001b[0;32m     50\u001b[0m     \u001b[39melse\u001b[39;00m:\n\u001b[1;32m---> 51\u001b[0m         data \u001b[39m=\u001b[39m [\u001b[39mself\u001b[39;49m\u001b[39m.\u001b[39;49mdataset[idx] \u001b[39mfor\u001b[39;49;00m idx \u001b[39min\u001b[39;49;00m possibly_batched_index]\n\u001b[0;32m     52\u001b[0m \u001b[39melse\u001b[39;00m:\n\u001b[0;32m     53\u001b[0m     data \u001b[39m=\u001b[39m \u001b[39mself\u001b[39m\u001b[39m.\u001b[39mdataset[possibly_batched_index]\n",
            "File \u001b[1;32mc:\\Users\\bberg\\Anaconda3\\envs\\pdf-comparison\\Lib\\site-packages\\torch\\utils\\data\\_utils\\fetch.py:51\u001b[0m, in \u001b[0;36m<listcomp>\u001b[1;34m(.0)\u001b[0m\n\u001b[0;32m     49\u001b[0m         data \u001b[39m=\u001b[39m \u001b[39mself\u001b[39m\u001b[39m.\u001b[39mdataset\u001b[39m.\u001b[39m__getitems__(possibly_batched_index)\n\u001b[0;32m     50\u001b[0m     \u001b[39melse\u001b[39;00m:\n\u001b[1;32m---> 51\u001b[0m         data \u001b[39m=\u001b[39m [\u001b[39mself\u001b[39;49m\u001b[39m.\u001b[39;49mdataset[idx] \u001b[39mfor\u001b[39;00m idx \u001b[39min\u001b[39;00m possibly_batched_index]\n\u001b[0;32m     52\u001b[0m \u001b[39melse\u001b[39;00m:\n\u001b[0;32m     53\u001b[0m     data \u001b[39m=\u001b[39m \u001b[39mself\u001b[39m\u001b[39m.\u001b[39mdataset[possibly_batched_index]\n",
            "Cell \u001b[1;32mIn[125], line 29\u001b[0m, in \u001b[0;36mMyData.__getitem__\u001b[1;34m(self, index)\u001b[0m\n\u001b[0;32m     26\u001b[0m label \u001b[39m=\u001b[39m os\u001b[39m.\u001b[39mpath\u001b[39m.\u001b[39mjoin(\u001b[39mself\u001b[39m\u001b[39m.\u001b[39mtrain_lb_path, \u001b[39mself\u001b[39m\u001b[39m.\u001b[39mnames[index])\n\u001b[0;32m     27\u001b[0m label \u001b[39m=\u001b[39m Image\u001b[39m.\u001b[39mopen(label)\n\u001b[1;32m---> 29\u001b[0m im1, im2, lb0, lb1, lb2, lb3 \u001b[39m=\u001b[39m \u001b[39mself\u001b[39;49m\u001b[39m.\u001b[39;49mtransform(img1, img2, label)\n\u001b[0;32m     30\u001b[0m \u001b[39m# lb0 = 1. - lb0[0]\u001b[39;00m\n\u001b[0;32m     31\u001b[0m \u001b[39m# lb1 = 1. - lb1[0]\u001b[39;00m\n\u001b[0;32m     32\u001b[0m \u001b[39m# lb2 = 1. - lb2[0]\u001b[39;00m\n\u001b[0;32m     33\u001b[0m \u001b[39m# lb3 = 1. - lb3[0]\u001b[39;00m\n\u001b[0;32m     35\u001b[0m \u001b[39mreturn\u001b[39;00m im1, im2, lb0, lb1, lb2, lb3\n",
            "Cell \u001b[1;32mIn[125], line 63\u001b[0m, in \u001b[0;36mMyData.transform\u001b[1;34m(self, img1, img2, label)\u001b[0m\n\u001b[0;32m     61\u001b[0m im2 \u001b[39m=\u001b[39m transform_img(img2) \u001b[39m# Changed from transform_img_2 because that normalization seems dataset specific\u001b[39;00m\n\u001b[0;32m     62\u001b[0m label0 \u001b[39m=\u001b[39m transform_label(label)\n\u001b[1;32m---> 63\u001b[0m label_4 \u001b[39m=\u001b[39m transform_img_4(label)\n\u001b[0;32m     64\u001b[0m label_8 \u001b[39m=\u001b[39m transform_img_8(label)\n\u001b[0;32m     65\u001b[0m label_16 \u001b[39m=\u001b[39m transform_img_16(label)\n",
            "File \u001b[1;32mc:\\Users\\bberg\\Anaconda3\\envs\\pdf-comparison\\Lib\\site-packages\\torchvision\\transforms\\transforms.py:95\u001b[0m, in \u001b[0;36mCompose.__call__\u001b[1;34m(self, img)\u001b[0m\n\u001b[0;32m     93\u001b[0m \u001b[39mdef\u001b[39;00m \u001b[39m__call__\u001b[39m(\u001b[39mself\u001b[39m, img):\n\u001b[0;32m     94\u001b[0m     \u001b[39mfor\u001b[39;00m t \u001b[39min\u001b[39;00m \u001b[39mself\u001b[39m\u001b[39m.\u001b[39mtransforms:\n\u001b[1;32m---> 95\u001b[0m         img \u001b[39m=\u001b[39m t(img)\n\u001b[0;32m     96\u001b[0m     \u001b[39mreturn\u001b[39;00m img\n",
            "File \u001b[1;32mc:\\Users\\bberg\\Anaconda3\\envs\\pdf-comparison\\Lib\\site-packages\\torchvision\\transforms\\transforms.py:137\u001b[0m, in \u001b[0;36mToTensor.__call__\u001b[1;34m(self, pic)\u001b[0m\n\u001b[0;32m    129\u001b[0m \u001b[39mdef\u001b[39;00m \u001b[39m__call__\u001b[39m(\u001b[39mself\u001b[39m, pic):\n\u001b[0;32m    130\u001b[0m \u001b[39m    \u001b[39m\u001b[39m\"\"\"\u001b[39;00m\n\u001b[0;32m    131\u001b[0m \u001b[39m    Args:\u001b[39;00m\n\u001b[0;32m    132\u001b[0m \u001b[39m        pic (PIL Image or numpy.ndarray): Image to be converted to tensor.\u001b[39;00m\n\u001b[1;32m   (...)\u001b[0m\n\u001b[0;32m    135\u001b[0m \u001b[39m        Tensor: Converted image.\u001b[39;00m\n\u001b[0;32m    136\u001b[0m \u001b[39m    \"\"\"\u001b[39;00m\n\u001b[1;32m--> 137\u001b[0m     \u001b[39mreturn\u001b[39;00m F\u001b[39m.\u001b[39;49mto_tensor(pic)\n",
            "File \u001b[1;32mc:\\Users\\bberg\\Anaconda3\\envs\\pdf-comparison\\Lib\\site-packages\\torchvision\\transforms\\functional.py:166\u001b[0m, in \u001b[0;36mto_tensor\u001b[1;34m(pic)\u001b[0m\n\u001b[0;32m    164\u001b[0m \u001b[39m# handle PIL Image\u001b[39;00m\n\u001b[0;32m    165\u001b[0m mode_to_nptype \u001b[39m=\u001b[39m {\u001b[39m\"\u001b[39m\u001b[39mI\u001b[39m\u001b[39m\"\u001b[39m: np\u001b[39m.\u001b[39mint32, \u001b[39m\"\u001b[39m\u001b[39mI;16\u001b[39m\u001b[39m\"\u001b[39m: np\u001b[39m.\u001b[39mint16, \u001b[39m\"\u001b[39m\u001b[39mF\u001b[39m\u001b[39m\"\u001b[39m: np\u001b[39m.\u001b[39mfloat32}\n\u001b[1;32m--> 166\u001b[0m img \u001b[39m=\u001b[39m torch\u001b[39m.\u001b[39mfrom_numpy(np\u001b[39m.\u001b[39marray(pic, mode_to_nptype\u001b[39m.\u001b[39mget(pic\u001b[39m.\u001b[39mmode, np\u001b[39m.\u001b[39muint8), copy\u001b[39m=\u001b[39m\u001b[39mTrue\u001b[39;00m))\n\u001b[0;32m    168\u001b[0m \u001b[39mif\u001b[39;00m pic\u001b[39m.\u001b[39mmode \u001b[39m==\u001b[39m \u001b[39m\"\u001b[39m\u001b[39m1\u001b[39m\u001b[39m\"\u001b[39m:\n\u001b[0;32m    169\u001b[0m     img \u001b[39m=\u001b[39m \u001b[39m255\u001b[39m \u001b[39m*\u001b[39m img\n",
            "\u001b[1;31mKeyboardInterrupt\u001b[0m: "
          ]
        }
      ],
      "source": [
        "import torch\n",
        "import torch.nn as nn\n",
        "import tqdm\n",
        "# from my_scheduler import LR_Scheduler\n",
        "# from swin_ynet import Encoder\n",
        "# from data.dataset_swin_sysu import MyData\n",
        "import torch.optim as optim\n",
        "from torch.utils.data import DataLoader\n",
        "import warnings\n",
        "\n",
        "# warnings.filterwarnings(\"ignore\")\n",
        "\n",
        "\n",
        "# import pytorch_iou\n",
        "# import pytorch_ssim\n",
        "\n",
        "deal = nn.Softmax(dim=1)\n",
        "\n",
        "\n",
        "def all_loss(pred, gt):\n",
        "    ce_loss = nn.CrossEntropyLoss()\n",
        "    ssim_loss = SSIM(window_size=11, size_average=True).cuda()\n",
        "    iou_loss = IOU().cuda()\n",
        "    ce_out = ce_loss(pred, gt.long())\n",
        "    ssim_out = 1 - ssim_loss(deal(pred), gt)\n",
        "    iou_out = iou_loss(deal(pred), gt)\n",
        "    loss = ce_out + ssim_out + iou_out\n",
        "    return loss\n",
        "\n",
        "\n",
        "model = model.train()\n",
        "ce_loss = nn.CrossEntropyLoss()\n",
        "ssim_loss = SSIM(window_size=7, size_average=True).cuda()\n",
        "iou_loss = IOU().cuda()\n",
        "LR = 0.01\n",
        "LR_VGG = 0.00001\n",
        "EPOCH = 80\n",
        "scheduler = LR_Scheduler('cos', LR, EPOCH, 16000 // 10)\n",
        "\n",
        "optimizer = optim.SGD(model.parameters(), lr=LR, momentum=0.9, weight_decay=0.0005, nesterov=False)\n",
        "\n",
        "\n",
        "def make_optimizer(LR, model):\n",
        "    params = []\n",
        "    for key, value in model.named_parameters():\n",
        "        # print(key)\n",
        "        if not value.requires_grad:\n",
        "            continue\n",
        "        if \"encoder1\" in key:\n",
        "            lr = LR * 0.1\n",
        "        else:\n",
        "            lr = LR\n",
        "        params += [{\"params\": [value], \"lr\": lr}]\n",
        "    optimizer = getattr(torch.optim, \"SGD\")(params, momentum=0.9, weight_decay=0.0005, nesterov=False)\n",
        "    return optimizer\n",
        "\n",
        "\n",
        "train_loader = DataLoader(MyData(),\n",
        "                          shuffle=True,\n",
        "                          batch_size=1,\n",
        "                          pin_memory=True,\n",
        "                        #   num_workers=1,\n",
        "                          )\n",
        "\n",
        "losses0 = 0\n",
        "losses1 = 0\n",
        "losses2 = 0\n",
        "losses3 = 0\n",
        "losses4 = 0\n",
        "losses5 = 0\n",
        "losses6 = 0\n",
        "losses7 = 0\n",
        "losses8 = 0\n",
        "losses9 = 0\n",
        "losses10 = 0\n",
        "losses11 = 0\n",
        "\n",
        "print('Train Loader Length: ', len(train_loader))\n",
        "\n",
        "\n",
        "def adjust_learning_rate(optimizer, epoch, start_lr):\n",
        "    if epoch % 20 == 0:  # epoch != 0 and\n",
        "        for param_group in optimizer.param_groups:\n",
        "            param_group[\"lr\"] = param_group[\"lr\"] * 0.1\n",
        "        print(param_group[\"lr\"])\n",
        "\n",
        "\n",
        "loss_least = 100000\n",
        "for epoch_num in range(EPOCH):\n",
        "    print(epoch_num)\n",
        "    adjust_learning_rate(optimizer, epoch_num, LR)\n",
        "    print('LR is:', optimizer.state_dict()['param_groups'][0]['lr'])\n",
        "    show_dict = {'epoch': epoch_num}\n",
        "\n",
        "    loss_all = 0\n",
        "    for i_batch, (im1, im2, label0, label1, label2, label3) in enumerate(\n",
        "            tqdm.tqdm(train_loader, ncols=60, postfix=show_dict)):  # ,edge0,edge1,edge2,edge3\n",
        "        im1 = im1.cuda()\n",
        "        im2 = im2.cuda()\n",
        "        label0 = label0.cuda()\n",
        "        label1 = label1.cuda()\n",
        "        label2 = label2.cuda()\n",
        "        label3 = label3.cuda()\n",
        "\n",
        "        outputs = model(im1, im2)\n",
        "\n",
        "        # assert False\n",
        "        loss0 = ce_loss(outputs[0], label0.float())\n",
        "        loss1 = ce_loss(outputs[1], label1.float())\n",
        "        loss2 = ce_loss(outputs[2], label2.float())\n",
        "        loss3 = ce_loss(outputs[3], label3.float())\n",
        "\n",
        "        loss4 = 1. - ssim_loss(deal(outputs[0]), label0)\n",
        "        loss5 = 1. - ssim_loss(deal(outputs[1]), label1)\n",
        "        loss6 = 1. - ssim_loss(deal(outputs[2]), label2)\n",
        "        loss7 = 1. - ssim_loss(deal(outputs[3]), label3)\n",
        "\n",
        "        loss8 = iou_loss(deal(outputs[0]), label0)\n",
        "        loss9 = iou_loss(deal(outputs[1]), label1)\n",
        "        loss10 = iou_loss(deal(outputs[2]), label2)\n",
        "        loss11 = iou_loss(deal(outputs[3]), label3)\n",
        "\n",
        "        loss = loss0 + loss1 + loss2 + loss3 + loss4 + loss5 + loss6 + loss7 + loss8 + loss9 + loss10 + loss11\n",
        "        loss_all += loss\n",
        "\n",
        "        losses0 += loss0\n",
        "        losses1 += loss1\n",
        "        losses2 += loss2\n",
        "        losses3 += loss3\n",
        "        losses4 += loss4\n",
        "        losses5 += loss5\n",
        "        losses6 += loss6\n",
        "        losses7 += loss7\n",
        "        losses8 += loss8\n",
        "        losses9 += loss9\n",
        "        losses10 += loss10\n",
        "        losses11 += loss11\n",
        "\n",
        "        optimizer.zero_grad()\n",
        "        loss.backward()\n",
        "        optimizer.step()\n",
        "        if i_batch % 100 == 0:\n",
        "            print(i_batch, '|', 'losses0: {:.3f}'.format(losses0.data), '|', 'losses1: {:.3f}'.format(losses1.data),\n",
        "                  '|', 'losses2: {:.3f}'.format(losses2.data), '|', 'losses3: {:.3f}'.format(losses3.data), '|',\n",
        "                  'losses4: {:.3f}'.format(losses4.data), '|', 'losses5: {:.3f}'.format(losses5.data), '|',\n",
        "                  'losses6: {:.3f}'.format(losses6.data), '|', 'losses7: {:.3f}'.format(losses7.data),\n",
        "                  'losses8: {:.3f}'.format(losses8.data), '|', 'losses9: {:.3f}'.format(losses9.data), '|',\n",
        "                  'losses10: {:.3f}'.format(losses10.data), '|', 'losses11: {:.3f}'.format(losses11.data))\n",
        "\n",
        "            losses0 = 0\n",
        "            losses1 = 0\n",
        "            losses2 = 0\n",
        "            losses3 = 0\n",
        "            losses4 = 0\n",
        "            losses5 = 0\n",
        "            losses6 = 0\n",
        "            losses7 = 0\n",
        "            losses8 = 0\n",
        "            losses9 = 0\n",
        "            losses10 = 0\n",
        "            losses11 = 0\n",
        "\n",
        "    if loss_all <= loss_least:\n",
        "        loss_least = loss_all\n",
        "        torch.save(model.state_dict(), 'docdiffV2_rvl.pth')\n",
        "        print('\\n', 'epoch:', epoch_num, 'epoch loss:', loss_all)"
      ]
    },
    {
      "cell_type": "code",
      "execution_count": 327,
      "metadata": {},
      "outputs": [],
      "source": [
        "import pickle\n",
        "pickle.dump(model, open('DocDiff(varying_translations).pkl', 'wb'))\n",
        "torch.save(model.state_dict(), 'DocDiff(varying_translation).pth')"
      ]
    },
    {
      "cell_type": "code",
      "execution_count": 144,
      "metadata": {},
      "outputs": [
        {
          "data": {
            "text/plain": [
              "<All keys matched successfully>"
            ]
          },
          "execution_count": 144,
          "metadata": {},
          "output_type": "execute_result"
        }
      ],
      "source": [
        "model.load_state_dict(torch.load('docdiffV2_rvl.pth'))"
      ]
    },
    {
      "cell_type": "code",
      "execution_count": 145,
      "metadata": {
        "colab": {
          "base_uri": "https://localhost:8080/"
        },
        "id": "DKeTYMNPprU9",
        "outputId": "747a2db4-4aa4-4961-8e16-fcd7a2dc263c"
      },
      "outputs": [],
      "source": [
        "# Redefine datasets to include org images and labels\n",
        "\n",
        "\n",
        "class MyData(Dataset):\n",
        "    def __init__(self):\n",
        "        super(MyData, self).__init__()\n",
        "        self.train_im_path1 = 'generated_data/small_dataset_thick_labels/train/A'\n",
        "        self.train_im_path2 = 'generated_data/small_dataset_thick_labels/train/B'\n",
        "        self.train_lb_path = 'generated_data/small_dataset_thick_labels/train/label'\n",
        "        self.names = os.listdir(self.train_im_path1)\n",
        "        self.train_im_num = len(self.names)\n",
        "\n",
        "    def __len__(self):\n",
        "        return self.train_im_num\n",
        "\n",
        "    def __getitem__(self, index):\n",
        "        img_file1 = os.path.join(self.train_im_path1, self.names[index])\n",
        "        img1 = left = Image.open(img_file1)\n",
        "        img_file2 = os.path.join(self.train_im_path2, self.names[index])\n",
        "        img2 = right = Image.open(img_file2)\n",
        "        label = os.path.join(self.train_lb_path, self.names[index])\n",
        "        label = org_label = Image.open(label)\n",
        "\n",
        "        im1, im2, lb0, lb1, lb2, lb3 = self.transform(img1, img2, label)\n",
        "\n",
        "        return im1, im2, lb0, lb1, lb2, lb3, np.array(left), np.array(right), np.array(org_label)  # ,lb4,lb5,lb6,lb7#,edge0,edge1,edge2,edge3\n",
        "\n",
        "    def transform(self, img1, img2, label):\n",
        "        transform_img = transforms.Compose([transforms.Resize((224, 224), Image.NEAREST),\n",
        "                                            transforms.Grayscale(num_output_channels=3),\n",
        "                                            transforms.ToTensor(),\n",
        "                                            ])\n",
        "        transform_img_4 = transforms.Compose([transforms.Resize((56, 56), Image.NEAREST),\n",
        "                                              transforms.ToTensor(),\n",
        "                                              ])\n",
        "        transform_img_8 = transforms.Compose([transforms.Resize((28, 28), Image.NEAREST),\n",
        "                                              transforms.ToTensor(),\n",
        "                                              ])\n",
        "        transform_img_16 = transforms.Compose([transforms.Resize((14, 14), Image.NEAREST),\n",
        "                                               transforms.ToTensor(),\n",
        "                                               ])\n",
        "        transform_label = transforms.Compose([transforms.Resize((224, 224), Image.NEAREST),\n",
        "                                            transforms.ToTensor(),\n",
        "                                            ])\n",
        "\n",
        "        im1 = transform_img(img1)\n",
        "        im2 = transform_img(img2) # Changed from transform_img_2 because that normalization seems dataset specific\n",
        "        label0 = transform_label(label)\n",
        "        label_4 = transform_img_4(label)\n",
        "        label_8 = transform_img_8(label)\n",
        "        label_16 = transform_img_16(label)\n",
        "        return im1, im2, label0, label_4, label_8, label_16\n",
        "\n",
        "\n",
        "class MyTestData(Dataset):\n",
        "    def __init__(self):\n",
        "        super(MyTestData, self).__init__()\n",
        "        self.train_im_path1 = 'generated_data/small_dataset_thick_labels/test/A'\n",
        "        self.train_im_path2 = 'generated_data/small_dataset_thick_labels/test/B'\n",
        "        self.train_lb_path = 'generated_data/small_dataset_thick_labels/test/label'\n",
        "        self.names = os.listdir(self.train_im_path1)\n",
        "        self.train_im_num = len(self.names)\n",
        "\n",
        "    def __len__(self):\n",
        "        return self.train_im_num\n",
        "\n",
        "    def __getitem__(self, index):\n",
        "        img_file1 = os.path.join(self.train_im_path1, self.names[index])\n",
        "        img1 = left = Image.open(img_file1)\n",
        "        img_file2 = os.path.join(self.train_im_path2, self.names[index])\n",
        "        img2 = right = Image.open(img_file2)\n",
        "        label = os.path.join(self.train_lb_path, self.names[index])\n",
        "        label = org_label = Image.open(label)\n",
        "\n",
        "        im1, im2, label = self.transform(img1, img2, label)\n",
        "        return im1, im2, label, np.array(left), np.array(right), np.array(org_label)\n",
        "\n",
        "    def transform(self, img1, img2, label):\n",
        "        transform_img = transforms.Compose([transforms.Resize((224, 224), Image.NEAREST),\n",
        "                                            transforms.Grayscale(num_output_channels=3),\n",
        "                                            transforms.ToTensor(),\n",
        "                                            ])\n",
        "        transform_label = transforms.Compose([transforms.Resize((224, 224), Image.NEAREST),\n",
        "                                            transforms.ToTensor(),\n",
        "                                            ])\n",
        "        im1 = transform_img(img1)\n",
        "        im2 = transform_img(img2)\n",
        "        label = transform_label(label)\n",
        "        return im1, im2, label"
      ]
    },
    {
      "cell_type": "code",
      "execution_count": 155,
      "metadata": {
        "colab": {
          "base_uri": "https://localhost:8080/",
          "height": 1000
        },
        "id": "ozJXLU4LV6f6",
        "outputId": "3795ee69-0d65-4c94-aa02-ce5ed5b92a42"
      },
      "outputs": [],
      "source": [
        "# model = Encoder().cuda()\n",
        "# model.load_state_dict(torch.load('levir_swin.pth'))\n",
        "import cv2\n",
        "\n",
        "test_loader = DataLoader(MyTestData(), shuffle=True, batch_size=1)\n",
        "train_loader = DataLoader(MyData(), shuffle=True, batch_size=1)\n",
        "\n",
        "# outPath = 'docDiff'\n",
        "# if os.path.exists(outPath):\n",
        "#     shutil.rmtree(outPath)\n",
        "# os.mkdir(outPath)\n",
        "\n",
        "deal = nn.Softmax(dim=0)\n",
        "\n",
        "with torch.no_grad():\n",
        "    model = model.eval()\n",
        "    for i, (im1, im2, label0, label1, label2, label3, left, right, label) in enumerate(train_loader):\n",
        "        im1_cuda = im1.cuda()\n",
        "        im2_cuda = im2.cuda()\n",
        "\n",
        "        output = model(im1_cuda, im2_cuda)\n",
        "        output = deal(output[0][0]).cpu().numpy()\n",
        "        pred_left_changes = (cv2.resize(output[1,:,:], (754, 1000), interpolation = cv2.INTER_AREA)*255).astype(np.uint8)\n",
        "        pred_right_changes = (cv2.resize(output[0,:,:], (754, 1000), interpolation = cv2.INTER_AREA)*255).astype(np.uint8)\n",
        "\n",
        "        label0 = label0.cpu().numpy().squeeze()\n",
        "        left_changes = (cv2.resize(label0[1,:,:], (754, 1000), interpolation = cv2.INTER_AREA)*255).astype(np.uint8)\n",
        "        right_changes = (cv2.resize(label0[0,:,:], (754, 1000), interpolation = cv2.INTER_AREA)*255).astype(np.uint8)\n",
        "        \n",
        "        # output = output.argmax(axis=0)\n",
        "        # label = label.argmax(axis=0)\n",
        "\n",
        "        im1 = im1.squeeze().cpu().numpy()[0,:,:]\n",
        "        im2 = im2.squeeze().cpu().numpy()[0,:,:]\n",
        "        break\n",
        "\n",
        "# with torch.no_grad():\n",
        "#     model = model.eval()\n",
        "#     for i, (im1, im2, label0, left, right, label) in enumerate(test_loader):\n",
        "#         im1_cuda = im1.cuda()\n",
        "#         im2_cuda = im2.cuda()\n",
        "\n",
        "#         output = model(im1_cuda, im2_cuda)\n",
        "#         output = deal(output[0][0]).cpu().numpy()\n",
        "        \n",
        "#         out_class = output.argmax(axis=0)\n",
        "#         # bianry classification of left and right\n",
        "#         class_left = (cv2.resize((out_class==1).astype(float), (754, 1000), interpolation = cv2.INTER_AREA)*255).astype(bool)\n",
        "#         class_right = (cv2.resize((out_class==0).astype(float), (754, 1000), interpolation = cv2.INTER_AREA)*255).astype(bool)\n",
        "\n",
        "#         pred_left_changes = (cv2.resize(output[1,:,:], (754, 1000), interpolation = cv2.INTER_AREA)*255).astype(np.uint8)\n",
        "#         pred_left_changes[~class_left] = 0\n",
        "\n",
        "#         pred_right_changes = (cv2.resize(output[0,:,:], (754, 1000), interpolation = cv2.INTER_AREA)*255).astype(np.uint8)\n",
        "#         pred_right_changes[~class_right] = 0\n",
        "\n",
        "#         label0 = label0.cpu().numpy().squeeze()\n",
        "#         left_changes = (cv2.resize(label0[1,:,:], (754, 1000), interpolation = cv2.INTER_AREA)*255).astype(np.uint8)\n",
        "#         right_changes = (cv2.resize(label0[0,:,:], (754, 1000), interpolation = cv2.INTER_AREA)*255).astype(np.uint8)\n",
        "        \n",
        "#         # output = output.argmax(axis=0)\n",
        "#         # label = label.argmax(axis=0)\n",
        "\n",
        "#         im1 = im1.squeeze().cpu().numpy()[0,:,:]\n",
        "#         im2 = im2.squeeze().cpu().numpy()[0,:,:]\n",
        "#         break\n",
        "\n",
        "\n",
        "left_img = left.numpy().squeeze().astype(np.uint8)\n",
        "right_img = right.numpy().squeeze().astype(np.uint8)"
      ]
    },
    {
      "cell_type": "code",
      "execution_count": 53,
      "metadata": {},
      "outputs": [],
      "source": [
        "import matplotlib.pyplot as plt\n",
        "\n",
        "def to_heatmap(img_gray):\n",
        "    kernel = np.ones((3,3),np.float32)/25\n",
        "    img_gray = cv2.filter2D(img_gray,-1,kernel)\n",
        "\n",
        "    colormap = plt.get_cmap('jet')\n",
        "    heatmap = colormap(img_gray/img_gray.max())\n",
        "    heatmap[:,:,3] = img_gray\n",
        "    return (heatmap*255).astype(np.uint8)\n",
        "\n",
        "def overlay_heatmap(img, heatmap):\n",
        "    #make mask of where the transparent bits are\n",
        "    trans_mask = heatmap[:,:,3] == 0\n",
        "\n",
        "    #replace areas of transparency with white and not transparent\n",
        "    heatmap[trans_mask] = [255, 255, 255, 255]\n",
        "\n",
        "    heatmap[img!=0] = [0, 0, 0, 255]\n",
        "\n",
        "    return heatmap\n",
        "\n",
        "def blur(gray_img, kernel_size=3):\n",
        "    kernel = np.ones((kernel_size,kernel_size),np.float32)/25\n",
        "    gray_img = cv2.filter2D(gray_img,-1,kernel)\n",
        "\n",
        "    return gray_img\n",
        "\n",
        "def visualize_changes(left, right, left_changes, right_changes,blur_size=3):\n",
        "    left_heatmap = to_heatmap(blur(left_changes, kernel_size=blur_size))\n",
        "    right_heatmap = to_heatmap(blur(right_changes, kernel_size=blur_size))\n",
        "\n",
        "    left_viz = overlay_heatmap(left, left_heatmap)\n",
        "    right_viz = overlay_heatmap(right, right_heatmap)\n",
        "\n",
        "\n",
        "    combined = np.hstack((left_viz, right_viz))\n",
        "    center_line_width = 3\n",
        "    line_start = (combined.shape[1] - center_line_width)//2\n",
        "    combined[:,line_start:line_start+center_line_width] = [0, 0, 0, 255]\n",
        "\n",
        "    return Image.fromarray(combined)"
      ]
    },
    {
      "cell_type": "code",
      "execution_count": 156,
      "metadata": {},
      "outputs": [
        {
          "data": {
            "image/png": "[encoded data removed]",
            "text/plain": [
              "<PIL.Image.Image image mode=RGBA size=1508x1000>"
            ]
          },
          "execution_count": 156,
          "metadata": {},
          "output_type": "execute_result"
        }
      ],
      "source": [
        "visualize_changes(left_img, right_img, pred_left_changes, pred_right_changes, blur_size=10)"
      ]
    },
    {
      "cell_type": "code",
      "execution_count": 157,
      "metadata": {},
      "outputs": [
        {
          "data": {
            "image/png": "[encoded data removed]",
            "text/plain": [
              "<PIL.Image.Image image mode=RGBA size=1508x1000>"
            ]
          },
          "execution_count": 157,
          "metadata": {},
          "output_type": "execute_result"
        }
      ],
      "source": [
        "visualize_changes(left_img, right_img, left_changes, right_changes, blur_size=10)"
      ]
    },
    {
      "cell_type": "code",
      "execution_count": 56,
      "metadata": {
        "colab": {
          "base_uri": "https://localhost:8080/",
          "height": 1000
        },
        "id": "jJByDWInr8RY",
        "outputId": "41dfa3b7-e5df-463c-9506-583c72426310"
      },
      "outputs": [
        {
          "data": {
            "image/png": "[encoded data removed]",
            "text/plain": [
              "<PIL.Image.Image image mode=L size=1508x1000>"
            ]
          },
          "execution_count": 56,
          "metadata": {},
          "output_type": "execute_result"
        }
      ],
      "source": [
        "Image.fromarray(np.hstack((pred_left_changes, left_changes)))"
      ]
    },
    {
      "cell_type": "code",
      "execution_count": 57,
      "metadata": {
        "colab": {
          "base_uri": "https://localhost:8080/",
          "height": 1000
        },
        "id": "6FyaqRzlj_jm",
        "outputId": "ed58522c-adbe-4135-a390-f9c5cbb52d60"
      },
      "outputs": [
        {
          "data": {
            "image/png": "[encoded data removed]",
            "text/plain": [
              "<PIL.Image.Image image mode=L size=1508x1000>"
            ]
          },
          "execution_count": 57,
          "metadata": {},
          "output_type": "execute_result"
        }
      ],
      "source": [
        "Image.fromarray(np.hstack((pred_right_changes, right_changes)))"
      ]
    },
    {
      "cell_type": "code",
      "execution_count": null,
      "metadata": {},
      "outputs": [],
      "source": [
        "Image.fromarray(np.hstack((left_img, right_img))).save('left_right_ex.png')\n",
        "Image.fromarray(np.hstack((pred_left_changes**2, left_changes))).save('left_changes_ex.png')\n",
        "Image.fromarray(np.hstack((pred_right_changes**2, right_changes))).save('right_changes_ex.png')"
      ]
    },
    {
      "attachments": {},
      "cell_type": "markdown",
      "metadata": {},
      "source": [
        "# Try real Docs"
      ]
    },
    {
      "cell_type": "code",
      "execution_count": 229,
      "metadata": {},
      "outputs": [
        {
          "data": {
            "text/plain": [
              "<All keys matched successfully>"
            ]
          },
          "execution_count": 229,
          "metadata": {},
          "output_type": "execute_result"
        }
      ],
      "source": [
        "model.load_state_dict(torch.load('docdiff.pth'))"
      ]
    },
    {
      "cell_type": "code",
      "execution_count": 163,
      "metadata": {},
      "outputs": [
        {
          "data": {
            "image/png": "[encoded data removed]",
            "text/plain": [
              "<PIL.Image.Image image mode=RGBA size=1508x1000>"
            ]
          },
          "execution_count": 163,
          "metadata": {},
          "output_type": "execute_result"
        }
      ],
      "source": [
        "from pdf2image import convert_from_path\n",
        "\n",
        "def filter_small_blobs(thresh, min_size=100):\n",
        "    num_labels, labels, stats, centroids = cv2.connectedComponentsWithStats(thresh, connectivity=4)\n",
        "    new_thresh = thresh.copy()\n",
        "    for i in range(1, num_labels):\n",
        "        blob = labels == i\n",
        "        if blob.sum() <= min_size:\n",
        "            new_thresh[blob] = 0\n",
        "\n",
        "    return new_thresh\n",
        "\n",
        "def convert_to_binary(img):\n",
        "    gray = cv2.cvtColor(img, cv2.COLOR_BGR2GRAY)\n",
        "    ret, thresh = cv2.threshold(gray, 0, 255, cv2.THRESH_BINARY_INV + cv2.THRESH_OTSU)\n",
        "\n",
        "    return thresh\n",
        "\n",
        "def get_image(path):\n",
        "    img = np.array(convert_from_path(path, dpi=200, poppler_path=\"C:\\\\Users\\\\bberg\\\\development\\\\PDF-comparison-algorithm\\\\poppler-0.68.0\\\\bin\")[0])\n",
        "    img = cv2.resize(img, (754, 1000), interpolation = cv2.INTER_NEAREST)\n",
        "    thresh = convert_to_binary(img)\n",
        "    \n",
        "    # kernel = np.ones((1,2))\n",
        "    # thresh = cv2.dilate(thresh, kernel, iterations=1)\n",
        "\n",
        "    # thresh = filter_small_blobs(thresh, min_size=5)\n",
        "\n",
        "    return thresh\n",
        "\n",
        "\n",
        "# Claim Overpayment\n",
        "# left = get_image('C:\\\\Users\\\\bberg\\\\development\\\\PDF-comparison-algorithm\\\\test_docs\\\\2107132377435_179096423_CLAIM_OVERPAYMENT_CY.pdf')\n",
        "# right = get_image('C:\\\\Users\\\\bberg\\\\development\\\\PDF-comparison-algorithm\\\\test_docs\\\\2107132377435_179096423_CLAIM_OVERPAYMENT_Q.pdf')\n",
        "\n",
        "# PROD_P\n",
        "# left = get_image('C:\\\\Users\\\\bberg\\\\development\\\\PDF-comparison-algorithm\\\\test_docs\\\\2302232394007_PROD_P_596931528_CY.pdf')\n",
        "# right = get_image('C:\\\\Users\\\\bberg\\\\development\\\\PDF-comparison-algorithm\\\\test_docs\\\\2302232394007_PROD_P_596931528_Q.pdf')\n",
        "\n",
        "# DDS EOB\n",
        "# left = get_image('C:\\\\Users\\\\bberg\\\\development\\\\PDF-comparison-algorithm\\\\test_docs\\\\2303295843136_DDS_PRED_598443148_CY.pdf')\n",
        "# right = get_image('C:\\\\Users\\\\bberg\\\\development\\\\PDF-comparison-algorithm\\\\test_docs\\\\2303295843136_DDS_PRED_598443148_Q.pdf')\n",
        "\n",
        "# Check Void\n",
        "# left = get_image('C:\\\\Users\\\\bberg\\\\development\\\\PDF-comparison-algorithm\\\\test_docs\\\\199834444_3448471_CHECK_VOID_CY.pdf')\n",
        "# right = get_image('C:\\\\Users\\\\bberg\\\\development\\\\PDF-comparison-algorithm\\\\test_docs\\\\199834444_3448471_CHECK_VOID_Q.pdf') # good\n",
        "\n",
        "# checks base and target\n",
        "# left = get_image('C:\\\\Users\\\\bberg\\\\development\\\\PDF-comparison-algorithm\\\\test_docs\\\\Checks_Base1.pdf')\n",
        "# right = get_image('C:\\\\Users\\\\bberg\\\\development\\\\PDF-comparison-algorithm\\\\test_docs\\\\Checks_Target1.pdf')\n",
        "\n",
        "# Overpayment\n",
        "# left = get_image('C:\\\\Users\\\\bberg\\\\development\\\\PDF-comparison-algorithm\\\\test_docs\\\\2212162521760_197943258_OPAY_CY.pdf')\n",
        "# right = get_image('C:\\\\Users\\\\bberg\\\\development\\\\PDF-comparison-algorithm\\\\test_docs\\\\2212162521760_197943258_OPAY_Q.pdf')\n",
        "\n",
        "# left = cv2.resize(left, (754, 1000), interpolation = cv2.INTER_NEAREST)\n",
        "# right = cv2.resize(right, (754, 1000), interpolation = cv2.INTER_NEAREST)\n",
        "\n",
        "# left, left_gray = convert_to_binary(left)\n",
        "# right, right_gray = convert_to_binary(right)\n",
        "\n",
        "transform_img = transforms.Compose([transforms.Resize((224, 224), Image.NEAREST),\n",
        "                                            transforms.Grayscale(num_output_channels=3),\n",
        "                                            transforms.ToTensor(),\n",
        "                                            ])\n",
        "\n",
        "left_cuda = transform_img(Image.fromarray(left)).cuda().unsqueeze(0)\n",
        "right_cuda = transform_img(Image.fromarray(right)).cuda().unsqueeze(0)\n",
        "\n",
        "deal = nn.Sigmoid()\n",
        "deal = nn.Softmax(dim=0)\n",
        "\n",
        "with torch.no_grad():\n",
        "    model = model.eval()\n",
        "    output = model(left_cuda, right_cuda)\n",
        "    output = deal(output[0][0]).cpu().numpy()\n",
        "    \n",
        "    out_class = output.argmax(axis=0)\n",
        "    # bianry classification of left and right\n",
        "    class_left = (cv2.resize((out_class==1).astype(float), (754, 1000), interpolation = cv2.INTER_AREA)*255).astype(bool)\n",
        "    class_right = (cv2.resize((out_class==0).astype(float), (754, 1000), interpolation = cv2.INTER_AREA)*255).astype(bool)\n",
        "\n",
        "    pred_left_changes = (cv2.resize(output[1,:,:], (754, 1000), interpolation = cv2.INTER_AREA)*255).astype(np.uint8)\n",
        "    pred_left_changes[~class_left] = 0\n",
        "\n",
        "    pred_right_changes = (cv2.resize(output[0,:,:], (754, 1000), interpolation = cv2.INTER_AREA)*255).astype(np.uint8)\n",
        "    pred_right_changes[~class_right] = 0\n",
        "\n",
        "    # pred_left_changes = (cv2.resize(output[1,:,:], (754, 1000), interpolation = cv2.INTER_AREA)*255).astype(np.uint8)\n",
        "    # pred_right_changes = (cv2.resize(output[0,:,:], (754, 1000), interpolation = cv2.INTER_AREA)*255).astype(np.uint8)\n",
        "\n",
        "# label0 = label0.cpu().numpy().squeeze()\n",
        "left_changes = (cv2.resize(label0[1,:,:], (754, 1000), interpolation = cv2.INTER_AREA)*255).astype(np.uint8)\n",
        "right_changes = (cv2.resize(label0[0,:,:], (754, 1000), interpolation = cv2.INTER_AREA)*255).astype(np.uint8)\n",
        "\n",
        "visualize_changes(left, right, pred_left_changes, pred_right_changes, blur_size=5)"
      ]
    },
    {
      "cell_type": "code",
      "execution_count": 70,
      "metadata": {},
      "outputs": [
        {
          "data": {
            "image/png": "[encoded data removed]",
            "text/plain": [
              "<PIL.Image.Image image mode=L size=754x1000>"
            ]
          },
          "execution_count": 70,
          "metadata": {},
          "output_type": "execute_result"
        }
      ],
      "source": [
        "Image.fromarray(cv2.bitwise_not(left))"
      ]
    },
    {
      "cell_type": "code",
      "execution_count": 94,
      "metadata": {},
      "outputs": [
        {
          "data": {
            "image/png": "[encoded data removed]",
            "text/plain": [
              "<PIL.Image.Image image mode=RGB size=224x224>"
            ]
          },
          "execution_count": 94,
          "metadata": {},
          "output_type": "execute_result"
        }
      ],
      "source": [
        "left_small = left_cuda.cpu().numpy().squeeze().transpose((2, 1, 0)).astype(float)*255\n",
        "# left_small = cv2.bitwise_not(left_small*255)\n",
        "left_small = cv2.bitwise_not(left_small.astype(np.uint8))"
      ]
    }
  ],
  "metadata": {
    "accelerator": "GPU",
    "colab": {
      "gpuType": "T4",
      "provenance": []
    },
    "gpuClass": "standard",
    "kernelspec": {
      "display_name": "Python 3",
      "name": "python3"
    },
    "language_info": {
      "codemirror_mode": {
        "name": "ipython",
        "version": 3
      },
      "file_extension": ".py",
      "mimetype": "text/x-python",
      "name": "python",
      "nbconvert_exporter": "python",
      "pygments_lexer": "ipython3",
      "version": "3.11.3"
    }
  },
  "nbformat": 4,
  "nbformat_minor": 0
}
